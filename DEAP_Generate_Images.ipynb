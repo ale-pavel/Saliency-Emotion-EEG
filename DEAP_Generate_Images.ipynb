{
 "cells": [
  {
   "cell_type": "code",
   "execution_count": 1,
   "id": "d1a86a7e",
   "metadata": {},
   "outputs": [],
   "source": [
    "from Utils_Bashivan import *"
   ]
  },
  {
   "cell_type": "code",
   "execution_count": 2,
   "id": "e9097492",
   "metadata": {},
   "outputs": [],
   "source": [
    "import numpy as np"
   ]
  },
  {
   "cell_type": "markdown",
   "id": "d4237c76",
   "metadata": {},
   "source": [
    "3D sensors locations on the scalp, to be converted to 2D later."
   ]
  },
  {
   "cell_type": "code",
   "execution_count": 3,
   "id": "88ba3e65",
   "metadata": {},
   "outputs": [],
   "source": [
    "locs = np.load('Electroloc/Neuro_loc_DEAP.npy')"
   ]
  },
  {
   "cell_type": "code",
   "execution_count": 4,
   "id": "8690057b",
   "metadata": {},
   "outputs": [
    {
     "data": {
      "text/plain": [
       "(32, 3)"
      ]
     },
     "execution_count": 4,
     "metadata": {},
     "output_type": "execute_result"
    }
   ],
   "source": [
    "locs.shape"
   ]
  },
  {
   "cell_type": "code",
   "execution_count": 5,
   "id": "47393da8",
   "metadata": {},
   "outputs": [
    {
     "data": {
      "text/plain": [
       "array([[-28.23010227, 102.26294022,  31.73459731],\n",
       "       [-32.32332412,  97.52191223,  59.21113179],\n",
       "       [-48.18205131,  76.34876907,  80.94883837],\n",
       "       [-67.35513444,  62.32957061,  30.46685071],\n",
       "       [-74.02481482,  42.12832367,  66.46981722]])"
      ]
     },
     "execution_count": 5,
     "metadata": {},
     "output_type": "execute_result"
    }
   ],
   "source": [
    "locs[:5]"
   ]
  },
  {
   "cell_type": "code",
   "execution_count": 6,
   "id": "0b9ae072",
   "metadata": {},
   "outputs": [],
   "source": [
    "deap_path = '../../datasets/DEAP/merged/'\n",
    "save_path = '../../datasets/DEAP/image_generation'"
   ]
  },
  {
   "cell_type": "code",
   "execution_count": 7,
   "id": "a3fc15c0",
   "metadata": {},
   "outputs": [
    {
     "data": {
      "text/plain": [
       "(1280, 40, 8064)"
      ]
     },
     "execution_count": 7,
     "metadata": {},
     "output_type": "execute_result"
    }
   ],
   "source": [
    "X = np.load(deap_path + 'deap_data.npy')\n",
    "X.shape"
   ]
  },
  {
   "cell_type": "code",
   "execution_count": 8,
   "id": "7916ed38",
   "metadata": {},
   "outputs": [
    {
     "data": {
      "text/plain": [
       "(1280, 3)"
      ]
     },
     "execution_count": 8,
     "metadata": {},
     "output_type": "execute_result"
    }
   ],
   "source": [
    "y = np.load(deap_path + 'deap_full_labels.npy')\n",
    "y.shape"
   ]
  },
  {
   "cell_type": "markdown",
   "id": "a8ac96e0",
   "metadata": {},
   "source": [
    "Use only EEG channels"
   ]
  },
  {
   "cell_type": "code",
   "execution_count": 9,
   "id": "5ee7d132",
   "metadata": {},
   "outputs": [],
   "source": [
    "X_eeg = X[:, :32, :]"
   ]
  },
  {
   "cell_type": "markdown",
   "id": "82afb12b",
   "metadata": {},
   "source": [
    "Conversion of 3D to 2D coordinates (Azimuthal Equidistant Projection)"
   ]
  },
  {
   "cell_type": "code",
   "execution_count": 10,
   "id": "0a12234b",
   "metadata": {},
   "outputs": [],
   "source": [
    "n_gridpoints = 32"
   ]
  },
  {
   "cell_type": "code",
   "execution_count": 11,
   "id": "131cb54b",
   "metadata": {},
   "outputs": [
    {
     "data": {
      "text/plain": [
       "(32, 2)"
      ]
     },
     "execution_count": 11,
     "metadata": {},
     "output_type": "execute_result"
    }
   ],
   "source": [
    "locs_2d = np.empty((locs.shape[0], 2))\n",
    "locs_2d.shape"
   ]
  },
  {
   "cell_type": "code",
   "execution_count": 12,
   "id": "82f1caaf",
   "metadata": {},
   "outputs": [],
   "source": [
    "for i, sensor_location in enumerate(locs):\n",
    "    locs_2d[i] = azim_proj(sensor_location)"
   ]
  },
  {
   "cell_type": "code",
   "execution_count": 13,
   "id": "dd074199",
   "metadata": {},
   "outputs": [
    {
     "data": {
      "text/plain": [
       "array([[-0.34064478,  1.23397841],\n",
       "       [-0.3297067 ,  0.99475002],\n",
       "       [-0.44821694,  0.71023983],\n",
       "       [-0.91763312,  0.84916582],\n",
       "       [-0.78925268,  0.44917225]])"
      ]
     },
     "execution_count": 13,
     "metadata": {},
     "output_type": "execute_result"
    }
   ],
   "source": [
    "locs_2d[:5]"
   ]
  },
  {
   "cell_type": "markdown",
   "id": "2284c27a",
   "metadata": {},
   "source": [
    "For the features parameter the PSD (Power Spectral Density) of each channel must be computed. For each channel there will be N frequency bands, so the features shape will be (n_samples, n_channels * N)\n",
    "\n",
    "https://mne.tools/stable/generated/mne.time_frequency.psd_multitaper.html\n",
    "\n",
    "https://mne.tools/stable/generated/mne.time_frequency.psd_array_multitaper.html\n",
    "\n",
    "https://mne.tools/stable/generated/mne.filter.resample.html"
   ]
  },
  {
   "cell_type": "code",
   "execution_count": 14,
   "id": "06522e1e",
   "metadata": {},
   "outputs": [],
   "source": [
    "import mne"
   ]
  },
  {
   "cell_type": "code",
   "execution_count": 15,
   "id": "0707113b",
   "metadata": {},
   "outputs": [],
   "source": [
    "# def compute_psd(epoch, fmin=-1., fmax=60.):\n",
    "#     psds, freqs = psd_multitaper(epoch, fmin=fmin, fmax=fmax, n_jobs=10, verbose=50)\n",
    "#     return resample(psds, num=1500, axis=2)[0, :]"
   ]
  },
  {
   "cell_type": "markdown",
   "id": "4ffb1208",
   "metadata": {},
   "source": [
    "Compute PSD for participant 2, as an example\n",
    "\n",
    "Final features shape should be (n_samples, n_features), where n_samples = 1280 (32 subjs * 40 trials) and n_features = 40 * X (40 channels and X frequency bands)\n",
    "\n",
    "For each frequency band (which are 5) the paper states to compute the square sum of the frequencies involved, to get a single value. This implementation uses the average."
   ]
  },
  {
   "cell_type": "code",
   "execution_count": 16,
   "id": "e5596cbb",
   "metadata": {},
   "outputs": [],
   "source": [
    "psds, freqs = mne.time_frequency.psd_array_multitaper(X_eeg[1], sfreq=128, fmin=-1., fmax=60., verbose=50)"
   ]
  },
  {
   "cell_type": "code",
   "execution_count": 17,
   "id": "4ba4275b",
   "metadata": {},
   "outputs": [],
   "source": [
    "# psds_resample = mne.filter.resample(psds, axis=1)"
   ]
  },
  {
   "cell_type": "markdown",
   "id": "88561c67",
   "metadata": {},
   "source": [
    "Here psd_array_multitaper computer the psds for every channel and assembled it together, later only one channel at a time will be calculated with the Welch method"
   ]
  },
  {
   "cell_type": "code",
   "execution_count": 18,
   "id": "26c9b1b9",
   "metadata": {},
   "outputs": [
    {
     "name": "stdout",
     "output_type": "stream",
     "text": [
      "(32, 3781)\n",
      "(3781,)\n"
     ]
    }
   ],
   "source": [
    "print(psds.shape)\n",
    "print(freqs.shape)"
   ]
  },
  {
   "cell_type": "code",
   "execution_count": 19,
   "id": "82d6a119",
   "metadata": {},
   "outputs": [],
   "source": [
    "#print(*freqs, sep='\\t')"
   ]
  },
  {
   "cell_type": "code",
   "execution_count": 20,
   "id": "46a950b3",
   "metadata": {},
   "outputs": [],
   "source": [
    "import matplotlib.pyplot as plt\n",
    "import seaborn as sns\n",
    "%matplotlib inline"
   ]
  },
  {
   "cell_type": "code",
   "execution_count": 21,
   "id": "0e45d2d9",
   "metadata": {},
   "outputs": [
    {
     "data": {
      "image/png": "[encoded data removed]",
      "text/plain": [
       "<Figure size 800x400 with 1 Axes>"
      ]
     },
     "metadata": {},
     "output_type": "display_data"
    }
   ],
   "source": [
    "# Plot the power spectrum\n",
    "sns.set(font_scale=1.2, style='white')\n",
    "plt.figure(figsize=(8, 4))\n",
    "plt.plot(freqs, psds[0], color='k', lw=2)\n",
    "plt.xlabel('Frequency (Hz)')\n",
    "plt.ylabel('Power spectral density (V^2 / Hz)')\n",
    "plt.ylim([0, psds[0].max() * 1.1])\n",
    "plt.title(\"Multitaper Periodogram (channel 1, subject 2)\")\n",
    "plt.xlim([0, freqs.max()])\n",
    "sns.despine()"
   ]
  },
  {
   "cell_type": "markdown",
   "id": "5216be1f",
   "metadata": {},
   "source": [
    "Trying Welch method for PSD\n",
    "\n",
    "https://mne.tools/stable/generated/mne.time_frequency.psd_array_welch.html\n",
    "\n",
    "https://mne.tools/stable/generated/mne.time_frequency.psd_welch.html\n",
    "\n",
    "https://sapienlabs.org/lab-talk/factors-that-impact-power-spectrum-density-estimation/\n",
    "\n",
    "should n_fft be changed from 256 to 8192? (higher power of 2 number from X number of time samples, 8064). Also n_per_seg was 4*sfreq, now set equal to n_fft."
   ]
  },
  {
   "cell_type": "code",
   "execution_count": 22,
   "id": "2f69188b",
   "metadata": {},
   "outputs": [],
   "source": [
    "psds_w, freqs_w = mne.time_frequency.psd_array_welch(X_eeg[1, 0], sfreq=128, fmin=-1., fmax=60., n_fft=1024,\n",
    "                                                          n_overlap=0, n_per_seg=None, average='mean', verbose=50)"
   ]
  },
  {
   "cell_type": "code",
   "execution_count": 23,
   "id": "4479774a",
   "metadata": {},
   "outputs": [
    {
     "name": "stdout",
     "output_type": "stream",
     "text": [
      "(481,)\n",
      "(481,)\n"
     ]
    }
   ],
   "source": [
    "print(psds_w.shape)\n",
    "print(freqs_w.shape)"
   ]
  },
  {
   "cell_type": "code",
   "execution_count": 24,
   "id": "668fc346",
   "metadata": {},
   "outputs": [
    {
     "data": {
      "image/png": "[encoded data removed]",
      "text/plain": [
       "<Figure size 800x400 with 1 Axes>"
      ]
     },
     "metadata": {},
     "output_type": "display_data"
    }
   ],
   "source": [
    "# Plot the power spectrum\n",
    "sns.set(font_scale=1.2, style='white')\n",
    "plt.figure(figsize=(8, 4))\n",
    "plt.plot(freqs_w, psds_w, color='k', lw=2)\n",
    "plt.xlabel('Frequency (Hz)')\n",
    "plt.ylabel('Power spectral density (V^2 / Hz)')\n",
    "plt.ylim([0, psds_w.max() * 1.1])\n",
    "plt.title(\"Welch Periodogram (channel 1, subject 2)\")\n",
    "plt.xlim([0, freqs_w.max()])\n",
    "sns.despine()"
   ]
  },
  {
   "cell_type": "code",
   "execution_count": 25,
   "id": "2ba2245a",
   "metadata": {},
   "outputs": [],
   "source": [
    "bands = [4, 8, 10, 12, 30, 60] # 5 frequency bands: theta, slow alpha, alpha, beta, gamma (DEAP paper, Saliency too?)\n",
    "\n",
    "# DEAP: theta (4-8 Hz), slow alpha (8-10 Hz), alpha (8-12 Hz), beta (12-30 Hz), and gamma (30-60 Hz)\n",
    "# Should the number of bands be 4 and not 5? alpha and slow alpha overlap, only use alpha?"
   ]
  },
  {
   "cell_type": "code",
   "execution_count": 26,
   "id": "e40b8a95",
   "metadata": {},
   "outputs": [],
   "source": [
    "bands_bashivan = [4, 7, 13, 30] # 3 frequency bands: theta, alpha, beta"
   ]
  },
  {
   "cell_type": "code",
   "execution_count": 27,
   "id": "75c52627",
   "metadata": {},
   "outputs": [
    {
     "data": {
      "text/plain": [
       "(481,)"
      ]
     },
     "execution_count": 27,
     "metadata": {},
     "output_type": "execute_result"
    }
   ],
   "source": [
    "freqs_w.shape"
   ]
  },
  {
   "cell_type": "code",
   "execution_count": 28,
   "id": "60430db3",
   "metadata": {},
   "outputs": [
    {
     "data": {
      "text/plain": [
       "array([ 0.   ,  0.125,  0.25 ,  0.375,  0.5  ,  0.625,  0.75 ,  0.875,\n",
       "        1.   ,  1.125,  1.25 ,  1.375,  1.5  ,  1.625,  1.75 ,  1.875,\n",
       "        2.   ,  2.125,  2.25 ,  2.375,  2.5  ,  2.625,  2.75 ,  2.875,\n",
       "        3.   ,  3.125,  3.25 ,  3.375,  3.5  ,  3.625,  3.75 ,  3.875,\n",
       "        4.   ,  4.125,  4.25 ,  4.375,  4.5  ,  4.625,  4.75 ,  4.875,\n",
       "        5.   ,  5.125,  5.25 ,  5.375,  5.5  ,  5.625,  5.75 ,  5.875,\n",
       "        6.   ,  6.125,  6.25 ,  6.375,  6.5  ,  6.625,  6.75 ,  6.875,\n",
       "        7.   ,  7.125,  7.25 ,  7.375,  7.5  ,  7.625,  7.75 ,  7.875,\n",
       "        8.   ,  8.125,  8.25 ,  8.375,  8.5  ,  8.625,  8.75 ,  8.875,\n",
       "        9.   ,  9.125,  9.25 ,  9.375,  9.5  ,  9.625,  9.75 ,  9.875,\n",
       "       10.   , 10.125, 10.25 , 10.375, 10.5  , 10.625, 10.75 , 10.875,\n",
       "       11.   , 11.125, 11.25 , 11.375, 11.5  , 11.625, 11.75 , 11.875,\n",
       "       12.   , 12.125, 12.25 , 12.375, 12.5  , 12.625, 12.75 , 12.875,\n",
       "       13.   , 13.125, 13.25 , 13.375, 13.5  , 13.625, 13.75 , 13.875,\n",
       "       14.   , 14.125, 14.25 , 14.375, 14.5  , 14.625, 14.75 , 14.875,\n",
       "       15.   , 15.125, 15.25 , 15.375, 15.5  , 15.625, 15.75 , 15.875,\n",
       "       16.   , 16.125, 16.25 , 16.375, 16.5  , 16.625, 16.75 , 16.875,\n",
       "       17.   , 17.125, 17.25 , 17.375, 17.5  , 17.625, 17.75 , 17.875,\n",
       "       18.   , 18.125, 18.25 , 18.375, 18.5  , 18.625, 18.75 , 18.875,\n",
       "       19.   , 19.125, 19.25 , 19.375, 19.5  , 19.625, 19.75 , 19.875,\n",
       "       20.   , 20.125, 20.25 , 20.375, 20.5  , 20.625, 20.75 , 20.875,\n",
       "       21.   , 21.125, 21.25 , 21.375, 21.5  , 21.625, 21.75 , 21.875,\n",
       "       22.   , 22.125, 22.25 , 22.375, 22.5  , 22.625, 22.75 , 22.875,\n",
       "       23.   , 23.125, 23.25 , 23.375, 23.5  , 23.625, 23.75 , 23.875,\n",
       "       24.   , 24.125, 24.25 , 24.375, 24.5  , 24.625, 24.75 , 24.875,\n",
       "       25.   , 25.125, 25.25 , 25.375, 25.5  , 25.625, 25.75 , 25.875,\n",
       "       26.   , 26.125, 26.25 , 26.375, 26.5  , 26.625, 26.75 , 26.875,\n",
       "       27.   , 27.125, 27.25 , 27.375, 27.5  , 27.625, 27.75 , 27.875,\n",
       "       28.   , 28.125, 28.25 , 28.375, 28.5  , 28.625, 28.75 , 28.875,\n",
       "       29.   , 29.125, 29.25 , 29.375, 29.5  , 29.625, 29.75 , 29.875,\n",
       "       30.   , 30.125, 30.25 , 30.375, 30.5  , 30.625, 30.75 , 30.875,\n",
       "       31.   , 31.125, 31.25 , 31.375, 31.5  , 31.625, 31.75 , 31.875,\n",
       "       32.   , 32.125, 32.25 , 32.375, 32.5  , 32.625, 32.75 , 32.875,\n",
       "       33.   , 33.125, 33.25 , 33.375, 33.5  , 33.625, 33.75 , 33.875,\n",
       "       34.   , 34.125, 34.25 , 34.375, 34.5  , 34.625, 34.75 , 34.875,\n",
       "       35.   , 35.125, 35.25 , 35.375, 35.5  , 35.625, 35.75 , 35.875,\n",
       "       36.   , 36.125, 36.25 , 36.375, 36.5  , 36.625, 36.75 , 36.875,\n",
       "       37.   , 37.125, 37.25 , 37.375, 37.5  , 37.625, 37.75 , 37.875,\n",
       "       38.   , 38.125, 38.25 , 38.375, 38.5  , 38.625, 38.75 , 38.875,\n",
       "       39.   , 39.125, 39.25 , 39.375, 39.5  , 39.625, 39.75 , 39.875,\n",
       "       40.   , 40.125, 40.25 , 40.375, 40.5  , 40.625, 40.75 , 40.875,\n",
       "       41.   , 41.125, 41.25 , 41.375, 41.5  , 41.625, 41.75 , 41.875,\n",
       "       42.   , 42.125, 42.25 , 42.375, 42.5  , 42.625, 42.75 , 42.875,\n",
       "       43.   , 43.125, 43.25 , 43.375, 43.5  , 43.625, 43.75 , 43.875,\n",
       "       44.   , 44.125, 44.25 , 44.375, 44.5  , 44.625, 44.75 , 44.875,\n",
       "       45.   , 45.125, 45.25 , 45.375, 45.5  , 45.625, 45.75 , 45.875,\n",
       "       46.   , 46.125, 46.25 , 46.375, 46.5  , 46.625, 46.75 , 46.875,\n",
       "       47.   , 47.125, 47.25 , 47.375, 47.5  , 47.625, 47.75 , 47.875,\n",
       "       48.   , 48.125, 48.25 , 48.375, 48.5  , 48.625, 48.75 , 48.875,\n",
       "       49.   , 49.125, 49.25 , 49.375, 49.5  , 49.625, 49.75 , 49.875,\n",
       "       50.   , 50.125, 50.25 , 50.375, 50.5  , 50.625, 50.75 , 50.875,\n",
       "       51.   , 51.125, 51.25 , 51.375, 51.5  , 51.625, 51.75 , 51.875,\n",
       "       52.   , 52.125, 52.25 , 52.375, 52.5  , 52.625, 52.75 , 52.875,\n",
       "       53.   , 53.125, 53.25 , 53.375, 53.5  , 53.625, 53.75 , 53.875,\n",
       "       54.   , 54.125, 54.25 , 54.375, 54.5  , 54.625, 54.75 , 54.875,\n",
       "       55.   , 55.125, 55.25 , 55.375, 55.5  , 55.625, 55.75 , 55.875,\n",
       "       56.   , 56.125, 56.25 , 56.375, 56.5  , 56.625, 56.75 , 56.875,\n",
       "       57.   , 57.125, 57.25 , 57.375, 57.5  , 57.625, 57.75 , 57.875,\n",
       "       58.   , 58.125, 58.25 , 58.375, 58.5  , 58.625, 58.75 , 58.875,\n",
       "       59.   , 59.125, 59.25 , 59.375, 59.5  , 59.625, 59.75 , 59.875,\n",
       "       60.   ])"
      ]
     },
     "execution_count": 28,
     "metadata": {},
     "output_type": "execute_result"
    }
   ],
   "source": [
    "freqs_w"
   ]
  },
  {
   "cell_type": "code",
   "execution_count": 29,
   "id": "6349f956",
   "metadata": {},
   "outputs": [
    {
     "data": {
      "text/plain": [
       "(481,)"
      ]
     },
     "execution_count": 29,
     "metadata": {},
     "output_type": "execute_result"
    }
   ],
   "source": [
    "psds_w.shape"
   ]
  },
  {
   "cell_type": "code",
   "execution_count": 30,
   "id": "3d83e2ed",
   "metadata": {},
   "outputs": [
    {
     "data": {
      "text/plain": [
       "array([2.59233140e-04, 2.35319751e-04, 1.57500781e-05, 1.58918689e-05,\n",
       "       1.60845361e-05])"
      ]
     },
     "execution_count": 30,
     "metadata": {},
     "output_type": "execute_result"
    }
   ],
   "source": [
    "psds_w[:5]"
   ]
  },
  {
   "cell_type": "code",
   "execution_count": 31,
   "id": "f09e0658",
   "metadata": {},
   "outputs": [],
   "source": [
    "def frequency_binning_reduction(psd, freqs, bands, reduction='mean'):\n",
    "    reduced_frequencies = np.empty(len(bands) - 1)\n",
    "    \n",
    "    for i in range(len(bands) - 1):\n",
    "        low_freq = bands[i]\n",
    "        high_freq = bands[i+1]\n",
    "        freq_points_counter = 0\n",
    "        freq_band_sum = 0\n",
    "        for j, freq in enumerate(freqs):\n",
    "            if freq >= low_freq and freq < high_freq:\n",
    "                freq_points_counter += 1\n",
    "                freq_band_sum += psd[j]\n",
    "                \n",
    "        reduced_frequencies[i] = freq_band_sum / freq_points_counter\n",
    "        \n",
    "    \n",
    "    return reduced_frequencies"
   ]
  },
  {
   "cell_type": "code",
   "execution_count": 32,
   "id": "9e5e362b",
   "metadata": {},
   "outputs": [
    {
     "data": {
      "text/plain": [
       "array([1.30033631, 0.74650407, 1.33097437, 0.39936967, 0.03420834])"
      ]
     },
     "execution_count": 32,
     "metadata": {},
     "output_type": "execute_result"
    }
   ],
   "source": [
    "test_reduced_psd = frequency_binning_reduction(psds_w, freqs_w, bands)\n",
    "test_reduced_psd"
   ]
  },
  {
   "cell_type": "code",
   "execution_count": 33,
   "id": "4d62e951",
   "metadata": {},
   "outputs": [
    {
     "data": {
      "text/plain": [
       "(5,)"
      ]
     },
     "execution_count": 33,
     "metadata": {},
     "output_type": "execute_result"
    }
   ],
   "source": [
    "test_reduced_psd.shape"
   ]
  },
  {
   "cell_type": "code",
   "execution_count": 34,
   "id": "7a2113b5",
   "metadata": {},
   "outputs": [
    {
     "data": {
      "image/png": "[encoded data removed]",
      "text/plain": [
       "<Figure size 640x480 with 1 Axes>"
      ]
     },
     "metadata": {},
     "output_type": "display_data"
    }
   ],
   "source": [
    "plt.plot(test_reduced_psd)\n",
    "plt.show()"
   ]
  },
  {
   "cell_type": "code",
   "execution_count": 35,
   "id": "ed40f5e4",
   "metadata": {},
   "outputs": [
    {
     "data": {
      "text/plain": [
       "(1280, 32, 8064)"
      ]
     },
     "execution_count": 35,
     "metadata": {},
     "output_type": "execute_result"
    }
   ],
   "source": [
    "X_eeg.shape"
   ]
  },
  {
   "cell_type": "code",
   "execution_count": 36,
   "id": "3cc321db",
   "metadata": {},
   "outputs": [],
   "source": [
    "def generate_participants_array(): # using 0-31 range as the Sal_Model.py code\n",
    "    participants = np.empty((1280,))\n",
    "    participant_id = 0\n",
    "    \n",
    "    for i in range(1280):\n",
    "        if i % 40 == 0:\n",
    "            participant_id += 1\n",
    "        participants[i] = participant_id\n",
    "    \n",
    "    return participants"
   ]
  },
  {
   "cell_type": "code",
   "execution_count": 37,
   "id": "3c6df479",
   "metadata": {},
   "outputs": [
    {
     "data": {
      "text/plain": [
       "array([1., 1., 1., 1., 1., 1., 1., 1., 1., 1., 1., 1., 1., 1., 1., 1., 1.,\n",
       "       1., 1., 1., 1., 1., 1., 1., 1., 1., 1., 1., 1., 1., 1., 1., 1., 1.,\n",
       "       1., 1., 1., 1., 1., 1., 2., 2., 2., 2., 2., 2., 2., 2., 2., 2., 2.,\n",
       "       2., 2., 2., 2., 2., 2., 2., 2., 2., 2., 2., 2., 2., 2., 2., 2., 2.,\n",
       "       2., 2., 2., 2., 2., 2., 2., 2., 2., 2., 2., 2.])"
      ]
     },
     "execution_count": 37,
     "metadata": {},
     "output_type": "execute_result"
    }
   ],
   "source": [
    "participants = generate_participants_array()\n",
    "participants[:80]"
   ]
  },
  {
   "cell_type": "markdown",
   "id": "ca29d6ce",
   "metadata": {},
   "source": [
    "## EEG Feature Generation\n",
    "\n",
    "https://mne.tools/stable/generated/mne.time_frequency.psd_array_welch.html\n",
    "\n",
    "https://sapienlabs.org/lab-talk/factors-that-impact-power-spectrum-density-estimation/\n",
    "\n",
    "\"Due to the way the FFT algorithm works, the convention is to set N to the power of 2 that is next above the length(x). For instance, if length(x) is 1000, then N = 1024 (2^10).  Although, this is not mandatory, it just makes for an efficient and faster implementation of FFT. However, it is recommend not to set N < length(x), because FFT will then utilize only the first N samples of the data to estimate the PSD and truncate rest of the data.\"\n",
    "\n",
    "should n_fft be changed from 256 to 8192? (higher power of 2 number from X number of time samples, 8064). Also n_per_seg was 4*sfreq, now set equal to n_fft."
   ]
  },
  {
   "cell_type": "code",
   "execution_count": 38,
   "id": "76ac4fbc",
   "metadata": {},
   "outputs": [],
   "source": [
    "sampling_freq = 128\n",
    "n_overlap = 0\n",
    "n_per_seg = None # default 4 * sampling_freq\n",
    "n_fft = 1024 # default 256\n",
    "\n",
    "deap_bands = [4, 8, 10, 12, 30, 60]\n",
    "n_samples = X_eeg.shape[0] # number of participants (32) * trials (40)\n",
    "n_channels = X_eeg.shape[1] # 32\n",
    "n_features = n_channels * (len(deap_bands) - 1) # 32 * 5 = 160\n",
    "\n",
    "features = np.empty((n_samples, n_features)) # shape (1280, 160)\n",
    "\n",
    "for i, subject_data in enumerate(X_eeg):\n",
    "    reduced_psds = []\n",
    "    psds, freqs = mne.time_frequency.psd_array_welch(subject_data, sfreq=sampling_freq, fmin=-1., fmax=60., n_fft=n_fft,\n",
    "                                                     n_overlap=n_overlap, n_per_seg=n_per_seg, average='mean', verbose=50) \n",
    "    for j, psd_channel in enumerate(psds):        \n",
    "        reduced_psd = frequency_binning_reduction(psd_channel, freqs, deap_bands)\n",
    "        reduced_psds.append(reduced_psd)\n",
    "\n",
    "    features[i] = np.stack(reduced_psds, axis=1).flatten()"
   ]
  },
  {
   "cell_type": "code",
   "execution_count": 39,
   "id": "057e8cda",
   "metadata": {},
   "outputs": [
    {
     "data": {
      "text/plain": [
       "(1280, 160)"
      ]
     },
     "execution_count": 39,
     "metadata": {},
     "output_type": "execute_result"
    }
   ],
   "source": [
    "features.shape"
   ]
  },
  {
   "cell_type": "code",
   "execution_count": 40,
   "id": "6952770d",
   "metadata": {},
   "outputs": [
    {
     "data": {
      "text/plain": [
       "(32, 481)"
      ]
     },
     "execution_count": 40,
     "metadata": {},
     "output_type": "execute_result"
    }
   ],
   "source": [
    "psds.shape"
   ]
  },
  {
   "cell_type": "code",
   "execution_count": 41,
   "id": "963b6b7b",
   "metadata": {},
   "outputs": [
    {
     "data": {
      "text/plain": [
       "(481,)"
      ]
     },
     "execution_count": 41,
     "metadata": {},
     "output_type": "execute_result"
    }
   ],
   "source": [
    "freqs.shape"
   ]
  },
  {
   "cell_type": "code",
   "execution_count": 42,
   "id": "34461a7a",
   "metadata": {},
   "outputs": [
    {
     "data": {
      "text/plain": [
       "array([1.00700963, 1.39128565, 1.49043889, 1.41023142, 0.75699579])"
      ]
     },
     "execution_count": 42,
     "metadata": {},
     "output_type": "execute_result"
    }
   ],
   "source": [
    "features[0, :5]"
   ]
  },
  {
   "cell_type": "code",
   "execution_count": 44,
   "id": "f7f0bd02",
   "metadata": {},
   "outputs": [
    {
     "data": {
      "text/plain": [
       "'../../datasets/DEAP/image_generation'"
      ]
     },
     "execution_count": 44,
     "metadata": {},
     "output_type": "execute_result"
    }
   ],
   "source": [
    "save_path"
   ]
  },
  {
   "cell_type": "code",
   "execution_count": 45,
   "id": "c49a8d04",
   "metadata": {},
   "outputs": [],
   "source": [
    "np.save(save_path + '/participants.npy', participants)"
   ]
  },
  {
   "cell_type": "code",
   "execution_count": 46,
   "id": "6dd965bd",
   "metadata": {},
   "outputs": [],
   "source": [
    "np.save(save_path + '/features.npy', features)"
   ]
  },
  {
   "cell_type": "code",
   "execution_count": 47,
   "id": "e96fdaa9",
   "metadata": {},
   "outputs": [],
   "source": [
    "# images_timewin = \n",
    "# np.array([gen_images(np.array(locs_2d),\n",
    "# feats[:, i * 192:(i + 1) * 192],\n",
    "# 32,\n",
    "# normalize=True) for i in range(int(feats.shape[1] / 192))])"
   ]
  },
  {
   "cell_type": "markdown",
   "id": "4e06197f",
   "metadata": {},
   "source": [
    "## EEG Generate Images\n",
    "\n",
    "```python \n",
    "def image_generation(feature_matrix, electrodes_loc, n_gridpoints) \n",
    "```"
   ]
  },
  {
   "cell_type": "code",
   "execution_count": 48,
   "id": "d7864b1d",
   "metadata": {},
   "outputs": [],
   "source": [
    "from Utils import *"
   ]
  },
  {
   "cell_type": "code",
   "execution_count": 49,
   "id": "2d948436",
   "metadata": {},
   "outputs": [
    {
     "name": "stdout",
     "output_type": "stream",
     "text": [
      "(1280, 160)\n",
      "(32, 2)\n"
     ]
    }
   ],
   "source": [
    "print(features.shape)\n",
    "print(locs_2d.shape)"
   ]
  },
  {
   "cell_type": "code",
   "execution_count": 50,
   "id": "f8c8af18",
   "metadata": {},
   "outputs": [],
   "source": [
    "eeg_image_size = 32"
   ]
  },
  {
   "cell_type": "code",
   "execution_count": 51,
   "id": "3b91471d",
   "metadata": {},
   "outputs": [
    {
     "name": "stdout",
     "output_type": "stream",
     "text": [
      "Signals interpolations.\n"
     ]
    }
   ],
   "source": [
    "eeg_images = image_generation(features, locs_2d, eeg_image_size)"
   ]
  },
  {
   "cell_type": "code",
   "execution_count": 52,
   "id": "4c9fc32a",
   "metadata": {},
   "outputs": [],
   "source": [
    "np.save(save_path + '/images.npy', eeg_images)"
   ]
  },
  {
   "cell_type": "code",
   "execution_count": 53,
   "id": "cc257366",
   "metadata": {},
   "outputs": [
    {
     "data": {
      "text/plain": [
       "(1280, 5, 32, 32)"
      ]
     },
     "execution_count": 53,
     "metadata": {},
     "output_type": "execute_result"
    }
   ],
   "source": [
    "eeg_images.shape"
   ]
  },
  {
   "cell_type": "code",
   "execution_count": 54,
   "id": "4468aefe",
   "metadata": {},
   "outputs": [
    {
     "data": {
      "text/plain": [
       "(32, 32, 5)"
      ]
     },
     "execution_count": 54,
     "metadata": {},
     "output_type": "execute_result"
    }
   ],
   "source": [
    "image_test = np.moveaxis(eeg_images[0], 0 ,-1)\n",
    "image_test.shape"
   ]
  },
  {
   "cell_type": "code",
   "execution_count": 55,
   "id": "40b25c69",
   "metadata": {},
   "outputs": [],
   "source": [
    "image_test_normalized = (image_test - np.min(image_test)) / (np.max(image_test) - np.min(image_test))"
   ]
  },
  {
   "cell_type": "code",
   "execution_count": 56,
   "id": "837b10c3",
   "metadata": {},
   "outputs": [
    {
     "data": {
      "image/png": "[encoded data removed]",
      "text/plain": [
       "<Figure size 640x480 with 1 Axes>"
      ]
     },
     "metadata": {},
     "output_type": "display_data"
    }
   ],
   "source": [
    "plt.imshow(image_test_normalized[:, :, 2]) # first participant, image of alpha band psd \n",
    "plt.show()"
   ]
  },
  {
   "cell_type": "code",
   "execution_count": null,
   "id": "400df63e",
   "metadata": {},
   "outputs": [],
   "source": []
  }
 ],
 "metadata": {
  "kernelspec": {
   "display_name": "Python 3 (ipykernel)",
   "language": "python",
   "name": "python3"
  },
  "language_info": {
   "codemirror_mode": {
    "name": "ipython",
    "version": 3
   },
   "file_extension": ".py",
   "mimetype": "text/x-python",
   "name": "python",
   "nbconvert_exporter": "python",
   "pygments_lexer": "ipython3",
   "version": "3.10.6"
  }
 },
 "nbformat": 4,
 "nbformat_minor": 5
}
