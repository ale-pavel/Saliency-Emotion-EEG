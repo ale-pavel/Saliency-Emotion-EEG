{
 "cells": [
  {
   "cell_type": "code",
   "execution_count": 1,
   "id": "d1a86a7e",
   "metadata": {},
   "outputs": [],
   "source": [
    "from Utils_Bashivan import *"
   ]
  },
  {
   "cell_type": "code",
   "execution_count": 2,
   "id": "e9097492",
   "metadata": {},
   "outputs": [],
   "source": [
    "import numpy as np"
   ]
  },
  {
   "cell_type": "markdown",
   "id": "d4237c76",
   "metadata": {},
   "source": [
    "3D sensors locations on the scalp, to be converted to 2D later."
   ]
  },
  {
   "cell_type": "code",
   "execution_count": 3,
   "id": "88ba3e65",
   "metadata": {},
   "outputs": [],
   "source": [
    "locs = np.load('Electroloc/Neuro_loc_DEAP.npy')"
   ]
  },
  {
   "cell_type": "code",
   "execution_count": 4,
   "id": "8690057b",
   "metadata": {},
   "outputs": [
    {
     "data": {
      "text/plain": [
       "(32, 3)"
      ]
     },
     "execution_count": 4,
     "metadata": {},
     "output_type": "execute_result"
    }
   ],
   "source": [
    "locs.shape"
   ]
  },
  {
   "cell_type": "code",
   "execution_count": 5,
   "id": "47393da8",
   "metadata": {},
   "outputs": [
    {
     "data": {
      "text/plain": [
       "array([[-28.23010227, 102.26294022,  31.73459731],\n",
       "       [-32.32332412,  97.52191223,  59.21113179],\n",
       "       [-48.18205131,  76.34876907,  80.94883837],\n",
       "       [-67.35513444,  62.32957061,  30.46685071],\n",
       "       [-74.02481482,  42.12832367,  66.46981722]])"
      ]
     },
     "execution_count": 5,
     "metadata": {},
     "output_type": "execute_result"
    }
   ],
   "source": [
    "locs[:5]"
   ]
  },
  {
   "cell_type": "code",
   "execution_count": 6,
   "id": "0b9ae072",
   "metadata": {},
   "outputs": [],
   "source": [
    "deap_path = '../../datasets/DEAP/merged/'\n",
    "save_path = '../../datasets/DEAP/image_generation'"
   ]
  },
  {
   "cell_type": "code",
   "execution_count": 7,
   "id": "a3fc15c0",
   "metadata": {},
   "outputs": [
    {
     "data": {
      "text/plain": [
       "(1280, 40, 8064)"
      ]
     },
     "execution_count": 7,
     "metadata": {},
     "output_type": "execute_result"
    }
   ],
   "source": [
    "X = np.load(deap_path + 'deap_data.npy')\n",
    "X.shape"
   ]
  },
  {
   "cell_type": "code",
   "execution_count": 8,
   "id": "7916ed38",
   "metadata": {},
   "outputs": [
    {
     "data": {
      "text/plain": [
       "(1280, 3)"
      ]
     },
     "execution_count": 8,
     "metadata": {},
     "output_type": "execute_result"
    }
   ],
   "source": [
    "y = np.load(deap_path + 'deap_full_labels.npy')\n",
    "y.shape"
   ]
  },
  {
   "cell_type": "markdown",
   "id": "a8ac96e0",
   "metadata": {},
   "source": [
    "Use only EEG channels"
   ]
  },
  {
   "cell_type": "code",
   "execution_count": 95,
   "id": "5ee7d132",
   "metadata": {},
   "outputs": [],
   "source": [
    "X_eeg = X[:, :32, :]"
   ]
  },
  {
   "cell_type": "markdown",
   "id": "82afb12b",
   "metadata": {},
   "source": [
    "Conversion of 3D to 2D coordinates (Azimuthal Equidistant Projection)"
   ]
  },
  {
   "cell_type": "code",
   "execution_count": 9,
   "id": "0a12234b",
   "metadata": {},
   "outputs": [],
   "source": [
    "n_gridpoints = 32"
   ]
  },
  {
   "cell_type": "code",
   "execution_count": 10,
   "id": "131cb54b",
   "metadata": {},
   "outputs": [
    {
     "data": {
      "text/plain": [
       "(32, 2)"
      ]
     },
     "execution_count": 10,
     "metadata": {},
     "output_type": "execute_result"
    }
   ],
   "source": [
    "locs_2d = np.empty((locs.shape[0], 2))\n",
    "locs_2d.shape"
   ]
  },
  {
   "cell_type": "code",
   "execution_count": 11,
   "id": "82f1caaf",
   "metadata": {},
   "outputs": [],
   "source": [
    "for i, sensor_location in enumerate(locs):\n",
    "    locs_2d[i] = azim_proj(sensor_location)"
   ]
  },
  {
   "cell_type": "code",
   "execution_count": 12,
   "id": "dd074199",
   "metadata": {},
   "outputs": [
    {
     "data": {
      "text/plain": [
       "array([[-0.34064478,  1.23397841],\n",
       "       [-0.3297067 ,  0.99475002],\n",
       "       [-0.44821694,  0.71023983],\n",
       "       [-0.91763312,  0.84916582],\n",
       "       [-0.78925268,  0.44917225]])"
      ]
     },
     "execution_count": 12,
     "metadata": {},
     "output_type": "execute_result"
    }
   ],
   "source": [
    "locs_2d[:5]"
   ]
  },
  {
   "cell_type": "markdown",
   "id": "2284c27a",
   "metadata": {},
   "source": [
    "For the features parameter the PSD (Power Spectral Density) of each channel must be computed. For each channel there will be N frequency bands, so the features shape will be (n_samples, n_channels * N)\n",
    "\n",
    "https://mne.tools/stable/generated/mne.time_frequency.psd_multitaper.html\n",
    "\n",
    "https://mne.tools/stable/generated/mne.time_frequency.psd_array_multitaper.html\n",
    "\n",
    "https://mne.tools/stable/generated/mne.filter.resample.html"
   ]
  },
  {
   "cell_type": "code",
   "execution_count": 13,
   "id": "06522e1e",
   "metadata": {},
   "outputs": [],
   "source": [
    "import mne"
   ]
  },
  {
   "cell_type": "code",
   "execution_count": 14,
   "id": "0707113b",
   "metadata": {},
   "outputs": [],
   "source": [
    "# def compute_psd(epoch, fmin=-1., fmax=60.):\n",
    "#     psds, freqs = psd_multitaper(epoch, fmin=fmin, fmax=fmax, n_jobs=10, verbose=50)\n",
    "#     return resample(psds, num=1500, axis=2)[0, :]"
   ]
  },
  {
   "cell_type": "markdown",
   "id": "4ffb1208",
   "metadata": {},
   "source": [
    "Compute PSD for participant 2, as an example\n",
    "\n",
    "Final features shape should be (n_samples, n_features), where n_samples = 1280 (32 subjs * 40 trials) and n_features = 40 * X (40 channels and X frequency bands)\n",
    "\n",
    "For each frequency band the paper states to compute the square sum of the frequencies involved, to get a single value (TO CHECK)"
   ]
  },
  {
   "cell_type": "code",
   "execution_count": 179,
   "id": "e5596cbb",
   "metadata": {},
   "outputs": [],
   "source": [
    "psds, freqs = mne.time_frequency.psd_array_multitaper(X[1], sfreq=128, fmin=-1., fmax=60., verbose=50)"
   ]
  },
  {
   "cell_type": "code",
   "execution_count": 180,
   "id": "4ba4275b",
   "metadata": {},
   "outputs": [],
   "source": [
    "# psds_resample = mne.filter.resample(psds, axis=1)"
   ]
  },
  {
   "cell_type": "markdown",
   "id": "88561c67",
   "metadata": {},
   "source": [
    "Here psd_array_multitaper computer the psds for every channel and assembled it together, later only one channel at a time will be calculated with the Welch method"
   ]
  },
  {
   "cell_type": "code",
   "execution_count": 181,
   "id": "26c9b1b9",
   "metadata": {},
   "outputs": [
    {
     "name": "stdout",
     "output_type": "stream",
     "text": [
      "(40, 3781)\n",
      "(3781,)\n"
     ]
    }
   ],
   "source": [
    "print(psds.shape)\n",
    "print(freqs.shape)"
   ]
  },
  {
   "cell_type": "code",
   "execution_count": 18,
   "id": "82d6a119",
   "metadata": {},
   "outputs": [],
   "source": [
    "#print(*freqs, sep='\\t')"
   ]
  },
  {
   "cell_type": "code",
   "execution_count": 27,
   "id": "46a950b3",
   "metadata": {},
   "outputs": [],
   "source": [
    "import matplotlib.pyplot as plt\n",
    "import seaborn as sns\n",
    "%matplotlib inline"
   ]
  },
  {
   "cell_type": "code",
   "execution_count": 184,
   "id": "0e45d2d9",
   "metadata": {},
   "outputs": [
    {
     "data": {
      "image/png": "[encoded data removed]",
      "text/plain": [
       "<Figure size 800x400 with 1 Axes>"
      ]
     },
     "metadata": {},
     "output_type": "display_data"
    }
   ],
   "source": [
    "# Plot the power spectrum\n",
    "sns.set(font_scale=1.2, style='white')\n",
    "plt.figure(figsize=(8, 4))\n",
    "plt.plot(freqs, psds[0], color='k', lw=2)\n",
    "plt.xlabel('Frequency (Hz)')\n",
    "plt.ylabel('Power spectral density (V^2 / Hz)')\n",
    "plt.ylim([0, psds[0].max() * 1.1])\n",
    "plt.title(\"Multitaper Periodogram (channel 1, subject 2)\")\n",
    "plt.xlim([0, freqs.max()])\n",
    "sns.despine()"
   ]
  },
  {
   "cell_type": "markdown",
   "id": "5216be1f",
   "metadata": {},
   "source": [
    "Trying Welch method for PSD\n",
    "\n",
    "https://mne.tools/stable/generated/mne.time_frequency.psd_array_welch.html\n",
    "\n",
    "https://mne.tools/stable/generated/mne.time_frequency.psd_welch.html"
   ]
  },
  {
   "cell_type": "code",
   "execution_count": 172,
   "id": "2f69188b",
   "metadata": {},
   "outputs": [],
   "source": [
    "psds_w, freqs_w = mne.time_frequency.psd_array_welch(X[1, 0], sfreq=128, fmin=-1., fmax=60., \n",
    "                                                          n_overlap=0, n_per_seg=4*128, average='mean', verbose=50)"
   ]
  },
  {
   "cell_type": "code",
   "execution_count": 173,
   "id": "668fc346",
   "metadata": {},
   "outputs": [
    {
     "data": {
      "image/png": "[encoded data removed]",
      "text/plain": [
       "<Figure size 800x400 with 1 Axes>"
      ]
     },
     "metadata": {},
     "output_type": "display_data"
    }
   ],
   "source": [
    "# Plot the power spectrum\n",
    "sns.set(font_scale=1.2, style='white')\n",
    "plt.figure(figsize=(8, 4))\n",
    "plt.plot(freqs_w, psds_w, color='k', lw=2)\n",
    "plt.xlabel('Frequency (Hz)')\n",
    "plt.ylabel('Power spectral density (V^2 / Hz)')\n",
    "plt.ylim([0, psds_w.max() * 1.1])\n",
    "plt.title(\"Welch Periodogram (channel 1, subject 2)\")\n",
    "plt.xlim([0, freqs_w.max()])\n",
    "sns.despine()"
   ]
  },
  {
   "cell_type": "code",
   "execution_count": 81,
   "id": "2ba2245a",
   "metadata": {},
   "outputs": [],
   "source": [
    "bands = [4, 8, 10, 12, 30, 60] # 5 frequency bands: theta, slow alpha, alpha, beta, gamma (DEAP paper, Saliency too?)"
   ]
  },
  {
   "cell_type": "code",
   "execution_count": 87,
   "id": "e40b8a95",
   "metadata": {},
   "outputs": [],
   "source": [
    "bands_bashivan = [4, 7, 13, 30] # 3 frequency bands: theta, alpha, beta"
   ]
  },
  {
   "cell_type": "code",
   "execution_count": 83,
   "id": "75c52627",
   "metadata": {},
   "outputs": [
    {
     "data": {
      "text/plain": [
       "(121,)"
      ]
     },
     "execution_count": 83,
     "metadata": {},
     "output_type": "execute_result"
    }
   ],
   "source": [
    "freqs_w.shape"
   ]
  },
  {
   "cell_type": "code",
   "execution_count": 89,
   "id": "60430db3",
   "metadata": {},
   "outputs": [
    {
     "data": {
      "text/plain": [
       "array([ 0. ,  0.5,  1. ,  1.5,  2. ,  2.5,  3. ,  3.5,  4. ,  4.5,  5. ,\n",
       "        5.5,  6. ,  6.5,  7. ,  7.5,  8. ,  8.5,  9. ,  9.5, 10. , 10.5,\n",
       "       11. , 11.5, 12. , 12.5, 13. , 13.5, 14. , 14.5, 15. , 15.5, 16. ,\n",
       "       16.5, 17. , 17.5, 18. , 18.5, 19. , 19.5, 20. , 20.5, 21. , 21.5,\n",
       "       22. , 22.5, 23. , 23.5, 24. , 24.5, 25. , 25.5, 26. , 26.5, 27. ,\n",
       "       27.5, 28. , 28.5, 29. , 29.5, 30. , 30.5, 31. , 31.5, 32. , 32.5,\n",
       "       33. , 33.5, 34. , 34.5, 35. , 35.5, 36. , 36.5, 37. , 37.5, 38. ,\n",
       "       38.5, 39. , 39.5, 40. , 40.5, 41. , 41.5, 42. , 42.5, 43. , 43.5,\n",
       "       44. , 44.5, 45. , 45.5, 46. , 46.5, 47. , 47.5, 48. , 48.5, 49. ,\n",
       "       49.5, 50. , 50.5, 51. , 51.5, 52. , 52.5, 53. , 53.5, 54. , 54.5,\n",
       "       55. , 55.5, 56. , 56.5, 57. , 57.5, 58. , 58.5, 59. , 59.5, 60. ])"
      ]
     },
     "execution_count": 89,
     "metadata": {},
     "output_type": "execute_result"
    }
   ],
   "source": [
    "freqs_w"
   ]
  },
  {
   "cell_type": "code",
   "execution_count": 86,
   "id": "3d83e2ed",
   "metadata": {},
   "outputs": [
    {
     "data": {
      "text/plain": [
       "(121,)"
      ]
     },
     "execution_count": 86,
     "metadata": {},
     "output_type": "execute_result"
    }
   ],
   "source": [
    "psds_w[0].shape"
   ]
  },
  {
   "cell_type": "code",
   "execution_count": 90,
   "id": "f09e0658",
   "metadata": {},
   "outputs": [],
   "source": [
    "def frequency_binning_reduction(psd, freqs, bands, reduction='mean'):\n",
    "    reduced_frequencies = np.empty(len(bands) - 1)\n",
    "    \n",
    "    for i in range(len(bands) - 1):\n",
    "        low_freq = bands[i]\n",
    "        high_freq = bands[i+1]\n",
    "        freq_points_counter = 0\n",
    "        freq_band_sum = 0\n",
    "        for j, freq in enumerate(freqs):\n",
    "            if freq >= low_freq and freq < high_freq:\n",
    "                freq_points_counter += 1\n",
    "                freq_band_sum += psd[j]\n",
    "                \n",
    "        reduced_frequencies[i] = freq_band_sum / freq_points_counter\n",
    "        \n",
    "    \n",
    "    return reduced_frequencies"
   ]
  },
  {
   "cell_type": "code",
   "execution_count": 93,
   "id": "9e5e362b",
   "metadata": {},
   "outputs": [
    {
     "data": {
      "text/plain": [
       "array([1.24023777, 1.11937719, 1.13828569, 0.3808671 , 0.03295477])"
      ]
     },
     "execution_count": 93,
     "metadata": {},
     "output_type": "execute_result"
    }
   ],
   "source": [
    "test_reduced_psd = frequency_binning_reduction(psds_w[0], freqs_w, bands)\n",
    "test_reduced_psd"
   ]
  },
  {
   "cell_type": "code",
   "execution_count": 109,
   "id": "4d62e951",
   "metadata": {},
   "outputs": [
    {
     "data": {
      "text/plain": [
       "(5,)"
      ]
     },
     "execution_count": 109,
     "metadata": {},
     "output_type": "execute_result"
    }
   ],
   "source": [
    "test_reduced_psd.shape"
   ]
  },
  {
   "cell_type": "code",
   "execution_count": 94,
   "id": "7a2113b5",
   "metadata": {},
   "outputs": [
    {
     "data": {
      "image/png": "[encoded data removed]",
      "text/plain": [
       "<Figure size 640x480 with 1 Axes>"
      ]
     },
     "metadata": {},
     "output_type": "display_data"
    }
   ],
   "source": [
    "plt.plot(test_reduced_psd)\n",
    "plt.show()"
   ]
  },
  {
   "cell_type": "code",
   "execution_count": 96,
   "id": "ed40f5e4",
   "metadata": {},
   "outputs": [
    {
     "data": {
      "text/plain": [
       "(1280, 32, 8064)"
      ]
     },
     "execution_count": 96,
     "metadata": {},
     "output_type": "execute_result"
    }
   ],
   "source": [
    "X_eeg.shape"
   ]
  },
  {
   "cell_type": "code",
   "execution_count": 100,
   "id": "3cc321db",
   "metadata": {},
   "outputs": [],
   "source": [
    "def generate_participants_array(): # using 0-31 range as the Sal_Model.py code\n",
    "    participants = np.empty((1280,))\n",
    "    participant_id = 0\n",
    "    \n",
    "    for i in range(1280):\n",
    "        if i % 40 == 0:\n",
    "            participant_id += 1\n",
    "        participants[i] = participant_id\n",
    "    \n",
    "    return participants"
   ]
  },
  {
   "cell_type": "code",
   "execution_count": 108,
   "id": "3c6df479",
   "metadata": {},
   "outputs": [
    {
     "data": {
      "text/plain": [
       "array([1., 1., 1., 1., 1., 1., 1., 1., 1., 1., 1., 1., 1., 1., 1., 1., 1.,\n",
       "       1., 1., 1., 1., 1., 1., 1., 1., 1., 1., 1., 1., 1., 1., 1., 1., 1.,\n",
       "       1., 1., 1., 1., 1., 1., 2., 2., 2., 2., 2., 2., 2., 2., 2., 2., 2.,\n",
       "       2., 2., 2., 2., 2., 2., 2., 2., 2., 2., 2., 2., 2., 2., 2., 2., 2.,\n",
       "       2., 2., 2., 2., 2., 2., 2., 2., 2., 2., 2., 2.])"
      ]
     },
     "execution_count": 108,
     "metadata": {},
     "output_type": "execute_result"
    }
   ],
   "source": [
    "participants = generate_participants_array()\n",
    "participants[:80]"
   ]
  },
  {
   "cell_type": "markdown",
   "id": "ca29d6ce",
   "metadata": {},
   "source": [
    "## EEG Feature Generation"
   ]
  },
  {
   "cell_type": "code",
   "execution_count": 187,
   "id": "76ac4fbc",
   "metadata": {},
   "outputs": [],
   "source": [
    "sampling_freq = 128\n",
    "deap_bands = [4, 8, 10, 12, 30, 60]\n",
    "n_samples = X_eeg.shape[0] # number of participants (32) * trials (40)\n",
    "n_channels = X_eeg.shape[1] # 32\n",
    "n_features = n_channels * (len(deap_bands) - 1) # 32 * 5 = 160\n",
    "\n",
    "features = np.empty((n_samples, n_features)) # shape (1280, 160)\n",
    "\n",
    "for i, subject_data in enumerate(X_eeg):\n",
    "    reduced_psds = []\n",
    "    psds, freqs = mne.time_frequency.psd_array_welch(subject_data, sfreq=sampling_freq, fmin=-1., fmax=60., \n",
    "                                                     n_overlap=0, n_per_seg=4*sampling_freq, average='mean', verbose=50) \n",
    "    for j, psd_channel in enumerate(psds):        \n",
    "        reduced_psd = frequency_binning_reduction(psd_channel, freqs, deap_bands)\n",
    "        reduced_psds.append(reduced_psd)\n",
    "\n",
    "    features[i] = np.stack(reduced_psds, axis=1).flatten()"
   ]
  },
  {
   "cell_type": "code",
   "execution_count": 188,
   "id": "057e8cda",
   "metadata": {},
   "outputs": [
    {
     "data": {
      "text/plain": [
       "(1280, 160)"
      ]
     },
     "execution_count": 188,
     "metadata": {},
     "output_type": "execute_result"
    }
   ],
   "source": [
    "features.shape"
   ]
  },
  {
   "cell_type": "code",
   "execution_count": 191,
   "id": "f7f0bd02",
   "metadata": {},
   "outputs": [
    {
     "data": {
      "text/plain": [
       "'../../datasets/DEAP/image_generation'"
      ]
     },
     "execution_count": 191,
     "metadata": {},
     "output_type": "execute_result"
    }
   ],
   "source": [
    "save_path"
   ]
  },
  {
   "cell_type": "code",
   "execution_count": 193,
   "id": "c49a8d04",
   "metadata": {},
   "outputs": [],
   "source": [
    "np.save(save_path + '/participants.npy', participants)"
   ]
  },
  {
   "cell_type": "code",
   "execution_count": 196,
   "id": "6dd965bd",
   "metadata": {},
   "outputs": [],
   "source": [
    "np.save(save_path + '/features.npy', features)"
   ]
  },
  {
   "cell_type": "code",
   "execution_count": 195,
   "id": "e96fdaa9",
   "metadata": {},
   "outputs": [],
   "source": [
    "# images_timewin = \n",
    "# np.array([gen_images(np.array(locs_2d),\n",
    "# feats[:, i * 192:(i + 1) * 192],\n",
    "# 32,\n",
    "# normalize=True) for i in range(int(feats.shape[1] / 192))])"
   ]
  },
  {
   "cell_type": "markdown",
   "id": "4e06197f",
   "metadata": {},
   "source": [
    "## EEG Generate Images\n",
    "\n",
    "```python \n",
    "def image_generation(feature_matrix, electrodes_loc, n_gridpoints) \n",
    "```"
   ]
  },
  {
   "cell_type": "code",
   "execution_count": 200,
   "id": "d7864b1d",
   "metadata": {},
   "outputs": [],
   "source": [
    "from Utils import *"
   ]
  },
  {
   "cell_type": "code",
   "execution_count": 199,
   "id": "2d948436",
   "metadata": {},
   "outputs": [
    {
     "name": "stdout",
     "output_type": "stream",
     "text": [
      "(1280, 160)\n",
      "(32, 2)\n"
     ]
    }
   ],
   "source": [
    "print(features.shape)\n",
    "print(locs_2d.shape)"
   ]
  },
  {
   "cell_type": "code",
   "execution_count": 201,
   "id": "f8c8af18",
   "metadata": {},
   "outputs": [],
   "source": [
    "eeg_image_size = 32"
   ]
  },
  {
   "cell_type": "code",
   "execution_count": 202,
   "id": "3b91471d",
   "metadata": {},
   "outputs": [
    {
     "name": "stdout",
     "output_type": "stream",
     "text": [
      "Signals interpolations.\n"
     ]
    }
   ],
   "source": [
    "eeg_images = image_generation(features, locs_2d, eeg_image_size)"
   ]
  },
  {
   "cell_type": "code",
   "execution_count": 203,
   "id": "4c9fc32a",
   "metadata": {},
   "outputs": [],
   "source": [
    "np.save(save_path + '/images.npy', eeg_images)"
   ]
  },
  {
   "cell_type": "code",
   "execution_count": 204,
   "id": "cc257366",
   "metadata": {},
   "outputs": [
    {
     "data": {
      "text/plain": [
       "(1280, 5, 32, 32)"
      ]
     },
     "execution_count": 204,
     "metadata": {},
     "output_type": "execute_result"
    }
   ],
   "source": [
    "eeg_images.shape"
   ]
  },
  {
   "cell_type": "code",
   "execution_count": 209,
   "id": "4468aefe",
   "metadata": {},
   "outputs": [
    {
     "data": {
      "text/plain": [
       "(32, 32, 5)"
      ]
     },
     "execution_count": 209,
     "metadata": {},
     "output_type": "execute_result"
    }
   ],
   "source": [
    "image_test = np.moveaxis(eeg_images[0], 0 ,-1)\n",
    "image_test.shape"
   ]
  },
  {
   "cell_type": "code",
   "execution_count": 211,
   "id": "40b25c69",
   "metadata": {},
   "outputs": [],
   "source": [
    "image_test_normalized = (image_test - np.min(image_test)) / (np.max(image_test) - np.min(image_test))"
   ]
  },
  {
   "cell_type": "code",
   "execution_count": 224,
   "id": "837b10c3",
   "metadata": {},
   "outputs": [
    {
     "data": {
      "image/png": "[encoded data removed]",
      "text/plain": [
       "<Figure size 640x480 with 1 Axes>"
      ]
     },
     "metadata": {},
     "output_type": "display_data"
    }
   ],
   "source": [
    "plt.imshow(image_test_normalized[:, :, 2]) # first participant, image of alpha band psd \n",
    "plt.show()"
   ]
  },
  {
   "cell_type": "code",
   "execution_count": null,
   "id": "b37cc2b6",
   "metadata": {},
   "outputs": [],
   "source": []
  }
 ],
 "metadata": {
  "kernelspec": {
   "display_name": "Python 3 (ipykernel)",
   "language": "python",
   "name": "python3"
  },
  "language_info": {
   "codemirror_mode": {
    "name": "ipython",
    "version": 3
   },
   "file_extension": ".py",
   "mimetype": "text/x-python",
   "name": "python",
   "nbconvert_exporter": "python",
   "pygments_lexer": "ipython3",
   "version": "3.10.6"
  }
 },
 "nbformat": 4,
 "nbformat_minor": 5
}
