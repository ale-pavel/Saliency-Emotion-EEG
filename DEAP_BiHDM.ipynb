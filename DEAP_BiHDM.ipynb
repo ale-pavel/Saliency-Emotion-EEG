{
 "cells": [
  {
   "cell_type": "code",
   "execution_count": 1,
   "id": "fea7fa06",
   "metadata": {},
   "outputs": [
    {
     "data": {
      "application/javascript": [
       "if (!(\"Notification\" in window)) {\n",
       "    alert(\"This browser does not support desktop notifications, so the %%notify magic will not work.\");\n",
       "} else if (Notification.permission !== 'granted' && Notification.permission !== 'denied') {\n",
       "    Notification.requestPermission(function (permission) {\n",
       "        if(!('permission' in Notification)) {\n",
       "            Notification.permission = permission;\n",
       "        }\n",
       "    })\n",
       "}\n"
      ],
      "text/plain": [
       "<IPython.core.display.Javascript object>"
      ]
     },
     "metadata": {},
     "output_type": "display_data"
    }
   ],
   "source": [
    "%load_ext jupyternotify"
   ]
  },
  {
   "cell_type": "code",
   "execution_count": 2,
   "id": "95f0ffbf",
   "metadata": {},
   "outputs": [],
   "source": [
    "from torch.utils.tensorboard import SummaryWriter"
   ]
  },
  {
   "cell_type": "code",
   "execution_count": 3,
   "id": "4e396637",
   "metadata": {},
   "outputs": [],
   "source": [
    "writer = SummaryWriter('C:/Users/Alex/git/EEG-emotion/methods/Saliency_Emotion_EEG/TensorBoard/deap_bihdm')"
   ]
  },
  {
   "cell_type": "code",
   "execution_count": 4,
   "id": "6430c112",
   "metadata": {},
   "outputs": [],
   "source": [
    "import torch"
   ]
  },
  {
   "cell_type": "code",
   "execution_count": 5,
   "id": "4a97d460",
   "metadata": {},
   "outputs": [],
   "source": [
    "import scipy.io\n",
    "import numpy as np"
   ]
  },
  {
   "cell_type": "markdown",
   "id": "4d90fb91",
   "metadata": {},
   "source": [
    "## DE Features (one subject)\n",
    "\n",
    "https://github.com/ynulonger/DE_CNN\n",
    "\n",
    "https://www.researchgate.net/publication/328504085_Continuous_Convolutional_Neural_Network_with_3D_Input_for_EEG-Based_Emotion_Recognition"
   ]
  },
  {
   "cell_type": "code",
   "execution_count": 6,
   "id": "d1894301",
   "metadata": {},
   "outputs": [],
   "source": [
    "deap_de_path = '../../methods/DE_CNN/1D_dataset/'"
   ]
  },
  {
   "cell_type": "code",
   "execution_count": 7,
   "id": "4a7a50f4",
   "metadata": {},
   "outputs": [
    {
     "name": "stdout",
     "output_type": "stream",
     "text": [
      "__header__\n",
      "__version__\n",
      "__globals__\n",
      "base_data\n",
      "data\n",
      "valence_labels\n",
      "arousal_labels\n"
     ]
    }
   ],
   "source": [
    "s0 = scipy.io.loadmat(deap_de_path + 'DE_s01.mat')\n",
    "for i, key in enumerate(s0):\n",
    "    print(key)"
   ]
  },
  {
   "cell_type": "code",
   "execution_count": 8,
   "id": "4ddea8b7",
   "metadata": {},
   "outputs": [],
   "source": [
    "X_0 = s0['data']\n",
    "y_0_valence = s0['valence_labels']\n",
    "y_0_arousal = s0['arousal_labels']"
   ]
  },
  {
   "cell_type": "code",
   "execution_count": 9,
   "id": "e6d0a295",
   "metadata": {},
   "outputs": [
    {
     "data": {
      "text/plain": [
       "(2400, 4, 32)"
      ]
     },
     "execution_count": 9,
     "metadata": {},
     "output_type": "execute_result"
    }
   ],
   "source": [
    "X_0.shape"
   ]
  },
  {
   "cell_type": "code",
   "execution_count": 10,
   "id": "3dfb76c4",
   "metadata": {},
   "outputs": [
    {
     "data": {
      "text/plain": [
       "(1, 2400)"
      ]
     },
     "execution_count": 10,
     "metadata": {},
     "output_type": "execute_result"
    }
   ],
   "source": [
    "y_0_valence.shape"
   ]
  },
  {
   "cell_type": "code",
   "execution_count": 11,
   "id": "7756617a",
   "metadata": {},
   "outputs": [
    {
     "data": {
      "text/plain": [
       "(2400, 1)"
      ]
     },
     "execution_count": 11,
     "metadata": {},
     "output_type": "execute_result"
    }
   ],
   "source": [
    "np.transpose(y_0_valence).shape"
   ]
  },
  {
   "cell_type": "markdown",
   "id": "0b7c6de5",
   "metadata": {},
   "source": [
    "### Merge all subjects' features"
   ]
  },
  {
   "cell_type": "markdown",
   "id": "21b64abb",
   "metadata": {},
   "source": [
    "Subjects number and indexing"
   ]
  },
  {
   "cell_type": "code",
   "execution_count": 12,
   "id": "38f48ed8",
   "metadata": {
    "scrolled": true
   },
   "outputs": [
    {
     "name": "stdout",
     "output_type": "stream",
     "text": [
      "1 0 2399\n",
      "2 2400 4799\n",
      "3 4800 7199\n",
      "4 7200 9599\n",
      "5 9600 11999\n",
      "6 12000 14399\n",
      "7 14400 16799\n",
      "8 16800 19199\n",
      "9 19200 21599\n",
      "10 21600 23999\n",
      "11 24000 26399\n",
      "12 26400 28799\n",
      "13 28800 31199\n",
      "14 31200 33599\n",
      "15 33600 35999\n",
      "16 36000 38399\n",
      "17 38400 40799\n",
      "18 40800 43199\n",
      "19 43200 45599\n",
      "20 45600 47999\n",
      "21 48000 50399\n",
      "22 50400 52799\n",
      "23 52800 55199\n",
      "24 55200 57599\n",
      "25 57600 59999\n",
      "26 60000 62399\n",
      "27 62400 64799\n",
      "28 64800 67199\n",
      "29 67200 69599\n",
      "30 69600 71999\n",
      "31 72000 74399\n",
      "32 74400 76799\n"
     ]
    }
   ],
   "source": [
    "c = 2400\n",
    "\n",
    "for idx in range(32):\n",
    "    print(idx+1, idx*c, (idx+1)*c-1)"
   ]
  },
  {
   "cell_type": "code",
   "execution_count": 13,
   "id": "8b96ea15",
   "metadata": {},
   "outputs": [
    {
     "data": {
      "text/plain": [
       "'../../methods/DE_CNN/1D_dataset/'"
      ]
     },
     "execution_count": 13,
     "metadata": {},
     "output_type": "execute_result"
    }
   ],
   "source": [
    "deap_de_path"
   ]
  },
  {
   "cell_type": "code",
   "execution_count": 14,
   "id": "c5a5f1fa",
   "metadata": {},
   "outputs": [],
   "source": [
    "merge_de_cnn_features = False"
   ]
  },
  {
   "cell_type": "code",
   "execution_count": 15,
   "id": "bd55a5cd",
   "metadata": {},
   "outputs": [],
   "source": [
    "if merge_de_cnn_features:\n",
    "    de_cnn_features = np.empty((2400 * 32, 4, 32))\n",
    "    de_cnn_y_valence = np.empty((2400 * 32, 1))\n",
    "    de_cnn_y_arousal = np.empty((2400 * 32, 1))\n",
    "    \n",
    "    for i in range(1, 33):  # Subjects 1-32 in DEAP\n",
    "        subj_data = scipy.io.loadmat(deap_de_path + f'DE_s{i:02}.mat')\n",
    "\n",
    "        Xi_de = subj_data['data']\n",
    "        yi_valence = np.transpose(subj_data['valence_labels'])\n",
    "        yi_arousal = np.transpose(subj_data['arousal_labels'])\n",
    "        \n",
    "        idx = i-1  # indexing 0-31 for arrays\n",
    "        c = 2400  # size of each subject's trials*1s_windows\n",
    "\n",
    "        # efficient assigning, not really needed, could use np.append\n",
    "        de_cnn_features[idx*c:(idx+1)*c] = Xi_de\n",
    "        de_cnn_y_valence[idx*c:(idx+1)*c] = yi_valence\n",
    "        de_cnn_y_arousal[idx*c:(idx+1)*c] = yi_arousal\n",
    "        \n",
    "        save_dict = {'data': de_cnn_features, \n",
    "                     'valence_labels': de_cnn_y_valence, \n",
    "                     'arousal_labels': de_cnn_y_arousal}\n",
    "         \n",
    "    np.save(deap_de_path + 'DE_merged.npy', save_dict)  "
   ]
  },
  {
   "cell_type": "code",
   "execution_count": 16,
   "id": "dcfb2001",
   "metadata": {},
   "outputs": [
    {
     "name": "stdout",
     "output_type": "stream",
     "text": [
      "Loaded from file.\n",
      "(76800, 4, 32)\n",
      "(76800, 1)\n",
      "(76800, 1)\n"
     ]
    }
   ],
   "source": [
    "if not merge_de_cnn_features:\n",
    "    de_cnn_merged = np.load(deap_de_path + 'DE_merged.npy', allow_pickle=True).item()\n",
    "    de_cnn_features = de_cnn_merged['data']\n",
    "    de_cnn_y_valence = de_cnn_merged['valence_labels']\n",
    "    de_cnn_y_arousal = de_cnn_merged['arousal_labels']\n",
    "    \n",
    "    print('Loaded from file.')\n",
    "    print(de_cnn_features.shape)\n",
    "    print(de_cnn_y_valence.shape)\n",
    "    print(de_cnn_y_arousal.shape)"
   ]
  },
  {
   "cell_type": "markdown",
   "id": "cb0af6c0",
   "metadata": {},
   "source": [
    "## Load DE Features (all subjects)\n",
    "\n",
    "https://github.com/gzoumpourlis/DEAP_MNE_preprocessing"
   ]
  },
  {
   "cell_type": "code",
   "execution_count": 17,
   "id": "309919d9",
   "metadata": {},
   "outputs": [],
   "source": [
    "de_features_path = '../../preprocessing/DEAP_MNE_preprocessing/features_new/de_feats_merged.npy'"
   ]
  },
  {
   "cell_type": "code",
   "execution_count": 18,
   "id": "529ded37",
   "metadata": {},
   "outputs": [],
   "source": [
    "de_features = np.load(de_features_path)"
   ]
  },
  {
   "cell_type": "code",
   "execution_count": 19,
   "id": "de730857",
   "metadata": {},
   "outputs": [
    {
     "data": {
      "text/plain": [
       "(1280, 32, 5, 232)"
      ]
     },
     "execution_count": 19,
     "metadata": {},
     "output_type": "execute_result"
    }
   ],
   "source": [
    "de_features.shape"
   ]
  },
  {
   "cell_type": "code",
   "execution_count": 20,
   "id": "c2dbdd67",
   "metadata": {},
   "outputs": [],
   "source": [
    "deap_path = '../../datasets/DEAP/merged/'"
   ]
  },
  {
   "cell_type": "code",
   "execution_count": 21,
   "id": "798fae6e",
   "metadata": {},
   "outputs": [
    {
     "data": {
      "text/plain": [
       "(1280, 3)"
      ]
     },
     "execution_count": 21,
     "metadata": {},
     "output_type": "execute_result"
    }
   ],
   "source": [
    "y = np.load(deap_path + 'deap_full_labels.npy')\n",
    "y.shape"
   ]
  },
  {
   "cell_type": "markdown",
   "id": "391535f0",
   "metadata": {},
   "source": [
    "Column 0 is Valence, 1 is Arousal, 2 is quadrants notation (HAHV, HALV, LAHV, LALV)"
   ]
  },
  {
   "cell_type": "code",
   "execution_count": 22,
   "id": "1973329e",
   "metadata": {},
   "outputs": [],
   "source": [
    "valence = 0\n",
    "arousal = 1\n",
    "quadrants = 2"
   ]
  },
  {
   "cell_type": "code",
   "execution_count": 23,
   "id": "7f62053b",
   "metadata": {},
   "outputs": [],
   "source": [
    "y = y[:, valence]"
   ]
  },
  {
   "cell_type": "code",
   "execution_count": 24,
   "id": "09519b5e",
   "metadata": {},
   "outputs": [
    {
     "data": {
      "text/plain": [
       "(1280,)"
      ]
     },
     "execution_count": 24,
     "metadata": {},
     "output_type": "execute_result"
    }
   ],
   "source": [
    "y.shape"
   ]
  },
  {
   "cell_type": "markdown",
   "id": "b8f63235",
   "metadata": {},
   "source": [
    "## Define DEAP Dataset"
   ]
  },
  {
   "cell_type": "code",
   "execution_count": 25,
   "id": "0d279b18",
   "metadata": {
    "ExecuteTime": {
     "end_time": "2022-11-16T23:18:14.892936Z",
     "start_time": "2022-11-16T23:18:14.886230Z"
    },
    "scrolled": false
   },
   "outputs": [],
   "source": [
    "from torch.utils.data import Dataset"
   ]
  },
  {
   "cell_type": "code",
   "execution_count": 26,
   "id": "44850796",
   "metadata": {
    "ExecuteTime": {
     "end_time": "2022-11-16T23:18:14.903641Z",
     "start_time": "2022-11-16T23:18:14.895007Z"
    }
   },
   "outputs": [],
   "source": [
    "class DEAPDataset(Dataset):\n",
    "    def __init__(self, data, labels):\n",
    "        self.X = data\n",
    "        self.y = labels\n",
    "    def __len__(self):\n",
    "        return len(self.y)\n",
    "    def __getitem__(self, idx):\n",
    "        return self.X[idx], self.y[idx]"
   ]
  },
  {
   "cell_type": "markdown",
   "id": "1ed4d756",
   "metadata": {},
   "source": [
    "Either use 'de_features' (DEAP_MNE_preprocessing) or 'de_cnn_features' (DE_CNN)\n",
    "\n",
    "Labels are 'y' or 'de_cnn_y_valence/de_cnn_y_arousal' respectively"
   ]
  },
  {
   "cell_type": "code",
   "execution_count": 27,
   "id": "13655227",
   "metadata": {},
   "outputs": [],
   "source": [
    "use_de_cnn = True"
   ]
  },
  {
   "cell_type": "code",
   "execution_count": 28,
   "id": "f1977f24",
   "metadata": {},
   "outputs": [],
   "source": [
    "if use_de_cnn:\n",
    "    deap_dataset = DEAPDataset(de_cnn_features, de_cnn_y_valence)\n",
    "else:\n",
    "    deap_dataset = DEAPDataset(de_features, y)"
   ]
  },
  {
   "cell_type": "code",
   "execution_count": 29,
   "id": "e3076444",
   "metadata": {},
   "outputs": [
    {
     "data": {
      "text/plain": [
       "(4, 32)"
      ]
     },
     "execution_count": 29,
     "metadata": {},
     "output_type": "execute_result"
    }
   ],
   "source": [
    "deap_dataset[0][0].shape"
   ]
  },
  {
   "cell_type": "code",
   "execution_count": 30,
   "id": "81909eec",
   "metadata": {},
   "outputs": [
    {
     "data": {
      "text/plain": [
       "(64, 32, 5, 232)"
      ]
     },
     "execution_count": 30,
     "metadata": {},
     "output_type": "execute_result"
    }
   ],
   "source": [
    "input_data = de_features[:64] # small batch deap_mne_preprocessing\n",
    "input_data.shape"
   ]
  },
  {
   "cell_type": "code",
   "execution_count": 31,
   "id": "fafc0d48",
   "metadata": {},
   "outputs": [
    {
     "data": {
      "text/plain": [
       "(64, 4, 32)"
      ]
     },
     "execution_count": 31,
     "metadata": {},
     "output_type": "execute_result"
    }
   ],
   "source": [
    "input_data = de_cnn_features[:64] # small batch de_cnn\n",
    "input_data.shape"
   ]
  },
  {
   "cell_type": "markdown",
   "id": "b26d9426",
   "metadata": {},
   "source": [
    "## DataLoader"
   ]
  },
  {
   "cell_type": "code",
   "execution_count": 32,
   "id": "caf16a4c",
   "metadata": {},
   "outputs": [],
   "source": [
    "from torch.utils.data import DataLoader"
   ]
  },
  {
   "cell_type": "code",
   "execution_count": 33,
   "id": "99e08902",
   "metadata": {},
   "outputs": [],
   "source": [
    "batch_size=32"
   ]
  },
  {
   "cell_type": "code",
   "execution_count": 34,
   "id": "7f668ada",
   "metadata": {},
   "outputs": [
    {
     "name": "stdout",
     "output_type": "stream",
     "text": [
      "0.75 0.25\n",
      "57600 19200\n"
     ]
    }
   ],
   "source": [
    "train_split = 0.75\n",
    "test_split = 0.25\n",
    "\n",
    "train_n_elems = int(train_split * len(deap_dataset))\n",
    "test_n_elems = int(test_split * len(deap_dataset))\n",
    "\n",
    "print(train_split, test_split)\n",
    "print(train_n_elems, test_n_elems)"
   ]
  },
  {
   "cell_type": "code",
   "execution_count": 35,
   "id": "e5c4c176",
   "metadata": {},
   "outputs": [],
   "source": [
    "from torch.utils.data import random_split"
   ]
  },
  {
   "cell_type": "code",
   "execution_count": 36,
   "id": "d05de09c",
   "metadata": {},
   "outputs": [],
   "source": [
    "deap_train, deap_test = random_split(deap_dataset, [train_n_elems, test_n_elems])"
   ]
  },
  {
   "cell_type": "code",
   "execution_count": 37,
   "id": "bebe5f3d",
   "metadata": {},
   "outputs": [],
   "source": [
    "# deap_train = deap_dataset[:train_n_elems]\n",
    "# deap_test = deap_dataset[train_n_elems:]"
   ]
  },
  {
   "cell_type": "code",
   "execution_count": 38,
   "id": "940783ec",
   "metadata": {},
   "outputs": [
    {
     "data": {
      "text/plain": [
       "57600"
      ]
     },
     "execution_count": 38,
     "metadata": {},
     "output_type": "execute_result"
    }
   ],
   "source": [
    "len(deap_train)"
   ]
  },
  {
   "cell_type": "code",
   "execution_count": 39,
   "id": "b00e2f35",
   "metadata": {},
   "outputs": [],
   "source": [
    "train_dataloader = DataLoader(deap_train, batch_size=batch_size, shuffle=True, num_workers=0)\n",
    "test_dataloader = DataLoader(deap_test, batch_size=batch_size, shuffle=True, num_workers=0)"
   ]
  },
  {
   "cell_type": "markdown",
   "id": "b0e1a57c",
   "metadata": {},
   "source": [
    "## Define BiHDM Model"
   ]
  },
  {
   "cell_type": "code",
   "execution_count": 40,
   "id": "3c4014e4",
   "metadata": {},
   "outputs": [
    {
     "data": {
      "text/plain": [
       "device(type='cpu')"
      ]
     },
     "execution_count": 40,
     "metadata": {},
     "output_type": "execute_result"
    }
   ],
   "source": [
    "use_cuda = torch.cuda.is_available()\n",
    "device = torch.device('cuda:0' if use_cuda else 'cpu')\n",
    "device"
   ]
  },
  {
   "cell_type": "code",
   "execution_count": 41,
   "id": "cb6597ff",
   "metadata": {},
   "outputs": [],
   "source": [
    "from Models_DEAP import BiHDM"
   ]
  },
  {
   "cell_type": "markdown",
   "id": "1084561d",
   "metadata": {},
   "source": [
    "### BiHDM Initialization Parameters"
   ]
  },
  {
   "cell_type": "code",
   "execution_count": 42,
   "id": "b784f0e1",
   "metadata": {},
   "outputs": [],
   "source": [
    "hidden_size = 32\n",
    "num_layers = 2\n",
    "input_size = 4\n",
    "n_classes = 1\n",
    "\n",
    "# batch_first=False\n",
    "# bidirectional=False\n",
    "\n",
    "fc_input=448\n",
    "fc_hidden=96"
   ]
  },
  {
   "cell_type": "code",
   "execution_count": 43,
   "id": "fe6a55ab",
   "metadata": {},
   "outputs": [],
   "source": [
    "model = BiHDM(hidden_size=hidden_size, num_layers=num_layers, input_size=input_size, \n",
    "              fc_input=fc_input, fc_hidden=fc_hidden, n_classes=n_classes)"
   ]
  },
  {
   "cell_type": "code",
   "execution_count": 44,
   "id": "0a128b11",
   "metadata": {},
   "outputs": [
    {
     "data": {
      "text/plain": [
       "BiHDM(\n",
       "  (RNN_VL): RNN(4, 32, num_layers=2)\n",
       "  (RNN_VR): RNN(4, 32, num_layers=2)\n",
       "  (RNN_V): RNN(32, 32, num_layers=2)\n",
       "  (RNN_HL): RNN(4, 32, num_layers=2)\n",
       "  (RNN_HR): RNN(4, 32, num_layers=2)\n",
       "  (RNN_H): RNN(32, 32, num_layers=2)\n",
       "  (fc_v): Sequential(\n",
       "    (0): Linear(in_features=448, out_features=96, bias=True)\n",
       "    (1): ReLU()\n",
       "  )\n",
       "  (fc_h): Sequential(\n",
       "    (0): Linear(in_features=448, out_features=96, bias=True)\n",
       "    (1): ReLU()\n",
       "  )\n",
       "  (fc_c): Sequential(\n",
       "    (0): Linear(in_features=96, out_features=1, bias=True)\n",
       "  )\n",
       ")"
      ]
     },
     "execution_count": 44,
     "metadata": {},
     "output_type": "execute_result"
    }
   ],
   "source": [
    "model.to(device).float()"
   ]
  },
  {
   "cell_type": "code",
   "execution_count": 45,
   "id": "c5b3730d",
   "metadata": {},
   "outputs": [
    {
     "data": {
      "text/plain": [
       "torch.Size([32, 4, 32])"
      ]
     },
     "execution_count": 45,
     "metadata": {},
     "output_type": "execute_result"
    }
   ],
   "source": [
    "example_data = next(iter(train_dataloader))\n",
    "example_data[0].shape"
   ]
  },
  {
   "cell_type": "code",
   "execution_count": 46,
   "id": "2f53a80b",
   "metadata": {},
   "outputs": [],
   "source": [
    "writer.add_graph(model, example_data[0].float().permute(0, 2, 1).to(device))\n",
    "#writer.close()\n",
    "#sys.exit()"
   ]
  },
  {
   "cell_type": "code",
   "execution_count": 47,
   "id": "8d534139",
   "metadata": {},
   "outputs": [],
   "source": [
    "#writer.add_scalar('test', 1, 3)"
   ]
  },
  {
   "cell_type": "markdown",
   "id": "0c22c788",
   "metadata": {},
   "source": [
    "## Training BiHDM"
   ]
  },
  {
   "cell_type": "code",
   "execution_count": 48,
   "id": "55cf0b7e",
   "metadata": {},
   "outputs": [],
   "source": [
    "criterion = torch.nn.BCEWithLogitsLoss()"
   ]
  },
  {
   "cell_type": "code",
   "execution_count": 49,
   "id": "282fd287",
   "metadata": {},
   "outputs": [],
   "source": [
    "lr=0.001\n",
    "betas=(0.9, 0.999)\n",
    "\n",
    "optimizer = torch.optim.Adam(model.parameters(), lr=lr, betas=betas)"
   ]
  },
  {
   "cell_type": "code",
   "execution_count": 50,
   "id": "77240e9c",
   "metadata": {},
   "outputs": [],
   "source": [
    "num_epochs = 100"
   ]
  },
  {
   "cell_type": "code",
   "execution_count": 51,
   "id": "f09f20b6",
   "metadata": {},
   "outputs": [],
   "source": [
    "n_total_steps = len(train_dataloader)"
   ]
  },
  {
   "cell_type": "code",
   "execution_count": 52,
   "id": "5a89b2cf",
   "metadata": {},
   "outputs": [],
   "source": [
    "model_path = './saved_models/BiHDM-Model.pth'"
   ]
  },
  {
   "cell_type": "code",
   "execution_count": 53,
   "id": "0dc7c469",
   "metadata": {},
   "outputs": [],
   "source": [
    "skip_training = False\n",
    "resume_training = False"
   ]
  },
  {
   "cell_type": "code",
   "execution_count": 54,
   "id": "e1635a77",
   "metadata": {},
   "outputs": [
    {
     "name": "stdout",
     "output_type": "stream",
     "text": [
      "1000\n"
     ]
    }
   ],
   "source": [
    "if not skip_training:\n",
    "    if resume_training:\n",
    "        #checkpoint = torch.load(model_path, map_location=torch.device('cpu'))\n",
    "        checkpoint = torch.load(model_path)\n",
    "        model.load_state_dict(checkpoint['model_state_dict'])\n",
    "        optimizer.load_state_dict(checkpoint['optimizer_state_dict']) \n",
    "        min_loss = checkpoint['min_loss']\n",
    "    else:\n",
    "        min_loss = 1000\n",
    "        \n",
    "print(min_loss)    "
   ]
  },
  {
   "cell_type": "code",
   "execution_count": 55,
   "id": "2a97e82c",
   "metadata": {},
   "outputs": [],
   "source": [
    "running_loss = 0.0\n",
    "running_correct = 0\n",
    "acc_n_steps = 300"
   ]
  },
  {
   "cell_type": "code",
   "execution_count": 61,
   "id": "7dbbcebd",
   "metadata": {
    "scrolled": true
   },
   "outputs": [
    {
     "name": "stdout",
     "output_type": "stream",
     "text": [
      "Epoch [1/100], Step [300/1800], Loss: 0.645213, Accuracy: 44.90\n",
      "Epoch [1/100], Step [600/1800], Loss: 0.684014, Accuracy: 45.14\n",
      "Epoch [1/100], Step [900/1800], Loss: 0.656388, Accuracy: 43.94\n",
      "Epoch [1/100], Step [1200/1800], Loss: 0.652716, Accuracy: 44.69\n",
      "Epoch [1/100], Step [1500/1800], Loss: 0.560026, Accuracy: 44.72\n",
      "Epoch [1/100], Step [1800/1800], Loss: 0.589553, Accuracy: 44.38\n",
      "Epoch [2/100], Step [300/1800], Loss: 0.563429, Accuracy: 44.44\n",
      "Epoch [2/100], Step [600/1800], Loss: 0.576751, Accuracy: 45.45\n",
      "Epoch [2/100], Step [900/1800], Loss: 0.553657, Accuracy: 44.42\n",
      "Epoch [2/100], Step [1200/1800], Loss: 0.568537, Accuracy: 44.59\n",
      "Epoch [2/100], Step [1500/1800], Loss: 0.616477, Accuracy: 44.36\n",
      "Epoch [2/100], Step [1800/1800], Loss: 0.674468, Accuracy: 44.49\n",
      "Epoch [3/100], Step [300/1800], Loss: 0.447895, Accuracy: 44.89\n",
      "Epoch [3/100], Step [600/1800], Loss: 0.597282, Accuracy: 43.66\n",
      "Epoch [3/100], Step [900/1800], Loss: 0.655064, Accuracy: 44.83\n",
      "Epoch [3/100], Step [1200/1800], Loss: 0.648868, Accuracy: 44.80\n",
      "Epoch [3/100], Step [1500/1800], Loss: 0.557060, Accuracy: 44.60\n",
      "Epoch [3/100], Step [1800/1800], Loss: 0.556217, Accuracy: 44.97\n",
      "Epoch [4/100], Step [300/1800], Loss: 0.657346, Accuracy: 44.90\n",
      "Epoch [4/100], Step [600/1800], Loss: 0.570140, Accuracy: 44.22\n",
      "Epoch [4/100], Step [900/1800], Loss: 0.686643, Accuracy: 44.40\n",
      "Epoch [4/100], Step [1200/1800], Loss: 0.627140, Accuracy: 45.09\n",
      "Epoch [4/100], Step [1500/1800], Loss: 0.547251, Accuracy: 44.57\n",
      "Epoch [4/100], Step [1800/1800], Loss: 0.677381, Accuracy: 44.57\n",
      "Epoch [5/100], Step [300/1800], Loss: 0.670104, Accuracy: 44.24\n",
      "Epoch [5/100], Step [600/1800], Loss: 0.547854, Accuracy: 44.30\n",
      "Epoch [5/100], Step [900/1800], Loss: 0.501292, Accuracy: 44.64\n",
      "Epoch [5/100], Step [1200/1800], Loss: 0.642938, Accuracy: 44.69\n",
      "Epoch [5/100], Step [1500/1800], Loss: 0.520516, Accuracy: 44.57\n",
      "Epoch [5/100], Step [1800/1800], Loss: 0.552067, Accuracy: 45.31\n",
      "Epoch [6/100], Step [300/1800], Loss: 0.620105, Accuracy: 45.01\n",
      "Epoch [6/100], Step [600/1800], Loss: 0.548840, Accuracy: 46.00\n",
      "Epoch [6/100], Step [900/1800], Loss: 0.515077, Accuracy: 43.82\n",
      "Epoch [6/100], Step [1200/1800], Loss: 0.487145, Accuracy: 44.45\n",
      "Epoch [6/100], Step [1500/1800], Loss: 0.562004, Accuracy: 44.39\n",
      "Epoch [6/100], Step [1800/1800], Loss: 0.614453, Accuracy: 44.08\n",
      "Saved checkpoint - loss: 0.739469\n",
      "Saved checkpoint - loss: 0.664870\n",
      "Saved checkpoint - loss: 0.636024\n",
      "Saved checkpoint - loss: 0.452750\n",
      "Saved checkpoint - loss: 0.355732\n",
      "Epoch [7/100], Step [300/1800], Loss: 0.518563, Accuracy: 44.16\n",
      "Epoch [7/100], Step [600/1800], Loss: 0.532363, Accuracy: 44.71\n",
      "Saved checkpoint - loss: 0.345610\n",
      "Saved checkpoint - loss: 0.340814\n",
      "Epoch [7/100], Step [900/1800], Loss: 0.427214, Accuracy: 44.90\n",
      "Epoch [7/100], Step [1200/1800], Loss: 0.480500, Accuracy: 45.29\n",
      "Epoch [7/100], Step [1500/1800], Loss: 0.493093, Accuracy: 44.55\n",
      "Saved checkpoint - loss: 0.325466\n",
      "Epoch [7/100], Step [1800/1800], Loss: 0.479350, Accuracy: 44.15\n",
      "Epoch [8/100], Step [300/1800], Loss: 0.553016, Accuracy: 44.49\n",
      "Epoch [8/100], Step [600/1800], Loss: 0.406502, Accuracy: 45.42\n",
      "Epoch [8/100], Step [900/1800], Loss: 0.546598, Accuracy: 44.45\n",
      "Epoch [8/100], Step [1200/1800], Loss: 0.615703, Accuracy: 44.57\n",
      "Epoch [8/100], Step [1500/1800], Loss: 0.552214, Accuracy: 44.52\n",
      "Epoch [8/100], Step [1800/1800], Loss: 0.636222, Accuracy: 44.30\n",
      "Epoch [9/100], Step [300/1800], Loss: 0.445625, Accuracy: 44.42\n",
      "Epoch [9/100], Step [600/1800], Loss: 0.510253, Accuracy: 45.02\n",
      "Saved checkpoint - loss: 0.307127\n",
      "Epoch [9/100], Step [900/1800], Loss: 0.545304, Accuracy: 44.38\n",
      "Epoch [9/100], Step [1200/1800], Loss: 0.489102, Accuracy: 44.24\n",
      "Epoch [9/100], Step [1500/1800], Loss: 0.553570, Accuracy: 44.40\n",
      "Epoch [9/100], Step [1800/1800], Loss: 0.641174, Accuracy: 45.30\n",
      "Epoch [10/100], Step [300/1800], Loss: 0.365387, Accuracy: 44.89\n",
      "Epoch [10/100], Step [600/1800], Loss: 0.417621, Accuracy: 44.01\n",
      "Saved checkpoint - loss: 0.302771\n",
      "Epoch [10/100], Step [900/1800], Loss: 0.489972, Accuracy: 44.28\n",
      "Epoch [10/100], Step [1200/1800], Loss: 0.527742, Accuracy: 44.70\n",
      "Epoch [10/100], Step [1500/1800], Loss: 0.489043, Accuracy: 44.65\n",
      "Epoch [10/100], Step [1800/1800], Loss: 0.483099, Accuracy: 45.23\n",
      "Epoch [11/100], Step [300/1800], Loss: 0.435352, Accuracy: 44.76\n",
      "Saved checkpoint - loss: 0.300470\n",
      "Epoch [11/100], Step [600/1800], Loss: 0.578153, Accuracy: 44.74\n",
      "Epoch [11/100], Step [900/1800], Loss: 0.616301, Accuracy: 44.90\n",
      "Epoch [11/100], Step [1200/1800], Loss: 0.735610, Accuracy: 44.01\n",
      "Epoch [11/100], Step [1500/1800], Loss: 0.545840, Accuracy: 44.04\n",
      "Epoch [11/100], Step [1800/1800], Loss: 0.480040, Accuracy: 45.30\n",
      "Epoch [12/100], Step [300/1800], Loss: 0.662556, Accuracy: 44.99\n",
      "Epoch [12/100], Step [600/1800], Loss: 0.357384, Accuracy: 44.32\n",
      "Epoch [12/100], Step [900/1800], Loss: 0.588824, Accuracy: 44.07\n",
      "Epoch [12/100], Step [1200/1800], Loss: 0.423233, Accuracy: 45.32\n",
      "Epoch [12/100], Step [1500/1800], Loss: 0.496708, Accuracy: 44.85\n",
      "Epoch [12/100], Step [1800/1800], Loss: 0.496088, Accuracy: 44.19\n",
      "Epoch [13/100], Step [300/1800], Loss: 0.406681, Accuracy: 44.73\n",
      "Epoch [13/100], Step [600/1800], Loss: 0.466746, Accuracy: 45.02\n",
      "Epoch [13/100], Step [900/1800], Loss: 0.469761, Accuracy: 44.26\n",
      "Saved checkpoint - loss: 0.277746\n",
      "Epoch [13/100], Step [1200/1800], Loss: 0.550824, Accuracy: 44.69\n",
      "Epoch [13/100], Step [1500/1800], Loss: 0.428114, Accuracy: 44.47\n",
      "Epoch [13/100], Step [1800/1800], Loss: 0.560609, Accuracy: 44.58\n",
      "Saved checkpoint - loss: 0.274388\n",
      "Epoch [14/100], Step [300/1800], Loss: 0.532554, Accuracy: 45.15\n",
      "Epoch [14/100], Step [600/1800], Loss: 0.649343, Accuracy: 44.77\n",
      "Epoch [14/100], Step [900/1800], Loss: 0.552499, Accuracy: 44.64\n",
      "Epoch [14/100], Step [1200/1800], Loss: 0.379701, Accuracy: 44.67\n",
      "Epoch [14/100], Step [1500/1800], Loss: 0.580046, Accuracy: 44.22\n",
      "Epoch [14/100], Step [1800/1800], Loss: 0.518207, Accuracy: 44.31\n",
      "Saved checkpoint - loss: 0.269266\n",
      "Saved checkpoint - loss: 0.230411\n",
      "Epoch [15/100], Step [300/1800], Loss: 0.597119, Accuracy: 44.35\n",
      "Epoch [15/100], Step [600/1800], Loss: 0.412690, Accuracy: 44.10\n",
      "Epoch [15/100], Step [900/1800], Loss: 0.484188, Accuracy: 44.95\n",
      "Saved checkpoint - loss: 0.193646\n",
      "Epoch [15/100], Step [1200/1800], Loss: 0.562369, Accuracy: 44.74\n",
      "Epoch [15/100], Step [1500/1800], Loss: 0.415179, Accuracy: 45.41\n",
      "Epoch [15/100], Step [1800/1800], Loss: 0.503377, Accuracy: 44.20\n",
      "Epoch [16/100], Step [300/1800], Loss: 0.480255, Accuracy: 44.58\n",
      "Epoch [16/100], Step [600/1800], Loss: 0.544111, Accuracy: 44.83\n",
      "Epoch [16/100], Step [900/1800], Loss: 0.456611, Accuracy: 44.25\n",
      "Epoch [16/100], Step [1200/1800], Loss: 0.495338, Accuracy: 44.60\n",
      "Epoch [16/100], Step [1500/1800], Loss: 0.422600, Accuracy: 44.41\n",
      "Epoch [16/100], Step [1800/1800], Loss: 0.487197, Accuracy: 45.07\n",
      "Epoch [17/100], Step [300/1800], Loss: 0.630257, Accuracy: 44.53\n",
      "Epoch [17/100], Step [600/1800], Loss: 0.699313, Accuracy: 44.58\n",
      "Epoch [17/100], Step [900/1800], Loss: 0.486804, Accuracy: 44.82\n",
      "Epoch [17/100], Step [1200/1800], Loss: 0.475930, Accuracy: 44.50\n",
      "Epoch [17/100], Step [1500/1800], Loss: 0.407797, Accuracy: 44.52\n",
      "Epoch [17/100], Step [1800/1800], Loss: 0.647305, Accuracy: 44.79\n",
      "Epoch [18/100], Step [300/1800], Loss: 0.532726, Accuracy: 45.05\n",
      "Epoch [18/100], Step [600/1800], Loss: 0.357802, Accuracy: 45.30\n",
      "Epoch [18/100], Step [900/1800], Loss: 0.568799, Accuracy: 44.18\n",
      "Epoch [18/100], Step [1200/1800], Loss: 0.497992, Accuracy: 44.57\n",
      "Epoch [18/100], Step [1500/1800], Loss: 0.503046, Accuracy: 44.15\n",
      "Epoch [18/100], Step [1800/1800], Loss: 0.475554, Accuracy: 44.50\n",
      "Epoch [19/100], Step [300/1800], Loss: 0.438201, Accuracy: 43.79\n",
      "Epoch [19/100], Step [600/1800], Loss: 0.461031, Accuracy: 44.66\n",
      "Epoch [19/100], Step [900/1800], Loss: 0.594128, Accuracy: 45.19\n",
      "Epoch [19/100], Step [1200/1800], Loss: 0.621713, Accuracy: 44.76\n",
      "Epoch [19/100], Step [1500/1800], Loss: 0.500904, Accuracy: 44.42\n",
      "Epoch [19/100], Step [1800/1800], Loss: 0.513617, Accuracy: 44.94\n",
      "Epoch [20/100], Step [300/1800], Loss: 0.396228, Accuracy: 44.76\n",
      "Epoch [20/100], Step [600/1800], Loss: 0.428985, Accuracy: 44.61\n",
      "Epoch [20/100], Step [900/1800], Loss: 0.431994, Accuracy: 44.31\n",
      "Epoch [20/100], Step [1200/1800], Loss: 0.301384, Accuracy: 44.73\n"
     ]
    },
    {
     "name": "stdout",
     "output_type": "stream",
     "text": [
      "Epoch [20/100], Step [1500/1800], Loss: 0.456962, Accuracy: 44.59\n",
      "Epoch [20/100], Step [1800/1800], Loss: 0.570227, Accuracy: 44.74\n",
      "Epoch [21/100], Step [300/1800], Loss: 0.517955, Accuracy: 45.30\n",
      "Epoch [21/100], Step [600/1800], Loss: 0.408738, Accuracy: 44.36\n",
      "Epoch [21/100], Step [900/1800], Loss: 0.482150, Accuracy: 44.86\n",
      "Epoch [21/100], Step [1200/1800], Loss: 0.534109, Accuracy: 43.99\n",
      "Epoch [21/100], Step [1500/1800], Loss: 0.475088, Accuracy: 44.74\n",
      "Epoch [21/100], Step [1800/1800], Loss: 0.348393, Accuracy: 44.49\n",
      "Epoch [22/100], Step [300/1800], Loss: 0.484027, Accuracy: 43.88\n",
      "Epoch [22/100], Step [600/1800], Loss: 0.579137, Accuracy: 44.44\n",
      "Epoch [22/100], Step [900/1800], Loss: 0.381793, Accuracy: 44.23\n",
      "Epoch [22/100], Step [1200/1800], Loss: 0.426502, Accuracy: 44.85\n",
      "Epoch [22/100], Step [1500/1800], Loss: 0.534128, Accuracy: 45.29\n",
      "Epoch [22/100], Step [1800/1800], Loss: 0.498062, Accuracy: 45.06\n",
      "Epoch [23/100], Step [300/1800], Loss: 0.468666, Accuracy: 43.90\n",
      "Epoch [23/100], Step [600/1800], Loss: 0.444148, Accuracy: 45.80\n",
      "Epoch [23/100], Step [900/1800], Loss: 0.535725, Accuracy: 44.94\n",
      "Epoch [23/100], Step [1200/1800], Loss: 0.378946, Accuracy: 44.33\n",
      "Epoch [23/100], Step [1500/1800], Loss: 0.460633, Accuracy: 44.55\n",
      "Epoch [23/100], Step [1800/1800], Loss: 0.461883, Accuracy: 44.23\n",
      "Saved checkpoint - loss: 0.184153\n",
      "Epoch [24/100], Step [300/1800], Loss: 0.511615, Accuracy: 44.57\n",
      "Epoch [24/100], Step [600/1800], Loss: 0.529197, Accuracy: 45.36\n",
      "Epoch [24/100], Step [900/1800], Loss: 0.402412, Accuracy: 45.14\n",
      "Epoch [24/100], Step [1200/1800], Loss: 0.441454, Accuracy: 44.50\n",
      "Epoch [24/100], Step [1500/1800], Loss: 0.507871, Accuracy: 44.29\n",
      "Epoch [24/100], Step [1800/1800], Loss: 0.507485, Accuracy: 43.89\n",
      "Epoch [25/100], Step [300/1800], Loss: 0.397387, Accuracy: 44.09\n",
      "Epoch [25/100], Step [600/1800], Loss: 0.420292, Accuracy: 45.38\n",
      "Epoch [25/100], Step [900/1800], Loss: 0.428665, Accuracy: 43.93\n",
      "Epoch [25/100], Step [1200/1800], Loss: 0.498011, Accuracy: 46.11\n",
      "Epoch [25/100], Step [1500/1800], Loss: 0.398222, Accuracy: 44.11\n",
      "Epoch [25/100], Step [1800/1800], Loss: 0.501597, Accuracy: 44.12\n",
      "Epoch [26/100], Step [300/1800], Loss: 0.307017, Accuracy: 44.80\n",
      "Saved checkpoint - loss: 0.164975\n",
      "Epoch [26/100], Step [600/1800], Loss: 0.468379, Accuracy: 44.48\n",
      "Epoch [26/100], Step [900/1800], Loss: 0.375677, Accuracy: 43.93\n",
      "Epoch [26/100], Step [1200/1800], Loss: 0.233449, Accuracy: 44.29\n",
      "Epoch [26/100], Step [1500/1800], Loss: 0.442697, Accuracy: 44.59\n",
      "Epoch [26/100], Step [1800/1800], Loss: 0.588318, Accuracy: 45.66\n",
      "Epoch [27/100], Step [300/1800], Loss: 0.410541, Accuracy: 43.35\n",
      "Epoch [27/100], Step [600/1800], Loss: 0.648286, Accuracy: 44.49\n",
      "Epoch [27/100], Step [900/1800], Loss: 0.398047, Accuracy: 45.89\n",
      "Epoch [27/100], Step [1200/1800], Loss: 0.313882, Accuracy: 45.05\n",
      "Epoch [27/100], Step [1500/1800], Loss: 0.377084, Accuracy: 44.59\n",
      "Saved checkpoint - loss: 0.152498\n",
      "Epoch [27/100], Step [1800/1800], Loss: 0.419674, Accuracy: 44.38\n",
      "Epoch [28/100], Step [300/1800], Loss: 0.410830, Accuracy: 44.45\n",
      "Epoch [28/100], Step [600/1800], Loss: 0.356775, Accuracy: 44.48\n",
      "Epoch [28/100], Step [900/1800], Loss: 0.495034, Accuracy: 44.79\n",
      "Epoch [28/100], Step [1200/1800], Loss: 0.274230, Accuracy: 45.04\n",
      "Epoch [28/100], Step [1500/1800], Loss: 0.474349, Accuracy: 45.03\n",
      "Epoch [28/100], Step [1800/1800], Loss: 0.278761, Accuracy: 43.96\n",
      "Epoch [29/100], Step [300/1800], Loss: 0.413328, Accuracy: 44.60\n",
      "Epoch [29/100], Step [600/1800], Loss: 0.369323, Accuracy: 44.72\n",
      "Epoch [29/100], Step [900/1800], Loss: 0.366256, Accuracy: 44.64\n",
      "Epoch [29/100], Step [1200/1800], Loss: 0.476895, Accuracy: 44.85\n",
      "Epoch [29/100], Step [1500/1800], Loss: 0.425707, Accuracy: 45.21\n",
      "Epoch [29/100], Step [1800/1800], Loss: 0.520577, Accuracy: 43.73\n",
      "Epoch [30/100], Step [300/1800], Loss: 0.338476, Accuracy: 45.14\n",
      "Epoch [30/100], Step [600/1800], Loss: 0.311194, Accuracy: 44.07\n",
      "Epoch [30/100], Step [900/1800], Loss: 0.478139, Accuracy: 44.17\n",
      "Epoch [30/100], Step [1200/1800], Loss: 0.209177, Accuracy: 44.59\n",
      "Epoch [30/100], Step [1500/1800], Loss: 0.477067, Accuracy: 44.84\n",
      "Epoch [30/100], Step [1800/1800], Loss: 0.497012, Accuracy: 44.94\n",
      "Epoch [31/100], Step [300/1800], Loss: 0.377470, Accuracy: 44.47\n",
      "Epoch [31/100], Step [600/1800], Loss: 0.376374, Accuracy: 44.21\n",
      "Epoch [31/100], Step [900/1800], Loss: 0.635830, Accuracy: 44.48\n",
      "Epoch [31/100], Step [1200/1800], Loss: 0.398030, Accuracy: 44.31\n",
      "Epoch [31/100], Step [1500/1800], Loss: 0.364469, Accuracy: 45.77\n",
      "Epoch [31/100], Step [1800/1800], Loss: 0.444237, Accuracy: 44.51\n",
      "Epoch [32/100], Step [300/1800], Loss: 0.310265, Accuracy: 44.52\n",
      "Epoch [32/100], Step [600/1800], Loss: 0.332100, Accuracy: 44.56\n",
      "Epoch [32/100], Step [900/1800], Loss: 0.369899, Accuracy: 44.42\n",
      "Epoch [32/100], Step [1200/1800], Loss: 0.423647, Accuracy: 44.36\n",
      "Epoch [32/100], Step [1500/1800], Loss: 0.363747, Accuracy: 44.66\n",
      "Epoch [32/100], Step [1800/1800], Loss: 0.421945, Accuracy: 45.23\n",
      "Epoch [33/100], Step [300/1800], Loss: 0.477487, Accuracy: 44.57\n",
      "Epoch [33/100], Step [600/1800], Loss: 0.540769, Accuracy: 44.49\n",
      "Epoch [33/100], Step [900/1800], Loss: 0.445033, Accuracy: 45.39\n",
      "Epoch [33/100], Step [1200/1800], Loss: 0.661633, Accuracy: 44.75\n",
      "Epoch [33/100], Step [1500/1800], Loss: 0.529945, Accuracy: 44.07\n",
      "Epoch [33/100], Step [1800/1800], Loss: 0.284312, Accuracy: 44.48\n",
      "Epoch [34/100], Step [300/1800], Loss: 0.528735, Accuracy: 44.03\n",
      "Saved checkpoint - loss: 0.130471\n",
      "Epoch [34/100], Step [600/1800], Loss: 0.331251, Accuracy: 44.28\n",
      "Epoch [34/100], Step [900/1800], Loss: 0.492430, Accuracy: 45.40\n",
      "Epoch [34/100], Step [1200/1800], Loss: 0.309850, Accuracy: 44.04\n",
      "Epoch [34/100], Step [1500/1800], Loss: 0.444497, Accuracy: 44.90\n",
      "Epoch [34/100], Step [1800/1800], Loss: 0.345618, Accuracy: 45.10\n",
      "Epoch [35/100], Step [300/1800], Loss: 0.327948, Accuracy: 45.00\n",
      "Epoch [35/100], Step [600/1800], Loss: 0.348332, Accuracy: 45.89\n",
      "Epoch [35/100], Step [900/1800], Loss: 0.403733, Accuracy: 44.01\n",
      "Saved checkpoint - loss: 0.113906\n",
      "Epoch [35/100], Step [1200/1800], Loss: 0.415648, Accuracy: 43.78\n",
      "Epoch [35/100], Step [1500/1800], Loss: 0.416850, Accuracy: 44.35\n",
      "Epoch [35/100], Step [1800/1800], Loss: 0.417426, Accuracy: 44.72\n",
      "Epoch [36/100], Step [300/1800], Loss: 0.473033, Accuracy: 44.36\n",
      "Epoch [36/100], Step [600/1800], Loss: 0.347254, Accuracy: 44.97\n",
      "Epoch [36/100], Step [900/1800], Loss: 0.363925, Accuracy: 45.42\n",
      "Epoch [36/100], Step [1200/1800], Loss: 0.288018, Accuracy: 44.34\n",
      "Epoch [36/100], Step [1500/1800], Loss: 0.301740, Accuracy: 44.25\n",
      "Epoch [36/100], Step [1800/1800], Loss: 0.432166, Accuracy: 44.41\n",
      "Epoch [37/100], Step [300/1800], Loss: 0.360263, Accuracy: 44.64\n",
      "Epoch [37/100], Step [600/1800], Loss: 0.318373, Accuracy: 44.27\n",
      "Epoch [37/100], Step [900/1800], Loss: 0.572910, Accuracy: 44.78\n",
      "Epoch [37/100], Step [1200/1800], Loss: 0.434722, Accuracy: 44.29\n",
      "Epoch [37/100], Step [1500/1800], Loss: 0.357516, Accuracy: 44.84\n",
      "Epoch [37/100], Step [1800/1800], Loss: 0.295563, Accuracy: 44.93\n",
      "Epoch [38/100], Step [300/1800], Loss: 0.423344, Accuracy: 44.31\n",
      "Epoch [38/100], Step [600/1800], Loss: 0.339333, Accuracy: 44.51\n",
      "Epoch [38/100], Step [900/1800], Loss: 0.390176, Accuracy: 44.27\n",
      "Epoch [38/100], Step [1200/1800], Loss: 0.689772, Accuracy: 45.04\n",
      "Epoch [38/100], Step [1500/1800], Loss: 0.429626, Accuracy: 44.92\n",
      "Epoch [38/100], Step [1800/1800], Loss: 0.330637, Accuracy: 44.70\n",
      "Epoch [39/100], Step [300/1800], Loss: 0.222541, Accuracy: 45.50\n",
      "Epoch [39/100], Step [600/1800], Loss: 0.346327, Accuracy: 44.39\n",
      "Epoch [39/100], Step [900/1800], Loss: 0.329726, Accuracy: 44.50\n",
      "Epoch [39/100], Step [1200/1800], Loss: 0.285052, Accuracy: 45.07\n",
      "Epoch [39/100], Step [1500/1800], Loss: 0.615368, Accuracy: 44.53\n",
      "Epoch [39/100], Step [1800/1800], Loss: 0.321081, Accuracy: 43.76\n",
      "Epoch [40/100], Step [300/1800], Loss: 0.364352, Accuracy: 43.95\n",
      "Epoch [40/100], Step [600/1800], Loss: 0.335456, Accuracy: 43.46\n",
      "Epoch [40/100], Step [900/1800], Loss: 0.313711, Accuracy: 45.18\n",
      "Epoch [40/100], Step [1200/1800], Loss: 0.425935, Accuracy: 44.94\n",
      "Epoch [40/100], Step [1500/1800], Loss: 0.387128, Accuracy: 45.46\n",
      "Epoch [40/100], Step [1800/1800], Loss: 0.265725, Accuracy: 44.77\n",
      "Epoch [41/100], Step [300/1800], Loss: 0.614106, Accuracy: 44.44\n"
     ]
    },
    {
     "name": "stdout",
     "output_type": "stream",
     "text": [
      "Epoch [41/100], Step [600/1800], Loss: 0.306022, Accuracy: 45.14\n",
      "Epoch [41/100], Step [900/1800], Loss: 0.473352, Accuracy: 44.11\n",
      "Epoch [41/100], Step [1200/1800], Loss: 0.326478, Accuracy: 44.95\n",
      "Epoch [41/100], Step [1500/1800], Loss: 0.338830, Accuracy: 44.49\n",
      "Epoch [41/100], Step [1800/1800], Loss: 0.312074, Accuracy: 44.62\n",
      "Epoch [42/100], Step [300/1800], Loss: 0.245071, Accuracy: 44.97\n",
      "Epoch [42/100], Step [600/1800], Loss: 0.262424, Accuracy: 44.74\n",
      "Epoch [42/100], Step [900/1800], Loss: 0.364092, Accuracy: 44.11\n",
      "Epoch [42/100], Step [1200/1800], Loss: 0.398532, Accuracy: 44.79\n",
      "Epoch [42/100], Step [1500/1800], Loss: 0.345310, Accuracy: 45.01\n",
      "Epoch [42/100], Step [1800/1800], Loss: 0.279924, Accuracy: 44.12\n",
      "Epoch [43/100], Step [300/1800], Loss: 0.272869, Accuracy: 44.62\n",
      "Epoch [43/100], Step [600/1800], Loss: 0.298556, Accuracy: 44.38\n",
      "Epoch [43/100], Step [900/1800], Loss: 0.506817, Accuracy: 44.50\n",
      "Epoch [43/100], Step [1200/1800], Loss: 0.347194, Accuracy: 44.68\n",
      "Epoch [43/100], Step [1500/1800], Loss: 0.395690, Accuracy: 44.29\n",
      "Epoch [43/100], Step [1800/1800], Loss: 0.377681, Accuracy: 45.28\n",
      "Epoch [44/100], Step [300/1800], Loss: 0.283457, Accuracy: 44.69\n",
      "Epoch [44/100], Step [600/1800], Loss: 0.437240, Accuracy: 45.00\n",
      "Epoch [44/100], Step [900/1800], Loss: 0.346088, Accuracy: 44.07\n",
      "Epoch [44/100], Step [1200/1800], Loss: 0.310595, Accuracy: 45.00\n",
      "Epoch [44/100], Step [1500/1800], Loss: 0.333814, Accuracy: 44.91\n",
      "Epoch [44/100], Step [1800/1800], Loss: 0.167478, Accuracy: 44.08\n",
      "Epoch [45/100], Step [300/1800], Loss: 0.342955, Accuracy: 44.28\n",
      "Epoch [45/100], Step [600/1800], Loss: 0.326912, Accuracy: 44.74\n",
      "Epoch [45/100], Step [900/1800], Loss: 0.277043, Accuracy: 44.29\n",
      "Epoch [45/100], Step [1200/1800], Loss: 0.501252, Accuracy: 45.68\n",
      "Epoch [45/100], Step [1500/1800], Loss: 0.242249, Accuracy: 44.72\n",
      "Saved checkpoint - loss: 0.101595\n",
      "Epoch [45/100], Step [1800/1800], Loss: 0.293097, Accuracy: 44.04\n",
      "Epoch [46/100], Step [300/1800], Loss: 0.383777, Accuracy: 45.16\n",
      "Epoch [46/100], Step [600/1800], Loss: 0.729943, Accuracy: 44.38\n",
      "Epoch [46/100], Step [900/1800], Loss: 0.413037, Accuracy: 45.18\n",
      "Epoch [46/100], Step [1200/1800], Loss: 0.261489, Accuracy: 44.36\n",
      "Saved checkpoint - loss: 0.090368\n",
      "Epoch [46/100], Step [1500/1800], Loss: 0.204563, Accuracy: 44.47\n",
      "Epoch [46/100], Step [1800/1800], Loss: 0.347397, Accuracy: 44.21\n",
      "Epoch [47/100], Step [300/1800], Loss: 0.289293, Accuracy: 43.57\n",
      "Epoch [47/100], Step [600/1800], Loss: 0.411901, Accuracy: 44.23\n",
      "Epoch [47/100], Step [900/1800], Loss: 0.172292, Accuracy: 45.50\n",
      "Saved checkpoint - loss: 0.074875\n",
      "Epoch [47/100], Step [1200/1800], Loss: 0.371246, Accuracy: 44.28\n",
      "Epoch [47/100], Step [1500/1800], Loss: 0.231548, Accuracy: 45.43\n",
      "Epoch [47/100], Step [1800/1800], Loss: 0.360300, Accuracy: 44.74\n",
      "Epoch [48/100], Step [300/1800], Loss: 0.342135, Accuracy: 45.43\n",
      "Saved checkpoint - loss: 0.042201\n",
      "Epoch [48/100], Step [600/1800], Loss: 0.364753, Accuracy: 44.19\n",
      "Epoch [48/100], Step [900/1800], Loss: 0.315914, Accuracy: 43.48\n",
      "Epoch [48/100], Step [1200/1800], Loss: 0.407561, Accuracy: 45.35\n",
      "Epoch [48/100], Step [1500/1800], Loss: 0.312900, Accuracy: 45.22\n",
      "Epoch [48/100], Step [1800/1800], Loss: 0.509312, Accuracy: 44.08\n",
      "Epoch [49/100], Step [300/1800], Loss: 0.344253, Accuracy: 44.12\n",
      "Epoch [49/100], Step [600/1800], Loss: 0.502158, Accuracy: 45.58\n",
      "Epoch [49/100], Step [900/1800], Loss: 0.357135, Accuracy: 44.19\n",
      "Epoch [49/100], Step [1200/1800], Loss: 0.326629, Accuracy: 44.32\n",
      "Epoch [49/100], Step [1500/1800], Loss: 0.165118, Accuracy: 45.07\n",
      "Epoch [49/100], Step [1800/1800], Loss: 0.527009, Accuracy: 44.46\n",
      "Epoch [50/100], Step [300/1800], Loss: 0.223820, Accuracy: 44.82\n",
      "Epoch [50/100], Step [600/1800], Loss: 0.456217, Accuracy: 44.39\n",
      "Epoch [50/100], Step [900/1800], Loss: 0.222576, Accuracy: 44.10\n",
      "Epoch [50/100], Step [1200/1800], Loss: 0.253441, Accuracy: 44.56\n",
      "Epoch [50/100], Step [1500/1800], Loss: 0.316077, Accuracy: 44.40\n",
      "Epoch [50/100], Step [1800/1800], Loss: 0.448001, Accuracy: 45.48\n",
      "Epoch [51/100], Step [300/1800], Loss: 0.401877, Accuracy: 44.22\n",
      "Epoch [51/100], Step [600/1800], Loss: 0.351922, Accuracy: 45.43\n",
      "Epoch [51/100], Step [900/1800], Loss: 0.318515, Accuracy: 45.68\n",
      "Epoch [51/100], Step [1200/1800], Loss: 0.291385, Accuracy: 44.53\n",
      "Epoch [51/100], Step [1500/1800], Loss: 0.211049, Accuracy: 44.54\n",
      "Epoch [51/100], Step [1800/1800], Loss: 0.453068, Accuracy: 43.35\n",
      "Epoch [52/100], Step [300/1800], Loss: 0.261979, Accuracy: 44.17\n",
      "Epoch [52/100], Step [600/1800], Loss: 0.392898, Accuracy: 45.80\n",
      "Epoch [52/100], Step [900/1800], Loss: 0.558221, Accuracy: 43.90\n",
      "Epoch [52/100], Step [1200/1800], Loss: 0.486257, Accuracy: 44.73\n",
      "Epoch [52/100], Step [1500/1800], Loss: 0.341200, Accuracy: 44.53\n",
      "Epoch [52/100], Step [1800/1800], Loss: 0.249639, Accuracy: 44.62\n",
      "Epoch [53/100], Step [300/1800], Loss: 0.249979, Accuracy: 44.52\n",
      "Epoch [53/100], Step [600/1800], Loss: 0.254201, Accuracy: 45.64\n",
      "Epoch [53/100], Step [900/1800], Loss: 0.218015, Accuracy: 43.67\n",
      "Epoch [53/100], Step [1200/1800], Loss: 0.558960, Accuracy: 43.93\n",
      "Epoch [53/100], Step [1500/1800], Loss: 0.260628, Accuracy: 44.58\n",
      "Epoch [53/100], Step [1800/1800], Loss: 0.397747, Accuracy: 45.42\n",
      "Epoch [54/100], Step [300/1800], Loss: 0.197464, Accuracy: 44.55\n",
      "Epoch [54/100], Step [600/1800], Loss: 0.292332, Accuracy: 44.25\n",
      "Epoch [54/100], Step [900/1800], Loss: 0.351591, Accuracy: 44.46\n",
      "Epoch [54/100], Step [1200/1800], Loss: 0.259261, Accuracy: 45.46\n",
      "Epoch [54/100], Step [1500/1800], Loss: 0.343184, Accuracy: 44.86\n",
      "Epoch [54/100], Step [1800/1800], Loss: 0.437565, Accuracy: 44.17\n",
      "Epoch [55/100], Step [300/1800], Loss: 0.353404, Accuracy: 44.59\n",
      "Epoch [55/100], Step [600/1800], Loss: 0.535594, Accuracy: 44.59\n",
      "Epoch [55/100], Step [900/1800], Loss: 0.315099, Accuracy: 44.83\n",
      "Epoch [55/100], Step [1200/1800], Loss: 0.251275, Accuracy: 44.79\n",
      "Epoch [55/100], Step [1500/1800], Loss: 0.327349, Accuracy: 44.44\n",
      "Epoch [55/100], Step [1800/1800], Loss: 0.394295, Accuracy: 44.50\n",
      "Epoch [56/100], Step [300/1800], Loss: 0.484507, Accuracy: 44.21\n",
      "Epoch [56/100], Step [600/1800], Loss: 0.311129, Accuracy: 45.03\n",
      "Epoch [56/100], Step [900/1800], Loss: 0.341034, Accuracy: 44.94\n",
      "Epoch [56/100], Step [1200/1800], Loss: 0.537785, Accuracy: 44.71\n",
      "Epoch [56/100], Step [1500/1800], Loss: 0.293328, Accuracy: 44.23\n",
      "Epoch [56/100], Step [1800/1800], Loss: 0.354825, Accuracy: 44.64\n",
      "Epoch [57/100], Step [300/1800], Loss: 0.286237, Accuracy: 45.10\n",
      "Epoch [57/100], Step [600/1800], Loss: 0.316143, Accuracy: 44.45\n",
      "Epoch [57/100], Step [900/1800], Loss: 0.229019, Accuracy: 44.38\n",
      "Epoch [57/100], Step [1200/1800], Loss: 0.254011, Accuracy: 44.60\n",
      "Epoch [57/100], Step [1500/1800], Loss: 0.251142, Accuracy: 44.38\n",
      "Epoch [57/100], Step [1800/1800], Loss: 0.285113, Accuracy: 44.84\n",
      "Epoch [58/100], Step [300/1800], Loss: 0.317848, Accuracy: 44.75\n",
      "Epoch [58/100], Step [600/1800], Loss: 0.296557, Accuracy: 45.26\n",
      "Epoch [58/100], Step [900/1800], Loss: 0.220790, Accuracy: 43.85\n",
      "Epoch [58/100], Step [1200/1800], Loss: 0.405592, Accuracy: 44.78\n",
      "Epoch [58/100], Step [1500/1800], Loss: 0.233260, Accuracy: 44.58\n",
      "Epoch [58/100], Step [1800/1800], Loss: 0.171326, Accuracy: 44.52\n",
      "Epoch [59/100], Step [300/1800], Loss: 0.225805, Accuracy: 44.70\n",
      "Epoch [59/100], Step [600/1800], Loss: 0.365524, Accuracy: 44.33\n",
      "Epoch [59/100], Step [900/1800], Loss: 0.365472, Accuracy: 43.90\n",
      "Epoch [59/100], Step [1200/1800], Loss: 0.254842, Accuracy: 44.81\n",
      "Epoch [59/100], Step [1500/1800], Loss: 0.220896, Accuracy: 44.36\n",
      "Epoch [59/100], Step [1800/1800], Loss: 0.285181, Accuracy: 45.65\n",
      "Epoch [60/100], Step [300/1800], Loss: 0.427410, Accuracy: 44.06\n",
      "Epoch [60/100], Step [600/1800], Loss: 0.175801, Accuracy: 43.99\n",
      "Epoch [60/100], Step [900/1800], Loss: 0.376745, Accuracy: 44.83\n",
      "Epoch [60/100], Step [1200/1800], Loss: 0.352635, Accuracy: 45.06\n",
      "Epoch [60/100], Step [1500/1800], Loss: 0.314839, Accuracy: 45.16\n",
      "Epoch [60/100], Step [1800/1800], Loss: 0.336323, Accuracy: 44.65\n",
      "Epoch [61/100], Step [300/1800], Loss: 0.300667, Accuracy: 43.93\n",
      "Epoch [61/100], Step [600/1800], Loss: 0.185525, Accuracy: 45.33\n",
      "Epoch [61/100], Step [900/1800], Loss: 0.210010, Accuracy: 44.62\n",
      "Epoch [61/100], Step [1200/1800], Loss: 0.314081, Accuracy: 44.39\n",
      "Epoch [61/100], Step [1500/1800], Loss: 0.276566, Accuracy: 44.43\n"
     ]
    },
    {
     "name": "stdout",
     "output_type": "stream",
     "text": [
      "Epoch [61/100], Step [1800/1800], Loss: 0.366447, Accuracy: 45.05\n",
      "Epoch [62/100], Step [300/1800], Loss: 0.241882, Accuracy: 44.27\n",
      "Epoch [62/100], Step [600/1800], Loss: 0.350180, Accuracy: 45.09\n",
      "Epoch [62/100], Step [900/1800], Loss: 0.347775, Accuracy: 44.64\n",
      "Epoch [62/100], Step [1200/1800], Loss: 0.269960, Accuracy: 45.03\n",
      "Epoch [62/100], Step [1500/1800], Loss: 0.316176, Accuracy: 44.36\n",
      "Epoch [62/100], Step [1800/1800], Loss: 0.233170, Accuracy: 44.35\n",
      "Epoch [63/100], Step [300/1800], Loss: 0.201728, Accuracy: 45.23\n",
      "Epoch [63/100], Step [600/1800], Loss: 0.459712, Accuracy: 44.62\n",
      "Epoch [63/100], Step [900/1800], Loss: 0.327582, Accuracy: 44.20\n",
      "Epoch [63/100], Step [1200/1800], Loss: 0.457190, Accuracy: 44.33\n",
      "Epoch [63/100], Step [1500/1800], Loss: 0.234290, Accuracy: 44.71\n",
      "Epoch [63/100], Step [1800/1800], Loss: 0.382316, Accuracy: 44.66\n",
      "Epoch [64/100], Step [300/1800], Loss: 0.214918, Accuracy: 44.70\n",
      "Epoch [64/100], Step [600/1800], Loss: 0.255089, Accuracy: 45.29\n",
      "Epoch [64/100], Step [900/1800], Loss: 0.392832, Accuracy: 44.78\n",
      "Epoch [64/100], Step [1200/1800], Loss: 0.272829, Accuracy: 44.49\n",
      "Epoch [64/100], Step [1500/1800], Loss: 0.287355, Accuracy: 44.15\n",
      "Epoch [64/100], Step [1800/1800], Loss: 0.290032, Accuracy: 44.34\n",
      "Epoch [65/100], Step [300/1800], Loss: 0.314810, Accuracy: 43.93\n",
      "Epoch [65/100], Step [600/1800], Loss: 0.247476, Accuracy: 44.79\n",
      "Epoch [65/100], Step [900/1800], Loss: 0.166789, Accuracy: 44.76\n",
      "Epoch [65/100], Step [1200/1800], Loss: 0.214215, Accuracy: 44.83\n",
      "Epoch [65/100], Step [1500/1800], Loss: 0.329157, Accuracy: 44.48\n",
      "Epoch [65/100], Step [1800/1800], Loss: 0.468593, Accuracy: 44.96\n",
      "Epoch [66/100], Step [300/1800], Loss: 0.240051, Accuracy: 45.00\n",
      "Epoch [66/100], Step [600/1800], Loss: 0.495115, Accuracy: 44.45\n",
      "Epoch [66/100], Step [900/1800], Loss: 0.308592, Accuracy: 43.95\n",
      "Epoch [66/100], Step [1200/1800], Loss: 0.213622, Accuracy: 45.15\n",
      "Epoch [66/100], Step [1500/1800], Loss: 0.556457, Accuracy: 44.45\n",
      "Epoch [66/100], Step [1800/1800], Loss: 0.446756, Accuracy: 44.76\n",
      "Epoch [67/100], Step [300/1800], Loss: 0.323490, Accuracy: 45.20\n",
      "Epoch [67/100], Step [600/1800], Loss: 0.187005, Accuracy: 43.96\n",
      "Epoch [67/100], Step [900/1800], Loss: 0.343179, Accuracy: 44.95\n",
      "Epoch [67/100], Step [1200/1800], Loss: 0.209780, Accuracy: 44.48\n",
      "Epoch [67/100], Step [1500/1800], Loss: 0.116715, Accuracy: 44.31\n",
      "Epoch [67/100], Step [1800/1800], Loss: 0.202544, Accuracy: 44.85\n",
      "Epoch [68/100], Step [300/1800], Loss: 0.367437, Accuracy: 44.68\n",
      "Epoch [68/100], Step [600/1800], Loss: 0.216932, Accuracy: 44.43\n",
      "Epoch [68/100], Step [900/1800], Loss: 0.256666, Accuracy: 46.02\n",
      "Epoch [68/100], Step [1200/1800], Loss: 0.197867, Accuracy: 44.46\n",
      "Epoch [68/100], Step [1500/1800], Loss: 0.124514, Accuracy: 44.17\n",
      "Epoch [68/100], Step [1800/1800], Loss: 0.571159, Accuracy: 44.00\n",
      "Epoch [69/100], Step [300/1800], Loss: 0.236271, Accuracy: 45.15\n",
      "Epoch [69/100], Step [600/1800], Loss: 0.178178, Accuracy: 44.90\n",
      "Epoch [69/100], Step [900/1800], Loss: 0.313834, Accuracy: 44.39\n",
      "Epoch [69/100], Step [1200/1800], Loss: 0.164104, Accuracy: 44.44\n",
      "Epoch [69/100], Step [1500/1800], Loss: 0.208571, Accuracy: 44.65\n",
      "Epoch [69/100], Step [1800/1800], Loss: 0.306946, Accuracy: 44.24\n",
      "Epoch [70/100], Step [300/1800], Loss: 0.292387, Accuracy: 45.43\n",
      "Epoch [70/100], Step [600/1800], Loss: 0.368656, Accuracy: 44.47\n",
      "Epoch [70/100], Step [900/1800], Loss: 0.153061, Accuracy: 45.30\n",
      "Epoch [70/100], Step [1200/1800], Loss: 0.328353, Accuracy: 44.78\n",
      "Epoch [70/100], Step [1500/1800], Loss: 0.215630, Accuracy: 43.22\n",
      "Epoch [70/100], Step [1800/1800], Loss: 0.273776, Accuracy: 44.55\n",
      "Epoch [71/100], Step [300/1800], Loss: 0.306451, Accuracy: 44.07\n",
      "Epoch [71/100], Step [600/1800], Loss: 0.220161, Accuracy: 44.26\n",
      "Epoch [71/100], Step [900/1800], Loss: 0.187947, Accuracy: 44.22\n",
      "Epoch [71/100], Step [1200/1800], Loss: 0.147149, Accuracy: 44.80\n",
      "Epoch [71/100], Step [1500/1800], Loss: 0.294506, Accuracy: 44.93\n",
      "Epoch [71/100], Step [1800/1800], Loss: 0.269820, Accuracy: 45.47\n",
      "Epoch [72/100], Step [300/1800], Loss: 0.388999, Accuracy: 45.12\n",
      "Epoch [72/100], Step [600/1800], Loss: 0.218092, Accuracy: 44.16\n",
      "Epoch [72/100], Step [900/1800], Loss: 0.321768, Accuracy: 44.26\n",
      "Epoch [72/100], Step [1200/1800], Loss: 0.249755, Accuracy: 44.50\n",
      "Epoch [72/100], Step [1500/1800], Loss: 0.153947, Accuracy: 45.01\n",
      "Epoch [72/100], Step [1800/1800], Loss: 0.453068, Accuracy: 44.70\n",
      "Epoch [73/100], Step [300/1800], Loss: 0.238391, Accuracy: 44.68\n",
      "Epoch [73/100], Step [600/1800], Loss: 0.192602, Accuracy: 44.48\n",
      "Epoch [73/100], Step [900/1800], Loss: 0.221058, Accuracy: 44.77\n",
      "Epoch [73/100], Step [1200/1800], Loss: 0.246801, Accuracy: 44.83\n",
      "Epoch [73/100], Step [1500/1800], Loss: 0.241036, Accuracy: 44.58\n",
      "Epoch [73/100], Step [1800/1800], Loss: 0.328024, Accuracy: 44.41\n",
      "Epoch [74/100], Step [300/1800], Loss: 0.186724, Accuracy: 44.66\n",
      "Epoch [74/100], Step [600/1800], Loss: 0.112969, Accuracy: 44.68\n",
      "Epoch [74/100], Step [900/1800], Loss: 0.215939, Accuracy: 44.47\n",
      "Epoch [74/100], Step [1200/1800], Loss: 0.373325, Accuracy: 44.96\n",
      "Epoch [74/100], Step [1500/1800], Loss: 0.270894, Accuracy: 44.33\n",
      "Epoch [74/100], Step [1800/1800], Loss: 0.322471, Accuracy: 44.66\n",
      "Epoch [75/100], Step [300/1800], Loss: 0.236764, Accuracy: 44.50\n",
      "Epoch [75/100], Step [600/1800], Loss: 0.210313, Accuracy: 44.38\n",
      "Epoch [75/100], Step [900/1800], Loss: 0.201412, Accuracy: 44.83\n",
      "Epoch [75/100], Step [1200/1800], Loss: 0.162945, Accuracy: 45.43\n",
      "Epoch [75/100], Step [1500/1800], Loss: 0.184437, Accuracy: 43.92\n",
      "Epoch [75/100], Step [1800/1800], Loss: 0.284947, Accuracy: 44.70\n",
      "Epoch [76/100], Step [300/1800], Loss: 0.254705, Accuracy: 45.34\n",
      "Epoch [76/100], Step [600/1800], Loss: 0.216972, Accuracy: 44.96\n",
      "Epoch [76/100], Step [900/1800], Loss: 0.243954, Accuracy: 44.68\n",
      "Epoch [76/100], Step [1200/1800], Loss: 0.203289, Accuracy: 44.54\n",
      "Epoch [76/100], Step [1500/1800], Loss: 0.282517, Accuracy: 44.45\n",
      "Epoch [76/100], Step [1800/1800], Loss: 0.245167, Accuracy: 43.78\n",
      "Epoch [77/100], Step [300/1800], Loss: 0.392579, Accuracy: 44.31\n",
      "Epoch [77/100], Step [600/1800], Loss: 0.160912, Accuracy: 44.22\n",
      "Epoch [77/100], Step [900/1800], Loss: 0.264726, Accuracy: 44.92\n",
      "Epoch [77/100], Step [1200/1800], Loss: 0.286992, Accuracy: 45.15\n",
      "Epoch [77/100], Step [1500/1800], Loss: 0.310011, Accuracy: 44.51\n",
      "Epoch [77/100], Step [1800/1800], Loss: 0.288045, Accuracy: 44.65\n",
      "Epoch [78/100], Step [300/1800], Loss: 0.230651, Accuracy: 44.98\n",
      "Epoch [78/100], Step [600/1800], Loss: 0.183702, Accuracy: 44.73\n",
      "Epoch [78/100], Step [900/1800], Loss: 0.149374, Accuracy: 44.41\n",
      "Epoch [78/100], Step [1200/1800], Loss: 0.277872, Accuracy: 44.36\n",
      "Epoch [78/100], Step [1500/1800], Loss: 0.191420, Accuracy: 44.92\n",
      "Epoch [78/100], Step [1800/1800], Loss: 0.361442, Accuracy: 44.35\n",
      "Epoch [79/100], Step [300/1800], Loss: 0.307958, Accuracy: 44.07\n",
      "Epoch [79/100], Step [600/1800], Loss: 0.263720, Accuracy: 45.02\n",
      "Epoch [79/100], Step [900/1800], Loss: 0.213572, Accuracy: 44.39\n",
      "Epoch [79/100], Step [1200/1800], Loss: 0.243610, Accuracy: 44.91\n",
      "Epoch [79/100], Step [1500/1800], Loss: 0.243092, Accuracy: 45.73\n",
      "Epoch [79/100], Step [1800/1800], Loss: 0.224079, Accuracy: 43.64\n",
      "Epoch [80/100], Step [300/1800], Loss: 0.207763, Accuracy: 44.59\n",
      "Epoch [80/100], Step [600/1800], Loss: 0.552537, Accuracy: 44.30\n",
      "Epoch [80/100], Step [900/1800], Loss: 0.213769, Accuracy: 45.07\n",
      "Epoch [80/100], Step [1200/1800], Loss: 0.273812, Accuracy: 45.10\n",
      "Epoch [80/100], Step [1500/1800], Loss: 0.183455, Accuracy: 43.70\n",
      "Epoch [80/100], Step [1800/1800], Loss: 0.184020, Accuracy: 44.98\n",
      "Epoch [81/100], Step [300/1800], Loss: 0.293158, Accuracy: 44.39\n",
      "Epoch [81/100], Step [600/1800], Loss: 0.385669, Accuracy: 44.56\n",
      "Epoch [81/100], Step [900/1800], Loss: 0.142515, Accuracy: 44.39\n",
      "Epoch [81/100], Step [1200/1800], Loss: 0.245736, Accuracy: 45.23\n",
      "Epoch [81/100], Step [1500/1800], Loss: 0.365678, Accuracy: 44.47\n",
      "Epoch [81/100], Step [1800/1800], Loss: 0.491009, Accuracy: 44.72\n",
      "Saved checkpoint - loss: 0.030672\n",
      "Epoch [82/100], Step [300/1800], Loss: 0.352095, Accuracy: 44.67\n",
      "Epoch [82/100], Step [600/1800], Loss: 0.114771, Accuracy: 44.52\n",
      "Epoch [82/100], Step [900/1800], Loss: 0.117597, Accuracy: 44.40\n",
      "Epoch [82/100], Step [1200/1800], Loss: 0.189932, Accuracy: 44.78\n"
     ]
    },
    {
     "name": "stdout",
     "output_type": "stream",
     "text": [
      "Epoch [82/100], Step [1500/1800], Loss: 0.281611, Accuracy: 44.70\n",
      "Epoch [82/100], Step [1800/1800], Loss: 0.235606, Accuracy: 44.69\n",
      "Epoch [83/100], Step [300/1800], Loss: 0.150297, Accuracy: 45.19\n",
      "Epoch [83/100], Step [600/1800], Loss: 0.334760, Accuracy: 44.85\n",
      "Epoch [83/100], Step [900/1800], Loss: 0.232791, Accuracy: 44.03\n",
      "Epoch [83/100], Step [1200/1800], Loss: 0.254706, Accuracy: 43.86\n",
      "Epoch [83/100], Step [1500/1800], Loss: 0.060684, Accuracy: 44.55\n",
      "Epoch [83/100], Step [1800/1800], Loss: 0.399012, Accuracy: 45.26\n",
      "Epoch [84/100], Step [300/1800], Loss: 0.131903, Accuracy: 44.58\n",
      "Epoch [84/100], Step [600/1800], Loss: 0.126247, Accuracy: 43.86\n",
      "Epoch [84/100], Step [900/1800], Loss: 0.200978, Accuracy: 45.34\n",
      "Epoch [84/100], Step [1200/1800], Loss: 0.262835, Accuracy: 44.53\n",
      "Epoch [84/100], Step [1500/1800], Loss: 0.472915, Accuracy: 44.42\n",
      "Epoch [84/100], Step [1800/1800], Loss: 0.219541, Accuracy: 45.01\n",
      "Epoch [85/100], Step [300/1800], Loss: 0.217073, Accuracy: 45.23\n",
      "Epoch [85/100], Step [600/1800], Loss: 0.234065, Accuracy: 44.65\n",
      "Epoch [85/100], Step [900/1800], Loss: 0.131292, Accuracy: 44.85\n",
      "Epoch [85/100], Step [1200/1800], Loss: 0.220988, Accuracy: 44.58\n",
      "Epoch [85/100], Step [1500/1800], Loss: 0.247011, Accuracy: 44.16\n",
      "Epoch [85/100], Step [1800/1800], Loss: 0.195657, Accuracy: 44.28\n",
      "Epoch [86/100], Step [300/1800], Loss: 0.255397, Accuracy: 44.29\n",
      "Epoch [86/100], Step [600/1800], Loss: 0.268910, Accuracy: 44.01\n",
      "Epoch [86/100], Step [900/1800], Loss: 0.296449, Accuracy: 44.71\n",
      "Epoch [86/100], Step [1200/1800], Loss: 0.166075, Accuracy: 44.94\n",
      "Epoch [86/100], Step [1500/1800], Loss: 0.509323, Accuracy: 44.79\n",
      "Epoch [86/100], Step [1800/1800], Loss: 0.159115, Accuracy: 45.01\n",
      "Epoch [87/100], Step [300/1800], Loss: 0.421752, Accuracy: 44.73\n",
      "Epoch [87/100], Step [600/1800], Loss: 0.276313, Accuracy: 44.09\n",
      "Epoch [87/100], Step [900/1800], Loss: 0.221605, Accuracy: 45.61\n",
      "Epoch [87/100], Step [1200/1800], Loss: 0.270019, Accuracy: 44.39\n",
      "Epoch [87/100], Step [1500/1800], Loss: 0.531705, Accuracy: 44.40\n",
      "Epoch [87/100], Step [1800/1800], Loss: 0.312252, Accuracy: 44.53\n",
      "Epoch [88/100], Step [300/1800], Loss: 0.198931, Accuracy: 44.88\n",
      "Epoch [88/100], Step [600/1800], Loss: 0.159234, Accuracy: 44.02\n",
      "Epoch [88/100], Step [900/1800], Loss: 0.133266, Accuracy: 44.55\n",
      "Epoch [88/100], Step [1200/1800], Loss: 0.333145, Accuracy: 45.07\n",
      "Saved checkpoint - loss: 0.028055\n",
      "Epoch [88/100], Step [1500/1800], Loss: 0.252540, Accuracy: 44.39\n",
      "Epoch [88/100], Step [1800/1800], Loss: 0.378721, Accuracy: 44.84\n",
      "Epoch [89/100], Step [300/1800], Loss: 0.221559, Accuracy: 44.75\n",
      "Epoch [89/100], Step [600/1800], Loss: 0.309728, Accuracy: 45.00\n",
      "Epoch [89/100], Step [900/1800], Loss: 0.307820, Accuracy: 44.89\n",
      "Epoch [89/100], Step [1200/1800], Loss: 0.294698, Accuracy: 44.32\n",
      "Epoch [89/100], Step [1500/1800], Loss: 0.259619, Accuracy: 43.99\n",
      "Epoch [89/100], Step [1800/1800], Loss: 0.184289, Accuracy: 44.80\n",
      "Epoch [90/100], Step [300/1800], Loss: 0.222018, Accuracy: 44.66\n",
      "Epoch [90/100], Step [600/1800], Loss: 0.150360, Accuracy: 44.19\n",
      "Epoch [90/100], Step [900/1800], Loss: 0.347624, Accuracy: 44.30\n",
      "Epoch [90/100], Step [1200/1800], Loss: 0.351589, Accuracy: 45.02\n",
      "Epoch [90/100], Step [1500/1800], Loss: 0.161218, Accuracy: 44.60\n",
      "Epoch [90/100], Step [1800/1800], Loss: 0.330906, Accuracy: 44.98\n",
      "Epoch [91/100], Step [300/1800], Loss: 0.139580, Accuracy: 45.15\n",
      "Epoch [91/100], Step [600/1800], Loss: 0.191462, Accuracy: 45.41\n",
      "Epoch [91/100], Step [900/1800], Loss: 0.226998, Accuracy: 44.18\n",
      "Epoch [91/100], Step [1200/1800], Loss: 0.359328, Accuracy: 43.94\n",
      "Epoch [91/100], Step [1500/1800], Loss: 0.264857, Accuracy: 44.27\n",
      "Epoch [91/100], Step [1800/1800], Loss: 0.199453, Accuracy: 44.81\n",
      "Epoch [92/100], Step [300/1800], Loss: 0.195652, Accuracy: 44.81\n",
      "Epoch [92/100], Step [600/1800], Loss: 0.235547, Accuracy: 44.73\n",
      "Epoch [92/100], Step [900/1800], Loss: 0.256760, Accuracy: 45.23\n",
      "Epoch [92/100], Step [1200/1800], Loss: 0.450288, Accuracy: 44.48\n",
      "Epoch [92/100], Step [1500/1800], Loss: 0.112245, Accuracy: 44.72\n",
      "Epoch [92/100], Step [1800/1800], Loss: 0.282392, Accuracy: 43.78\n",
      "Epoch [93/100], Step [300/1800], Loss: 0.162968, Accuracy: 44.55\n",
      "Epoch [93/100], Step [600/1800], Loss: 0.134798, Accuracy: 45.31\n",
      "Epoch [93/100], Step [900/1800], Loss: 0.110671, Accuracy: 44.46\n",
      "Epoch [93/100], Step [1200/1800], Loss: 0.391109, Accuracy: 44.78\n",
      "Epoch [93/100], Step [1500/1800], Loss: 0.292119, Accuracy: 44.44\n",
      "Epoch [93/100], Step [1800/1800], Loss: 0.447303, Accuracy: 44.21\n",
      "Epoch [94/100], Step [300/1800], Loss: 0.154630, Accuracy: 44.92\n",
      "Epoch [94/100], Step [600/1800], Loss: 0.304655, Accuracy: 44.07\n",
      "Epoch [94/100], Step [900/1800], Loss: 0.195545, Accuracy: 45.31\n",
      "Epoch [94/100], Step [1200/1800], Loss: 0.273241, Accuracy: 44.25\n",
      "Epoch [94/100], Step [1500/1800], Loss: 0.170998, Accuracy: 43.91\n",
      "Epoch [94/100], Step [1800/1800], Loss: 0.106183, Accuracy: 45.29\n",
      "Epoch [95/100], Step [300/1800], Loss: 0.434624, Accuracy: 44.44\n",
      "Epoch [95/100], Step [600/1800], Loss: 0.315886, Accuracy: 44.76\n",
      "Epoch [95/100], Step [900/1800], Loss: 0.242277, Accuracy: 45.42\n",
      "Epoch [95/100], Step [1200/1800], Loss: 0.183235, Accuracy: 43.95\n",
      "Epoch [95/100], Step [1500/1800], Loss: 0.327053, Accuracy: 44.76\n",
      "Epoch [95/100], Step [1800/1800], Loss: 0.154762, Accuracy: 44.43\n",
      "Epoch [96/100], Step [300/1800], Loss: 0.190117, Accuracy: 45.45\n",
      "Epoch [96/100], Step [600/1800], Loss: 0.279688, Accuracy: 44.35\n",
      "Epoch [96/100], Step [900/1800], Loss: 0.078498, Accuracy: 45.34\n",
      "Epoch [96/100], Step [1200/1800], Loss: 0.094672, Accuracy: 44.38\n",
      "Epoch [96/100], Step [1500/1800], Loss: 0.382937, Accuracy: 44.23\n",
      "Epoch [96/100], Step [1800/1800], Loss: 0.198061, Accuracy: 44.00\n",
      "Epoch [97/100], Step [300/1800], Loss: 0.147482, Accuracy: 43.95\n",
      "Epoch [97/100], Step [600/1800], Loss: 0.093970, Accuracy: 45.17\n",
      "Epoch [97/100], Step [900/1800], Loss: 0.152814, Accuracy: 44.75\n",
      "Epoch [97/100], Step [1200/1800], Loss: 0.154260, Accuracy: 44.77\n",
      "Epoch [97/100], Step [1500/1800], Loss: 0.183384, Accuracy: 44.38\n",
      "Epoch [97/100], Step [1800/1800], Loss: 0.235204, Accuracy: 44.74\n",
      "Epoch [98/100], Step [300/1800], Loss: 0.163795, Accuracy: 44.81\n",
      "Epoch [98/100], Step [600/1800], Loss: 0.316702, Accuracy: 44.67\n",
      "Epoch [98/100], Step [900/1800], Loss: 0.152696, Accuracy: 44.85\n",
      "Saved checkpoint - loss: 0.026878\n",
      "Epoch [98/100], Step [1200/1800], Loss: 0.281236, Accuracy: 45.00\n",
      "Epoch [98/100], Step [1500/1800], Loss: 0.201785, Accuracy: 43.67\n",
      "Epoch [98/100], Step [1800/1800], Loss: 0.180880, Accuracy: 44.75\n",
      "Epoch [99/100], Step [300/1800], Loss: 0.332429, Accuracy: 44.77\n",
      "Epoch [99/100], Step [600/1800], Loss: 0.193553, Accuracy: 44.50\n",
      "Epoch [99/100], Step [900/1800], Loss: 0.145383, Accuracy: 45.32\n",
      "Epoch [99/100], Step [1200/1800], Loss: 0.267421, Accuracy: 44.33\n",
      "Epoch [99/100], Step [1500/1800], Loss: 0.218238, Accuracy: 44.15\n",
      "Epoch [99/100], Step [1800/1800], Loss: 0.180082, Accuracy: 44.68\n",
      "Epoch [100/100], Step [300/1800], Loss: 0.244356, Accuracy: 44.36\n",
      "Epoch [100/100], Step [600/1800], Loss: 0.308349, Accuracy: 44.41\n",
      "Epoch [100/100], Step [900/1800], Loss: 0.136026, Accuracy: 45.30\n",
      "Epoch [100/100], Step [1200/1800], Loss: 0.369931, Accuracy: 44.56\n",
      "Epoch [100/100], Step [1500/1800], Loss: 0.241401, Accuracy: 44.29\n",
      "Epoch [100/100], Step [1800/1800], Loss: 0.304548, Accuracy: 44.82\n",
      "Finished Training\n"
     ]
    },
    {
     "data": {
      "application/javascript": [
       "$(document).ready(\n",
       "    function() {\n",
       "        function appendUniqueDiv(){\n",
       "            // append a div with our uuid so we can check that it's already\n",
       "            // been sent and avoid duplicates on page reload\n",
       "            var notifiedDiv = document.createElement(\"div\")\n",
       "            notifiedDiv.id = \"70170057-73c4-40eb-9793-86581e90e7cd\"\n",
       "            element.append(notifiedDiv)\n",
       "        }\n",
       "\n",
       "        // only send notifications if the pageload is complete; this will\n",
       "        // help stop extra notifications when a saved notebook is loaded,\n",
       "        // which during testing gives us state \"interactive\", not \"complete\"\n",
       "        if (document.readyState === 'complete') {\n",
       "            // check for the div that signifies that the notification\n",
       "            // was already sent\n",
       "            if (document.getElementById(\"70170057-73c4-40eb-9793-86581e90e7cd\") === null) {\n",
       "                var notificationPayload = {\"requireInteraction\": false, \"icon\": \"/static/base/images/favicon.ico\", \"body\": \"Training Completed!\"};\n",
       "                if (Notification.permission !== 'denied') {\n",
       "                    if (Notification.permission !== 'granted') { \n",
       "                        Notification.requestPermission(function (permission) {\n",
       "                            if(!('permission' in Notification)) {\n",
       "                                Notification.permission = permission\n",
       "                            }\n",
       "                        })\n",
       "                    }\n",
       "                    if (Notification.permission === 'granted') {\n",
       "                    var notification = new Notification(\"Jupyter Notebook\", notificationPayload)\n",
       "                    appendUniqueDiv()\n",
       "                    notification.onclick = function () {\n",
       "                        window.focus();\n",
       "                        this.close();\n",
       "                        };\n",
       "                    } \n",
       "                }     \n",
       "            }\n",
       "        }\n",
       "    }\n",
       ")\n"
      ],
      "text/plain": [
       "<IPython.core.display.Javascript object>"
      ]
     },
     "metadata": {},
     "output_type": "display_data"
    }
   ],
   "source": [
    "%%notify -m \"Training Completed!\"\n",
    "\n",
    "if not skip_training:\n",
    "    for epoch in range(num_epochs):\n",
    "        model.train()\n",
    "        for i, (data, labels) in enumerate(train_dataloader):\n",
    "            data = data.to(device).float().permute(0, 2, 1)\n",
    "            labels = labels.to(device).float()\n",
    "\n",
    "            outputs = model(data)    \n",
    "            loss = criterion(outputs, labels)\n",
    "\n",
    "            optimizer.zero_grad()\n",
    "            loss.backward()\n",
    "            optimizer.step() \n",
    "            \n",
    "            running_loss += loss.item()\n",
    "            _, predicted = torch.max(outputs.data, 1)\n",
    "            running_correct += (predicted == labels.reshape(-1,)).sum().item()\n",
    "\n",
    "            if (i+1) % acc_n_steps == 0:\n",
    "                writer.add_scalar('training loss', running_loss / acc_n_steps, epoch * n_total_steps + i)\n",
    "                running_accuracy = running_correct / acc_n_steps / predicted.size(0) * 100\n",
    "                writer.add_scalar('training accuracy', running_accuracy, epoch * n_total_steps + i)                        \n",
    "                running_correct = 0\n",
    "                running_loss = 0.0\n",
    "                print(f'Epoch [{epoch+1}/{num_epochs}], Step [{i+1}/{n_total_steps}], Loss: {loss.item():.6f}, Accuracy: {running_accuracy:.2f}')\n",
    "\n",
    "            if epoch > 5 and loss.item() < min_loss:\n",
    "                    min_loss = loss.item()\n",
    "                    torch.save({\n",
    "                        'model_state_dict': model.state_dict(),\n",
    "                        'optimizer_state_dict': optimizer.state_dict(),\n",
    "                        'min_loss': min_loss\n",
    "                    }, model_path)\n",
    "                    print(f'Saved checkpoint - loss: {min_loss:.6f}')\n",
    "\n",
    "    print('Finished Training')"
   ]
  },
  {
   "cell_type": "code",
   "execution_count": 62,
   "id": "3d00bb86",
   "metadata": {},
   "outputs": [],
   "source": [
    "writer.close()"
   ]
  },
  {
   "cell_type": "markdown",
   "id": "9a2b690d",
   "metadata": {},
   "source": [
    "## Test Accuracy"
   ]
  },
  {
   "cell_type": "code",
   "execution_count": 63,
   "id": "49d5900f",
   "metadata": {},
   "outputs": [],
   "source": [
    "load_model = True"
   ]
  },
  {
   "cell_type": "code",
   "execution_count": 64,
   "id": "4ae100dc",
   "metadata": {},
   "outputs": [],
   "source": [
    "chosen_n_classes = 1"
   ]
  },
  {
   "cell_type": "code",
   "execution_count": 65,
   "id": "0fd919fa",
   "metadata": {},
   "outputs": [
    {
     "name": "stdout",
     "output_type": "stream",
     "text": [
      "Accuracy of the network: 44.88%\n"
     ]
    }
   ],
   "source": [
    "with torch.no_grad():\n",
    "    model.eval()  \n",
    "    if load_model:\n",
    "        checkpoint = torch.load(model_path)\n",
    "        model.load_state_dict(checkpoint['model_state_dict'])\n",
    "        \n",
    "    n_correct = 0\n",
    "    n_samples = 0\n",
    "\n",
    "    for data, labels in test_dataloader:\n",
    "        data = data.to(device).float().permute(0, 2, 1)\n",
    "        labels = labels.to(device).float().reshape(-1,)\n",
    "\n",
    "        outputs = model(data)\n",
    "\n",
    "        # torch.max returns (value, index)\n",
    "        _, predicted = torch.max(outputs, 1)\n",
    "\n",
    "        n_samples += labels.size(0)\n",
    "        n_correct += (predicted == labels).sum().item()\n",
    "\n",
    "acc = n_correct / n_samples * 100.0 \n",
    "print(f'Accuracy of the network: {acc:.2f}%')"
   ]
  },
  {
   "cell_type": "code",
   "execution_count": null,
   "id": "c9b68160",
   "metadata": {},
   "outputs": [],
   "source": []
  }
 ],
 "metadata": {
  "kernelspec": {
   "display_name": "Python 3 (ipykernel)",
   "language": "python",
   "name": "python3"
  },
  "language_info": {
   "codemirror_mode": {
    "name": "ipython",
    "version": 3
   },
   "file_extension": ".py",
   "mimetype": "text/x-python",
   "name": "python",
   "nbconvert_exporter": "python",
   "pygments_lexer": "ipython3",
   "version": "3.10.6"
  }
 },
 "nbformat": 4,
 "nbformat_minor": 5
}
