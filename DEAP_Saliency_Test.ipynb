{
 "cells": [
  {
   "cell_type": "code",
   "execution_count": 19,
   "id": "eac95ad9",
   "metadata": {},
   "outputs": [
    {
     "data": {
      "text/plain": [
       "device(type='cpu')"
      ]
     },
     "execution_count": 19,
     "metadata": {},
     "output_type": "execute_result"
    }
   ],
   "source": [
    "from statistics import multimode\n",
    "from Models_DEAP import *\n",
    "from Utils import *\n",
    "from Utils_Bashivan import *\n",
    "import time\n",
    "import warnings\n",
    "\n",
    "warnings.simplefilter(\"ignore\")\n",
    "\n",
    "t = time.time()\n",
    "\n",
    "use_cuda = torch.cuda.is_available()\n",
    "device = torch.device('cuda:0' if use_cuda else 'cpu')\n",
    "device"
   ]
  },
  {
   "cell_type": "code",
   "execution_count": 4,
   "id": "ec440445",
   "metadata": {},
   "outputs": [],
   "source": [
    "# X_image = np.load('Example_Input/img.npy') # place here the images representation of EEG\n",
    "# X_array = np.load('Example_Input/array.npy') # place here the array representation of EEG features\n",
    "# Label = np.load('Example_Input/label.npy') # place here the label for each EEG\n",
    "# Participant = np.load('Example_Input/participant.npy') # place here the array with each participants"
   ]
  },
  {
   "cell_type": "code",
   "execution_count": 5,
   "id": "250ee1c3",
   "metadata": {},
   "outputs": [],
   "source": [
    "deap_path = '../../datasets/DEAP/'"
   ]
  },
  {
   "cell_type": "code",
   "execution_count": 14,
   "id": "ebd31c0b",
   "metadata": {},
   "outputs": [],
   "source": [
    "X_image = np.load('../../datasets/DEAP/image_generation/images.npy') # place here the images representation of EEG\n",
    "X_array = np.load('../../datasets/DEAP/merged/deap_data.npy') # place here the array representation of EEG features\n",
    "Label_full = np.load('../../datasets/DEAP/merged/deap_full_labels.npy') # place here the label for each EEG\n",
    "Participant = np.load('../../datasets/DEAP/image_generation/participants.npy') # place here the array with each participants"
   ]
  },
  {
   "cell_type": "code",
   "execution_count": 15,
   "id": "574c9c70",
   "metadata": {},
   "outputs": [
    {
     "name": "stdout",
     "output_type": "stream",
     "text": [
      "(1280, 5, 32, 32)\n",
      "(1280, 40, 8064)\n",
      "(1280, 3)\n",
      "(1280,)\n"
     ]
    }
   ],
   "source": [
    "print(X_image.shape)\n",
    "print(X_array.shape)\n",
    "print(Label.shape)\n",
    "print(Participant.shape)"
   ]
  },
  {
   "cell_type": "code",
   "execution_count": 16,
   "id": "b5235055",
   "metadata": {},
   "outputs": [],
   "source": [
    "Label = Label_full[:, 2]"
   ]
  },
  {
   "cell_type": "code",
   "execution_count": 17,
   "id": "c639fa96",
   "metadata": {},
   "outputs": [
    {
     "data": {
      "text/plain": [
       "{0, 1, 2, 3}"
      ]
     },
     "execution_count": 17,
     "metadata": {},
     "output_type": "execute_result"
    }
   ],
   "source": [
    "set(Label)"
   ]
  },
  {
   "cell_type": "code",
   "execution_count": 18,
   "id": "2fcf8915",
   "metadata": {},
   "outputs": [
    {
     "name": "stdout",
     "output_type": "stream",
     "text": [
      "{1.0, 2.0, 3.0, 4.0, 5.0, 6.0, 7.0, 8.0, 9.0, 10.0, 11.0, 12.0, 13.0, 14.0, 15.0, 16.0, 17.0, 18.0, 19.0, 20.0, 21.0, 22.0, 23.0, 24.0, 25.0, 26.0, 27.0, 28.0, 29.0, 30.0, 31.0, 32.0}\n"
     ]
    }
   ],
   "source": [
    "print(set(Participant))"
   ]
  },
  {
   "cell_type": "code",
   "execution_count": 46,
   "id": "9805ba4c",
   "metadata": {},
   "outputs": [
    {
     "data": {
      "text/plain": [
       "array([[1.17473619e-08, 3.10600131e-02, 1.79858819e+01],\n",
       "       [9.36758205e-09, 1.67285569e-02, 3.50138035e+01],\n",
       "       [2.88355346e-09, 4.68864365e-02, 1.25750405e+01],\n",
       "       [6.11320269e-10, 1.94063392e-01, 2.92320866e+00],\n",
       "       [1.48742042e-08, 3.34711148e-02, 1.74300392e+01]])"
      ]
     },
     "execution_count": 46,
     "metadata": {},
     "output_type": "execute_result"
    }
   ],
   "source": [
    "X_array[0, :5] #maybe it's Raw EEG with 62 channels (SEED dataset has as many) and 3 time samples?"
   ]
  },
  {
   "cell_type": "code",
   "execution_count": 6,
   "id": "11c749ea",
   "metadata": {},
   "outputs": [
    {
     "data": {
      "text/plain": [
       "array([[ 4.42245408e-02,  2.58359283e-02, -1.10436889e-02,\n",
       "        -4.00641110e-02, -4.92576852e-02, -2.70491824e-02,\n",
       "         7.62167854e-02,  2.32853384e-01,  3.94829697e-01,\n",
       "         5.46737805e-01,  6.12570331e-01,  5.44668456e-01,\n",
       "         4.21792621e-01,  2.74374431e-01,  1.03387553e-01,\n",
       "        -3.52871148e-02, -1.09122962e-01, -1.55356166e-01,\n",
       "        -1.78913836e-01, -1.84880107e-01],\n",
       "       [ 3.74259407e-02,  2.03805748e-02, -4.56902962e-02,\n",
       "        -1.08412304e-01, -1.47398563e-01, -1.49869624e-01,\n",
       "        -1.00624177e-01,  4.16621417e-03,  1.40547191e-01,\n",
       "         2.83406104e-01,  3.47541229e-01,  2.85996417e-01,\n",
       "         1.76649245e-01,  6.06711997e-02, -5.01678089e-02,\n",
       "        -1.37323151e-01, -1.86606471e-01, -2.06220022e-01,\n",
       "        -2.01989034e-01, -1.86203413e-01],\n",
       "       [ 5.06530394e-02,  4.73351593e-02, -1.12567863e-02,\n",
       "        -9.59950735e-02, -1.65575818e-01, -2.12661418e-01,\n",
       "        -2.02340293e-01, -1.50528797e-01, -5.97722973e-02,\n",
       "         5.66306644e-02,  1.18961809e-01,  6.39483464e-02,\n",
       "        -1.95024952e-02, -9.49148319e-02, -1.58375745e-01,\n",
       "        -2.13261539e-01, -2.30608800e-01, -2.24503327e-01,\n",
       "        -2.00193281e-01, -1.79533714e-01],\n",
       "       [ 8.60324642e-02,  8.92781253e-02,  3.95568916e-02,\n",
       "        -5.34383554e-02, -1.51006797e-01, -2.33958020e-01,\n",
       "        -2.41543207e-01, -2.11104822e-01, -1.67316876e-01,\n",
       "        -1.09411947e-01, -5.82184728e-02, -9.41833634e-02,\n",
       "        -1.29708032e-01, -1.69259325e-01, -2.16085517e-01,\n",
       "        -2.54579177e-01, -2.50879348e-01, -2.24804569e-01,\n",
       "        -1.89584274e-01, -1.65793259e-01],\n",
       "       [ 1.32310750e-01,  1.36722236e-01,  9.11064249e-02,\n",
       "        -5.48456189e-03, -1.13849809e-01, -2.19409110e-01,\n",
       "        -2.45079460e-01, -2.26523461e-01, -2.04055814e-01,\n",
       "        -1.82362752e-01, -1.68475547e-01, -1.68664072e-01,\n",
       "        -1.81999446e-01, -2.06405306e-01, -2.41909601e-01,\n",
       "        -2.63753113e-01, -2.46908512e-01, -2.13236167e-01,\n",
       "        -1.72250560e-01, -1.45337146e-01],\n",
       "       [ 1.81132931e-01,  1.79379985e-01,  1.34920988e-01,\n",
       "         5.16079846e-02, -5.81603093e-02, -1.80174533e-01,\n",
       "        -2.26597940e-01, -2.19960411e-01, -2.16084913e-01,\n",
       "        -2.23292501e-01, -2.22282627e-01, -2.12427772e-01,\n",
       "        -2.08180007e-01, -2.19480618e-01, -2.43201324e-01,\n",
       "        -2.47251781e-01, -2.19644297e-01, -1.84987989e-01,\n",
       "        -1.49399264e-01, -1.19232971e-01],\n",
       "       [ 2.20259289e-01,  1.86149491e-01,  1.31644541e-01,\n",
       "         6.07365819e-02, -2.55642204e-02, -1.31508206e-01,\n",
       "        -1.99705709e-01, -2.09484298e-01, -2.30655579e-01,\n",
       "        -2.41368421e-01, -2.40440664e-01, -2.33438084e-01,\n",
       "        -2.22987130e-01, -2.17070063e-01, -2.27266525e-01,\n",
       "        -2.14451313e-01, -1.86910628e-01, -1.57821026e-01,\n",
       "        -1.26725678e-01, -9.84615470e-02],\n",
       "       [ 1.67562447e-01,  1.21185364e-01,  6.51956553e-02,\n",
       "         3.19026003e-03, -6.08512309e-02, -1.22949226e-01,\n",
       "        -1.78009832e-01, -2.05546851e-01, -2.21435489e-01,\n",
       "        -2.28149600e-01, -2.27980983e-01, -2.23002435e-01,\n",
       "        -2.15286755e-01, -2.06687056e-01, -2.00873823e-01,\n",
       "        -1.86043900e-01, -1.64695591e-01, -1.37772320e-01,\n",
       "        -1.07912950e-01, -8.19901357e-02],\n",
       "       [ 5.84540602e-02,  9.10868447e-03, -3.76843235e-02,\n",
       "        -7.75974987e-02, -1.07680710e-01, -1.38835413e-01,\n",
       "        -1.72092347e-01, -1.82831493e-01, -1.92082277e-01,\n",
       "        -1.96436203e-01, -1.94040097e-01, -1.86834062e-01,\n",
       "        -1.77503206e-01, -1.74204192e-01, -1.75336757e-01,\n",
       "        -1.63357329e-01, -1.44638904e-01, -1.18442862e-01,\n",
       "        -8.96109966e-02, -6.58449398e-02],\n",
       "       [-1.67683460e-02, -3.23588838e-02, -5.38574413e-02,\n",
       "        -8.05820141e-02, -1.11834614e-01, -1.45159162e-01,\n",
       "        -1.78073608e-01, -1.68414778e-01, -1.52266571e-01,\n",
       "        -1.43199310e-01, -1.35470091e-01, -1.30348746e-01,\n",
       "        -1.35135788e-01, -1.52427150e-01, -1.57172664e-01,\n",
       "        -1.37238226e-01, -1.19007856e-01, -9.63830216e-02,\n",
       "        -6.85668586e-02, -4.67631982e-02],\n",
       "       [-2.26105548e-02, -4.12558120e-02, -6.51490606e-02,\n",
       "        -9.35324326e-02, -1.24775371e-01, -1.57386438e-01,\n",
       "        -1.89889602e-01, -1.77258210e-01, -1.43237411e-01,\n",
       "        -1.19516363e-01, -1.07395577e-01, -1.07446794e-01,\n",
       "        -1.21453169e-01, -1.45898236e-01, -1.45283415e-01,\n",
       "        -1.18601841e-01, -9.13853161e-02, -6.64660480e-02,\n",
       "        -4.15184958e-02, -1.88779183e-02],\n",
       "       [-3.82080028e-02, -5.69630436e-02, -8.03060477e-02,\n",
       "        -1.07552462e-01, -1.37780968e-01, -1.69678553e-01,\n",
       "        -2.01770436e-01, -1.89621425e-01, -1.55794485e-01,\n",
       "        -1.29925365e-01, -1.15794933e-01, -1.13950021e-01,\n",
       "        -1.24539471e-01, -1.44453150e-01, -1.38033676e-01,\n",
       "        -1.05189823e-01, -7.09727081e-02, -3.73988654e-02,\n",
       "        -2.96661153e-03,  1.18800174e-02],\n",
       "       [-4.57692869e-02, -6.53872469e-02, -8.89331419e-02,\n",
       "        -1.15724967e-01, -1.45081510e-01, -1.76265614e-01,\n",
       "        -2.07946215e-01, -1.98970263e-01, -1.78690048e-01,\n",
       "        -1.65447972e-01, -1.56748307e-01, -1.47838144e-01,\n",
       "        -1.43068145e-01, -1.46465011e-01, -1.33788116e-01,\n",
       "        -9.47356407e-02, -5.30781826e-02,  4.14315305e-03,\n",
       "         5.77601098e-02,  6.60823791e-02],\n",
       "       [ 3.37882733e-02, -1.66570434e-02, -6.55580808e-02,\n",
       "        -1.08076735e-01, -1.40543097e-01, -1.71373058e-01,\n",
       "        -2.02647046e-01, -2.10724064e-01, -2.19314539e-01,\n",
       "        -2.24785488e-01, -2.20779301e-01, -2.06991701e-01,\n",
       "        -1.84055969e-01, -1.59006644e-01, -1.30911401e-01,\n",
       "        -8.33644478e-02, -1.44355213e-02,  6.74336363e-02,\n",
       "         1.29090905e-01,  1.45562478e-01],\n",
       "       [ 1.52199910e-01,  1.09470521e-01,  5.56258658e-02,\n",
       "        -5.00740375e-03, -6.79169150e-02, -1.28590296e-01,\n",
       "        -1.80819740e-01, -2.08360172e-01, -2.26407558e-01,\n",
       "        -2.34870473e-01, -2.33648503e-01, -2.22645119e-01,\n",
       "        -2.01763794e-01, -1.70703829e-01, -1.27834741e-01,\n",
       "        -5.21003270e-02,  3.73852618e-02,  1.27850128e-01,\n",
       "         1.97686445e-01,  2.23282727e-01],\n",
       "       [ 2.25883947e-01,  2.01890496e-01,  1.55647932e-01,\n",
       "         9.17656393e-02,  1.36813857e-02, -7.70479994e-02,\n",
       "        -1.45045179e-01, -1.76629346e-01, -2.00178300e-01,\n",
       "        -2.14611287e-01, -2.19821132e-01, -2.14733902e-01,\n",
       "        -1.97888073e-01, -1.69896929e-01, -1.31879737e-01,\n",
       "        -4.05707757e-02,  7.01196086e-02,  1.72060838e-01,\n",
       "         2.50161064e-01,  2.85908132e-01],\n",
       "       [ 2.30520574e-01,  2.40306191e-01,  2.11805082e-01,\n",
       "         1.50406719e-01,  6.43273877e-02, -3.80577959e-02,\n",
       "        -1.00289473e-01, -1.33455836e-01, -1.63217725e-01,\n",
       "        -1.85470761e-01, -1.99090310e-01, -2.01322943e-01,\n",
       "        -1.92103728e-01, -1.72085216e-01, -1.38417724e-01,\n",
       "        -5.00852181e-02,  7.35981374e-02,  1.87511751e-01,\n",
       "         2.73324896e-01,  3.11800996e-01],\n",
       "       [ 2.14788217e-01,  2.39860361e-01,  2.26211804e-01,\n",
       "         1.76460203e-01,  9.96853669e-02,  5.17013558e-03,\n",
       "        -5.07117343e-02, -8.40540779e-02, -1.16903731e-01,\n",
       "        -1.46658036e-01, -1.70280732e-01, -1.84888621e-01,\n",
       "        -1.87378365e-01, -1.74636355e-01, -1.44947689e-01,\n",
       "        -6.26112802e-02,  6.09959098e-02,  1.74520119e-01,\n",
       "         2.60329606e-01,  2.93907829e-01],\n",
       "       [ 1.84443100e-01,  2.17607613e-01,  2.13702636e-01,\n",
       "         1.81428955e-01,  1.26222096e-01,  4.94088054e-02,\n",
       "        -4.71076401e-04, -3.40361910e-02, -7.07200931e-02,\n",
       "        -1.05468888e-01, -1.30115822e-01, -1.63018257e-01,\n",
       "        -1.78836925e-01, -1.74635325e-01, -1.49099919e-01,\n",
       "        -7.30323763e-02,  3.65006735e-02,  1.36163256e-01,\n",
       "         2.18411643e-01,  2.53734149e-01],\n",
       "       [ 1.48111596e-01,  1.83881975e-01,  1.84425053e-01,\n",
       "         1.63734918e-01,  1.33075949e-01,  8.79597074e-02,\n",
       "         4.62619555e-02,  1.02569384e-02, -2.48371478e-02,\n",
       "        -5.37920829e-02, -7.83297693e-02, -1.21288715e-01,\n",
       "        -1.57609336e-01, -1.67783942e-01, -1.48194062e-01,\n",
       "        -8.57977556e-02, -4.55089571e-03,  7.90488745e-02,\n",
       "         1.60344771e-01,  2.04254725e-01],\n",
       "       [ 1.16888298e-01,  1.49222022e-01,  1.51000708e-01,\n",
       "         1.43623802e-01,  1.30636826e-01,  1.12124491e-01,\n",
       "         8.74107308e-02,  6.07307613e-02,  3.37039411e-02,\n",
       "         8.01839299e-03, -1.70822885e-02, -6.45581052e-02,\n",
       "        -1.14126760e-01, -1.41395882e-01, -1.37589946e-01,\n",
       "        -9.91378221e-02, -4.21511484e-02,  2.67675718e-02,\n",
       "         1.00038081e-01,  1.58017213e-01],\n",
       "       [ 1.13707047e-01,  1.27364177e-01,  1.43178798e-01,\n",
       "         1.51243051e-01,  1.51891628e-01,  1.44156250e-01,\n",
       "         1.31599428e-01,  1.19245193e-01,  1.00419004e-01,\n",
       "         7.74145271e-02,  5.17508505e-02,  2.41837301e-05,\n",
       "        -5.50555979e-02, -9.13096895e-02, -1.03575275e-01,\n",
       "        -8.04395409e-02, -3.21992704e-02,  2.32677507e-02,\n",
       "         7.89741609e-02,  1.28252273e-01],\n",
       "       [ 0.00000000e+00,  1.30984391e-01,  1.45217455e-01,\n",
       "         1.64000281e-01,  1.77347832e-01,  1.75595458e-01,\n",
       "         1.76653733e-01,  1.78819308e-01,  1.70750191e-01,\n",
       "         1.52404017e-01,  1.26293878e-01,  7.35869294e-02,\n",
       "         2.14240098e-02, -2.02874911e-02, -4.89940061e-02,\n",
       "        -4.63452213e-02, -8.24937787e-03,  3.99732978e-02,\n",
       "         8.50859237e-02,  7.76903746e-02]])"
      ]
     },
     "execution_count": 6,
     "metadata": {},
     "output_type": "execute_result"
    }
   ],
   "source": [
    "X_image[0, 0, 5:-4, 6:-6]"
   ]
  },
  {
   "cell_type": "code",
   "execution_count": 7,
   "id": "b9368fa2",
   "metadata": {},
   "outputs": [],
   "source": [
    "image = np.moveaxis(X_image[0], 0 ,-1)"
   ]
  },
  {
   "cell_type": "code",
   "execution_count": 8,
   "id": "45b821af",
   "metadata": {},
   "outputs": [],
   "source": [
    "image = (image - np.min(image)) / (np.max(image) - np.min(image))"
   ]
  },
  {
   "cell_type": "code",
   "execution_count": 9,
   "id": "037055c8",
   "metadata": {},
   "outputs": [
    {
     "data": {
      "image/png": "[encoded data removed]",
      "text/plain": [
       "<Figure size 640x480 with 1 Axes>"
      ]
     },
     "metadata": {},
     "output_type": "display_data"
    }
   ],
   "source": [
    "%matplotlib inline\n",
    "from matplotlib import pyplot as plt\n",
    "plt.imshow(image)\n",
    "plt.show()"
   ]
  },
  {
   "cell_type": "code",
   "execution_count": 20,
   "id": "b14cbde7",
   "metadata": {},
   "outputs": [
    {
     "data": {
      "image/png": "[encoded data removed]",
      "text/plain": [
       "<Figure size 640x480 with 1 Axes>"
      ]
     },
     "metadata": {},
     "output_type": "display_data"
    }
   ],
   "source": [
    "freqs = X_array[0, :, :]\n",
    "\n",
    "plt.psd(freqs) #sum of the other 3?\n",
    "plt.psd(X_array[0, :, 0])\n",
    "plt.psd(X_array[0, :, 1])\n",
    "plt.psd(X_array[0, :, 2])\n",
    "plt.show()"
   ]
  },
  {
   "cell_type": "code",
   "execution_count": 21,
   "id": "9121f1dc",
   "metadata": {},
   "outputs": [
    {
     "data": {
      "image/png": "[encoded data removed]",
      "text/plain": [
       "<Figure size 640x480 with 1 Axes>"
      ]
     },
     "metadata": {},
     "output_type": "display_data"
    }
   ],
   "source": [
    "plt.psd(X_array[0, :, :])\n",
    "plt.show()"
   ]
  },
  {
   "cell_type": "code",
   "execution_count": 22,
   "id": "9f6df161",
   "metadata": {},
   "outputs": [],
   "source": [
    "n_epoch = 150"
   ]
  },
  {
   "cell_type": "code",
   "execution_count": 23,
   "id": "d2ea9eea",
   "metadata": {},
   "outputs": [],
   "source": [
    "Dataset = CombDataset(label=Label, image=X_image, array=X_array) #creation of\n",
    "#dataset classs in Pytorch"
   ]
  },
  {
   "cell_type": "code",
   "execution_count": 24,
   "id": "885a0cc0",
   "metadata": {},
   "outputs": [],
   "source": [
    "# electrodes locations in 3D -> 2D projection\n",
    "locs_3d = np.load('Electroloc/Neuro_loc_DEAP.npy')[:31]\n",
    "locs_2d = []\n",
    "for e in locs_3d:\n",
    "    locs_2d.append(azim_proj(e))\n",
    "\n",
    "mutl_img = torch.ones((X_image.shape[1], 32, 32)) #initiate the gain matrice"
   ]
  },
  {
   "cell_type": "code",
   "execution_count": 25,
   "id": "49372641",
   "metadata": {},
   "outputs": [
    {
     "data": {
      "text/plain": [
       "(31, 3)"
      ]
     },
     "execution_count": 25,
     "metadata": {},
     "output_type": "execute_result"
    }
   ],
   "source": [
    "locs_3d.shape"
   ]
  },
  {
   "cell_type": "code",
   "execution_count": 26,
   "id": "41edbe84",
   "metadata": {},
   "outputs": [
    {
     "data": {
      "text/plain": [
       "(31, 2)"
      ]
     },
     "execution_count": 26,
     "metadata": {},
     "output_type": "execute_result"
    }
   ],
   "source": [
    "np.asarray(locs_2d).shape"
   ]
  },
  {
   "cell_type": "markdown",
   "id": "46fd2f02",
   "metadata": {},
   "source": [
    "Uses LOSO (Leave One Subject Out) Cross Validation"
   ]
  },
  {
   "cell_type": "code",
   "execution_count": 14,
   "id": "82414316",
   "metadata": {},
   "outputs": [
    {
     "name": "stdout",
     "output_type": "stream",
     "text": [
      "Training participant  0\n",
      "[1, 150] \t loss: 2.076\tAccuracy : 0.106\t\tval-loss: 2.119\tval-Accuracy : 0.062\n",
      "[2, 150] \t loss: nan\tAccuracy : 0.101\t\tval-loss: nan\tval-Accuracy : 0.125\n",
      "[3, 150] \t loss: nan\tAccuracy : 0.101\t\tval-loss: nan\tval-Accuracy : 0.125\n",
      "[4, 150] \t loss: nan\tAccuracy : 0.101\t\tval-loss: nan\tval-Accuracy : 0.125\n",
      "[5, 150] \t loss: nan\tAccuracy : 0.101\t\tval-loss: nan\tval-Accuracy : 0.125\n",
      "[6, 150] \t loss: nan\tAccuracy : 0.101\t\tval-loss: nan\tval-Accuracy : 0.125\n",
      "[7, 150] \t loss: nan\tAccuracy : 0.101\t\tval-loss: nan\tval-Accuracy : 0.125\n",
      "[8, 150] \t loss: nan\tAccuracy : 0.101\t\tval-loss: nan\tval-Accuracy : 0.125\n",
      "[9, 150] \t loss: nan\tAccuracy : 0.101\t\tval-loss: nan\tval-Accuracy : 0.125\n",
      "[10, 150] \t loss: nan\tAccuracy : 0.101\t\tval-loss: nan\tval-Accuracy : 0.125\n",
      "[11, 150] \t loss: nan\tAccuracy : 0.101\t\tval-loss: nan\tval-Accuracy : 0.125\n",
      "[12, 150] \t loss: nan\tAccuracy : 0.101\t\tval-loss: nan\tval-Accuracy : 0.125\n",
      "[13, 150] \t loss: nan\tAccuracy : 0.101\t\tval-loss: nan\tval-Accuracy : 0.125\n",
      "[14, 150] \t loss: nan\tAccuracy : 0.101\t\tval-loss: nan\tval-Accuracy : 0.125\n",
      "[15, 150] \t loss: nan\tAccuracy : 0.101\t\tval-loss: nan\tval-Accuracy : 0.125\n"
     ]
    },
    {
     "ename": "KeyboardInterrupt",
     "evalue": "",
     "output_type": "error",
     "traceback": [
      "\u001b[1;31m---------------------------------------------------------------------------\u001b[0m",
      "\u001b[1;31mKeyboardInterrupt\u001b[0m                         Traceback (most recent call last)",
      "Cell \u001b[1;32mIn [14], line 58\u001b[0m\n\u001b[0;32m     55\u001b[0m label \u001b[38;5;241m=\u001b[39m label\u001b[38;5;241m.\u001b[39mto(device)\n\u001b[0;32m     57\u001b[0m \u001b[38;5;66;03m# Estimation of both feature vectors + concat\u001b[39;00m\n\u001b[1;32m---> 58\u001b[0m feat_img \u001b[38;5;241m=\u001b[39m \u001b[43mnet\u001b[49m\u001b[38;5;241;43m.\u001b[39;49m\u001b[43mFeatCNN\u001b[49m\u001b[43m(\u001b[49m\u001b[43mimg\u001b[49m\u001b[38;5;241;43m.\u001b[39;49m\u001b[43mto\u001b[49m\u001b[43m(\u001b[49m\u001b[43mtorch\u001b[49m\u001b[38;5;241;43m.\u001b[39;49m\u001b[43mfloat32\u001b[49m\u001b[43m)\u001b[49m\u001b[38;5;241;43m.\u001b[39;49m\u001b[43mto\u001b[49m\u001b[43m(\u001b[49m\u001b[43mdevice\u001b[49m\u001b[43m)\u001b[49m\u001b[43m)\u001b[49m\n\u001b[0;32m     59\u001b[0m feat_arr \u001b[38;5;241m=\u001b[39m net\u001b[38;5;241m.\u001b[39mFeatRNN(arr\u001b[38;5;241m.\u001b[39mto(torch\u001b[38;5;241m.\u001b[39mfloat32)\u001b[38;5;241m.\u001b[39mto(device))\n\u001b[0;32m     60\u001b[0m feat \u001b[38;5;241m=\u001b[39m torch\u001b[38;5;241m.\u001b[39mcat((feat_img, feat_arr), axis\u001b[38;5;241m=\u001b[39m\u001b[38;5;241m1\u001b[39m)\n",
      "File \u001b[1;32m~\\anaconda3\\envs\\eeg\\lib\\site-packages\\torch\\nn\\modules\\module.py:1190\u001b[0m, in \u001b[0;36mModule._call_impl\u001b[1;34m(self, *input, **kwargs)\u001b[0m\n\u001b[0;32m   1186\u001b[0m \u001b[38;5;66;03m# If we don't have any hooks, we want to skip the rest of the logic in\u001b[39;00m\n\u001b[0;32m   1187\u001b[0m \u001b[38;5;66;03m# this function, and just call forward.\u001b[39;00m\n\u001b[0;32m   1188\u001b[0m \u001b[38;5;28;01mif\u001b[39;00m \u001b[38;5;129;01mnot\u001b[39;00m (\u001b[38;5;28mself\u001b[39m\u001b[38;5;241m.\u001b[39m_backward_hooks \u001b[38;5;129;01mor\u001b[39;00m \u001b[38;5;28mself\u001b[39m\u001b[38;5;241m.\u001b[39m_forward_hooks \u001b[38;5;129;01mor\u001b[39;00m \u001b[38;5;28mself\u001b[39m\u001b[38;5;241m.\u001b[39m_forward_pre_hooks \u001b[38;5;129;01mor\u001b[39;00m _global_backward_hooks\n\u001b[0;32m   1189\u001b[0m         \u001b[38;5;129;01mor\u001b[39;00m _global_forward_hooks \u001b[38;5;129;01mor\u001b[39;00m _global_forward_pre_hooks):\n\u001b[1;32m-> 1190\u001b[0m     \u001b[38;5;28;01mreturn\u001b[39;00m forward_call(\u001b[38;5;241m*\u001b[39m\u001b[38;5;28minput\u001b[39m, \u001b[38;5;241m*\u001b[39m\u001b[38;5;241m*\u001b[39mkwargs)\n\u001b[0;32m   1191\u001b[0m \u001b[38;5;66;03m# Do not call functions when jit is used\u001b[39;00m\n\u001b[0;32m   1192\u001b[0m full_backward_hooks, non_full_backward_hooks \u001b[38;5;241m=\u001b[39m [], []\n",
      "File \u001b[1;32m~\\git\\EEG-emotion\\methods\\Saliency_Emotion_EEG\\Models.py:133\u001b[0m, in \u001b[0;36mFreqCNN.forward\u001b[1;34m(self, x)\u001b[0m\n\u001b[0;32m    132\u001b[0m \u001b[38;5;28;01mdef\u001b[39;00m \u001b[38;5;21mforward\u001b[39m(\u001b[38;5;28mself\u001b[39m, x):\n\u001b[1;32m--> 133\u001b[0m     x \u001b[38;5;241m=\u001b[39m \u001b[38;5;28;43mself\u001b[39;49m\u001b[38;5;241;43m.\u001b[39;49m\u001b[43mClassifierCNN\u001b[49m\u001b[43m(\u001b[49m\u001b[43mx\u001b[49m\u001b[43m)\u001b[49m\n\u001b[0;32m    134\u001b[0m     x \u001b[38;5;241m=\u001b[39m x\u001b[38;5;241m.\u001b[39mview(x\u001b[38;5;241m.\u001b[39mshape[\u001b[38;5;241m0\u001b[39m], \u001b[38;5;241m-\u001b[39m\u001b[38;5;241m1\u001b[39m)\n\u001b[0;32m    135\u001b[0m     \u001b[38;5;66;03m#x = self.ClassifierFC(x.view(x.shape[0], -1))\u001b[39;00m\n",
      "File \u001b[1;32m~\\anaconda3\\envs\\eeg\\lib\\site-packages\\torch\\nn\\modules\\module.py:1190\u001b[0m, in \u001b[0;36mModule._call_impl\u001b[1;34m(self, *input, **kwargs)\u001b[0m\n\u001b[0;32m   1186\u001b[0m \u001b[38;5;66;03m# If we don't have any hooks, we want to skip the rest of the logic in\u001b[39;00m\n\u001b[0;32m   1187\u001b[0m \u001b[38;5;66;03m# this function, and just call forward.\u001b[39;00m\n\u001b[0;32m   1188\u001b[0m \u001b[38;5;28;01mif\u001b[39;00m \u001b[38;5;129;01mnot\u001b[39;00m (\u001b[38;5;28mself\u001b[39m\u001b[38;5;241m.\u001b[39m_backward_hooks \u001b[38;5;129;01mor\u001b[39;00m \u001b[38;5;28mself\u001b[39m\u001b[38;5;241m.\u001b[39m_forward_hooks \u001b[38;5;129;01mor\u001b[39;00m \u001b[38;5;28mself\u001b[39m\u001b[38;5;241m.\u001b[39m_forward_pre_hooks \u001b[38;5;129;01mor\u001b[39;00m _global_backward_hooks\n\u001b[0;32m   1189\u001b[0m         \u001b[38;5;129;01mor\u001b[39;00m _global_forward_hooks \u001b[38;5;129;01mor\u001b[39;00m _global_forward_pre_hooks):\n\u001b[1;32m-> 1190\u001b[0m     \u001b[38;5;28;01mreturn\u001b[39;00m forward_call(\u001b[38;5;241m*\u001b[39m\u001b[38;5;28minput\u001b[39m, \u001b[38;5;241m*\u001b[39m\u001b[38;5;241m*\u001b[39mkwargs)\n\u001b[0;32m   1191\u001b[0m \u001b[38;5;66;03m# Do not call functions when jit is used\u001b[39;00m\n\u001b[0;32m   1192\u001b[0m full_backward_hooks, non_full_backward_hooks \u001b[38;5;241m=\u001b[39m [], []\n",
      "File \u001b[1;32m~\\anaconda3\\envs\\eeg\\lib\\site-packages\\torch\\nn\\modules\\container.py:204\u001b[0m, in \u001b[0;36mSequential.forward\u001b[1;34m(self, input)\u001b[0m\n\u001b[0;32m    202\u001b[0m \u001b[38;5;28;01mdef\u001b[39;00m \u001b[38;5;21mforward\u001b[39m(\u001b[38;5;28mself\u001b[39m, \u001b[38;5;28minput\u001b[39m):\n\u001b[0;32m    203\u001b[0m     \u001b[38;5;28;01mfor\u001b[39;00m module \u001b[38;5;129;01min\u001b[39;00m \u001b[38;5;28mself\u001b[39m:\n\u001b[1;32m--> 204\u001b[0m         \u001b[38;5;28minput\u001b[39m \u001b[38;5;241m=\u001b[39m \u001b[43mmodule\u001b[49m\u001b[43m(\u001b[49m\u001b[38;5;28;43minput\u001b[39;49m\u001b[43m)\u001b[49m\n\u001b[0;32m    205\u001b[0m     \u001b[38;5;28;01mreturn\u001b[39;00m \u001b[38;5;28minput\u001b[39m\n",
      "File \u001b[1;32m~\\anaconda3\\envs\\eeg\\lib\\site-packages\\torch\\nn\\modules\\module.py:1190\u001b[0m, in \u001b[0;36mModule._call_impl\u001b[1;34m(self, *input, **kwargs)\u001b[0m\n\u001b[0;32m   1186\u001b[0m \u001b[38;5;66;03m# If we don't have any hooks, we want to skip the rest of the logic in\u001b[39;00m\n\u001b[0;32m   1187\u001b[0m \u001b[38;5;66;03m# this function, and just call forward.\u001b[39;00m\n\u001b[0;32m   1188\u001b[0m \u001b[38;5;28;01mif\u001b[39;00m \u001b[38;5;129;01mnot\u001b[39;00m (\u001b[38;5;28mself\u001b[39m\u001b[38;5;241m.\u001b[39m_backward_hooks \u001b[38;5;129;01mor\u001b[39;00m \u001b[38;5;28mself\u001b[39m\u001b[38;5;241m.\u001b[39m_forward_hooks \u001b[38;5;129;01mor\u001b[39;00m \u001b[38;5;28mself\u001b[39m\u001b[38;5;241m.\u001b[39m_forward_pre_hooks \u001b[38;5;129;01mor\u001b[39;00m _global_backward_hooks\n\u001b[0;32m   1189\u001b[0m         \u001b[38;5;129;01mor\u001b[39;00m _global_forward_hooks \u001b[38;5;129;01mor\u001b[39;00m _global_forward_pre_hooks):\n\u001b[1;32m-> 1190\u001b[0m     \u001b[38;5;28;01mreturn\u001b[39;00m forward_call(\u001b[38;5;241m*\u001b[39m\u001b[38;5;28minput\u001b[39m, \u001b[38;5;241m*\u001b[39m\u001b[38;5;241m*\u001b[39mkwargs)\n\u001b[0;32m   1191\u001b[0m \u001b[38;5;66;03m# Do not call functions when jit is used\u001b[39;00m\n\u001b[0;32m   1192\u001b[0m full_backward_hooks, non_full_backward_hooks \u001b[38;5;241m=\u001b[39m [], []\n",
      "File \u001b[1;32m~\\anaconda3\\envs\\eeg\\lib\\site-packages\\torch\\nn\\modules\\conv.py:463\u001b[0m, in \u001b[0;36mConv2d.forward\u001b[1;34m(self, input)\u001b[0m\n\u001b[0;32m    462\u001b[0m \u001b[38;5;28;01mdef\u001b[39;00m \u001b[38;5;21mforward\u001b[39m(\u001b[38;5;28mself\u001b[39m, \u001b[38;5;28minput\u001b[39m: Tensor) \u001b[38;5;241m-\u001b[39m\u001b[38;5;241m>\u001b[39m Tensor:\n\u001b[1;32m--> 463\u001b[0m     \u001b[38;5;28;01mreturn\u001b[39;00m \u001b[38;5;28;43mself\u001b[39;49m\u001b[38;5;241;43m.\u001b[39;49m\u001b[43m_conv_forward\u001b[49m\u001b[43m(\u001b[49m\u001b[38;5;28;43minput\u001b[39;49m\u001b[43m,\u001b[49m\u001b[43m \u001b[49m\u001b[38;5;28;43mself\u001b[39;49m\u001b[38;5;241;43m.\u001b[39;49m\u001b[43mweight\u001b[49m\u001b[43m,\u001b[49m\u001b[43m \u001b[49m\u001b[38;5;28;43mself\u001b[39;49m\u001b[38;5;241;43m.\u001b[39;49m\u001b[43mbias\u001b[49m\u001b[43m)\u001b[49m\n",
      "File \u001b[1;32m~\\anaconda3\\envs\\eeg\\lib\\site-packages\\torch\\nn\\modules\\conv.py:459\u001b[0m, in \u001b[0;36mConv2d._conv_forward\u001b[1;34m(self, input, weight, bias)\u001b[0m\n\u001b[0;32m    455\u001b[0m \u001b[38;5;28;01mif\u001b[39;00m \u001b[38;5;28mself\u001b[39m\u001b[38;5;241m.\u001b[39mpadding_mode \u001b[38;5;241m!=\u001b[39m \u001b[38;5;124m'\u001b[39m\u001b[38;5;124mzeros\u001b[39m\u001b[38;5;124m'\u001b[39m:\n\u001b[0;32m    456\u001b[0m     \u001b[38;5;28;01mreturn\u001b[39;00m F\u001b[38;5;241m.\u001b[39mconv2d(F\u001b[38;5;241m.\u001b[39mpad(\u001b[38;5;28minput\u001b[39m, \u001b[38;5;28mself\u001b[39m\u001b[38;5;241m.\u001b[39m_reversed_padding_repeated_twice, mode\u001b[38;5;241m=\u001b[39m\u001b[38;5;28mself\u001b[39m\u001b[38;5;241m.\u001b[39mpadding_mode),\n\u001b[0;32m    457\u001b[0m                     weight, bias, \u001b[38;5;28mself\u001b[39m\u001b[38;5;241m.\u001b[39mstride,\n\u001b[0;32m    458\u001b[0m                     _pair(\u001b[38;5;241m0\u001b[39m), \u001b[38;5;28mself\u001b[39m\u001b[38;5;241m.\u001b[39mdilation, \u001b[38;5;28mself\u001b[39m\u001b[38;5;241m.\u001b[39mgroups)\n\u001b[1;32m--> 459\u001b[0m \u001b[38;5;28;01mreturn\u001b[39;00m \u001b[43mF\u001b[49m\u001b[38;5;241;43m.\u001b[39;49m\u001b[43mconv2d\u001b[49m\u001b[43m(\u001b[49m\u001b[38;5;28;43minput\u001b[39;49m\u001b[43m,\u001b[49m\u001b[43m \u001b[49m\u001b[43mweight\u001b[49m\u001b[43m,\u001b[49m\u001b[43m \u001b[49m\u001b[43mbias\u001b[49m\u001b[43m,\u001b[49m\u001b[43m \u001b[49m\u001b[38;5;28;43mself\u001b[39;49m\u001b[38;5;241;43m.\u001b[39;49m\u001b[43mstride\u001b[49m\u001b[43m,\u001b[49m\n\u001b[0;32m    460\u001b[0m \u001b[43m                \u001b[49m\u001b[38;5;28;43mself\u001b[39;49m\u001b[38;5;241;43m.\u001b[39;49m\u001b[43mpadding\u001b[49m\u001b[43m,\u001b[49m\u001b[43m \u001b[49m\u001b[38;5;28;43mself\u001b[39;49m\u001b[38;5;241;43m.\u001b[39;49m\u001b[43mdilation\u001b[49m\u001b[43m,\u001b[49m\u001b[43m \u001b[49m\u001b[38;5;28;43mself\u001b[39;49m\u001b[38;5;241;43m.\u001b[39;49m\u001b[43mgroups\u001b[49m\u001b[43m)\u001b[49m\n",
      "\u001b[1;31mKeyboardInterrupt\u001b[0m: "
     ]
    }
   ],
   "source": [
    "for p in range(len(np.unique(Participant))):\n",
    "    print(\"Training participant \", p)\n",
    "\n",
    "    #Splitting in Train and Testing Set\n",
    "    idx = np.argwhere(Participant == p)[:, 0]\n",
    "    np.random.shuffle(idx)\n",
    "    Test = Subset(Dataset, idx)\n",
    "    idx = np.argwhere(Participant != p)[:, 0]\n",
    "    np.random.shuffle(idx)\n",
    "    Train = Subset(Dataset, idx)\n",
    "\n",
    "    #Train Test Loader Pytorch\n",
    "    Trainloader = DataLoader(Train, batch_size=128, shuffle=False)\n",
    "    Testloader = DataLoader(Test, batch_size=128, shuffle=False)\n",
    "\n",
    "    #Set training parameters\n",
    "    lr = 1e-3\n",
    "    wd = 1e-4\n",
    "    mom= 0.9\n",
    "\n",
    "    net = MultiModel(X_image).to(device)\n",
    "    #optimizer = optim.SGD(net.parameters(), lr=lr, momentum=mom,  weight_decay=wd)\n",
    "    optimizer = optim.Adam(net.parameters(), lr=lr,  weight_decay=wd)\n",
    "\n",
    "    Res = []\n",
    "\n",
    "    validation_loss = 0.0\n",
    "    validation_acc = 0.0\n",
    "\n",
    "    for epoch in range(n_epoch):\n",
    "        running_loss = 0.0\n",
    "        evaluation = []\n",
    "\n",
    "        #Training\n",
    "        net.train()\n",
    "        for i, data, data_test in iter_over(Trainloader, Testloader):\n",
    "            source_img, source_arr, label = data #signals from training\n",
    "            target_img, target_arr, _ = data_test #signals with unknwon label\n",
    "\n",
    "            # Image Representaion + multiplication with gain matrix from saliency\n",
    "            img = torch.cat([source_img, target_img])\n",
    "            img = img * mutl_img\n",
    "            img = img.to(device)\n",
    "\n",
    "            # Array Representation\n",
    "            arr = torch.cat([source_arr, target_arr])\n",
    "            arr = arr.to(device)\n",
    "\n",
    "            # True Domain\n",
    "            domain_y = torch.cat([torch.ones(source_img.shape[0]),\n",
    "                                  torch.zeros(target_img.shape[0])])\n",
    "            domain_y = domain_y.to(device)\n",
    "\n",
    "            # True Label\n",
    "            label = label.to(device)\n",
    "\n",
    "            # Estimation of both feature vectors + concat\n",
    "            feat_img = net.FeatCNN(img.to(torch.float32).to(device))\n",
    "            feat_arr = net.FeatRNN(arr.to(torch.float32).to(device))\n",
    "            feat = torch.cat((feat_img, feat_arr), axis=1)\n",
    "\n",
    "            # Domain and Label prediction\n",
    "            domain_pred = net.Discriminator(feat).squeeze()\n",
    "            label_pred = net.ClassifierFC(feat[:source_img.shape[0]])\n",
    "\n",
    "            # Loss Computing\n",
    "            domain_loss = F.binary_cross_entropy_with_logits(domain_pred, domain_y)\n",
    "            label_loss = F.cross_entropy(label_pred, label.long())\n",
    "\n",
    "            # Loss Backward\n",
    "            optimizer.zero_grad()\n",
    "            loss = domain_loss + label_loss\n",
    "            loss.backward()\n",
    "            optimizer.step()\n",
    "            running_loss += label_loss.item()\n",
    "\n",
    "            # Prediction and Accuracy\n",
    "            _, predicted = torch.max(label_pred, 1)\n",
    "            num_of_true = torch.sum(predicted == label)\n",
    "            mean = num_of_true/label.shape[0]\n",
    "            evaluation.append(mean)\n",
    "\n",
    "        running_loss = running_loss / (i + 1)\n",
    "        running_acc = sum(evaluation) / len(evaluation)\n",
    "\n",
    "        evaluation = []\n",
    "\n",
    "        #Evaluation\n",
    "        net.eval()\n",
    "        for j, data in enumerate(Testloader, 0):\n",
    "            img, arr, label = data\n",
    "\n",
    "            # Prediction\n",
    "            pred = net(img.to(torch.float32).to(device), arr.to(torch.float32).to(device))\n",
    "            loss = F.cross_entropy(pred, label.to(device).long())\n",
    "\n",
    "            # Loss\n",
    "            validation_loss += loss.item()\n",
    "\n",
    "            # Accuracy\n",
    "            _, predicted = torch.max(pred.cpu().data, 1)\n",
    "            evaluation.append((predicted == label).tolist())\n",
    "\n",
    "            # Updating the saliency of RNN\n",
    "            X = arr.to(torch.float32).to(device)\n",
    "            X.requires_grad_()\n",
    "            net.train()\n",
    "            scores = net.FeatRNN(X)\n",
    "            score_max_index = scores.mean(axis=0).argmax()\n",
    "            score_max = scores[0,score_max_index]\n",
    "            score_max.backward()\n",
    "            net.eval()\n",
    "            saliency, _ = torch.max(X.grad.data.abs(),dim=2)\n",
    "            saliency = saliency.mean(axis=0).cpu().detach().numpy()\n",
    "            saliency[np.isnan(saliency)] = 0\n",
    "            saliency = gen_images(np.asarray(locs_2d), saliency.reshape((1,62)), 32)[0,0]\n",
    "            saliency = np.stack(X_image.shape[1]*[saliency])\n",
    "            saliency[np.isnan(saliency)] = 0\n",
    "            saliency = saliency**2\n",
    "            saliency = (saliency/saliency.max()+0.05)*2\n",
    "            mutl_img = torch.from_numpy(saliency)\n",
    "\n",
    "        validation_loss = validation_loss /(j+1)\n",
    "        evaluation = [item for sublist in evaluation for item in sublist]\n",
    "        validation_acc = sum(evaluation) / len(evaluation)\n",
    "\n",
    "        print('[%d, %3d] \\t loss: %.3f\\tAccuracy : %.3f\\t\\tval-loss: %.3f\\tval-Accuracy : %.3f' %\n",
    "                      (epoch + 1, n_epoch, running_loss, running_acc, validation_loss, validation_acc))\n",
    "\n",
    "        Res.append((epoch + 1, n_epoch, running_loss, running_acc, validation_loss, validation_acc))\n",
    "    path =  'res/sub'+str(p)+'/'\n",
    "    np.save(path+'rec_'+str(len(glob.glob(path+'*.npy')))+'_lr_'+str(lr)+'_wd_'+str(wd)+'_mom_'+str(mom), Res)\n",
    "    print('End after_'+str(np.round(time.time() - t, 3))+'\\n')\n",
    "    t = time.time()"
   ]
  },
  {
   "cell_type": "code",
   "execution_count": null,
   "id": "0aac45b1",
   "metadata": {},
   "outputs": [],
   "source": []
  },
  {
   "cell_type": "code",
   "execution_count": null,
   "id": "d30b15d7",
   "metadata": {},
   "outputs": [],
   "source": []
  }
 ],
 "metadata": {
  "kernelspec": {
   "display_name": "Python 3 (ipykernel)",
   "language": "python",
   "name": "python3"
  },
  "language_info": {
   "codemirror_mode": {
    "name": "ipython",
    "version": 3
   },
   "file_extension": ".py",
   "mimetype": "text/x-python",
   "name": "python",
   "nbconvert_exporter": "python",
   "pygments_lexer": "ipython3",
   "version": "3.10.6"
  }
 },
 "nbformat": 4,
 "nbformat_minor": 5
}
